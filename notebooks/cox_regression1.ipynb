{
 "cells": [
  {
   "cell_type": "markdown",
   "metadata": {},
   "source": [
    "# Smoking Cessation Study - Cox regression"
   ]
  },
  {
   "cell_type": "code",
   "execution_count": 27,
   "metadata": {
    "collapsed": false
   },
   "outputs": [
    {
     "name": "stdout",
     "output_type": "stream",
     "text": [
      "'data.frame':\t436 obs. of  15 variables:\n",
      " $ X                     : int  0 1 2 3 4 5 6 7 8 9 ...\n",
      " $ CallDayNumber         : num  86 86 86 86 86 86 86 86 86 86 ...\n",
      " $ firstcigarettereported: num  2 2 2 2 2 2 2 2 2 2 ...\n",
      " $ baseline_b1_001       : num  2 5 2 5 2 2 4 1 5 5 ...\n",
      " $ baseline_c1_001       : num  4 5 5 4 4 4 3 4 5 5 ...\n",
      " $ baseline_d1_001       : num  4 4 2 4 4 4 2 4 4 5 ...\n",
      " $ baseline_b1_002       : num  2 5 2 5 4 2 3 4 4 5 ...\n",
      " $ baseline_c1_002       : num  4 5 5 5 4 5 3 4 4 5 ...\n",
      " $ baseline_d1_002       : num  4 3 4 4 4 4 2 3 4 5 ...\n",
      " $ baseline_b1_003       : num  4 1 4 3 2 4 3 4 5 1 ...\n",
      " $ baseline_c1_003       : num  2 1 1 1 2 2 3 4 5 1 ...\n",
      " $ baseline_d1_003       : num  2 3 2 1 3 2 3 4 5 1 ...\n",
      " $ baseline_b1_004       : num  2 5 1 2 2 2 3 1 4 5 ...\n",
      " $ baseline_c1_004       : num  4 4 3 1 4 4 3 1 4 5 ...\n",
      " $ baseline_d1_004       : num  4 3 4 4 3 4 3 4 3 5 ...\n"
     ]
    }
   ],
   "source": [
    "library(survival)\n",
    "\n",
    "sdf = read.csv(\"../savrw2_survival_data.csv\",na.strings=\"9999.0\")    #read the output from the savrw2 notebook\n",
    "str(sdf)"
   ]
  },
  {
   "cell_type": "markdown",
   "metadata": {},
   "source": [
    "## Counts by day of call"
   ]
  },
  {
   "cell_type": "code",
   "execution_count": 28,
   "metadata": {
    "collapsed": false
   },
   "outputs": [
    {
     "data": {
      "text/plain": [
       "day\n",
       "  1   2   3   4   5   6   7   8   9  10  11  12  14  16  17  18  19  24  25  26 \n",
       "119  83  36  16  10  12   6   5  10   3   1   3   2   2   3   1   1   2   1   1 \n",
       " 27  28  30  31  32  36  38  41  48  52  59  60  63  71  86 \n",
       "  1   2   1   1   2   2   1   2   1   1   1   1   1   1  41 "
      ]
     },
     "metadata": {},
     "output_type": "display_data"
    }
   ],
   "source": [
    "day             = sdf$CallDayNumber\n",
    "table(day)"
   ]
  },
  {
   "cell_type": "markdown",
   "metadata": {},
   "source": [
    "## Counts by firstcigarettereported code"
   ]
  },
  {
   "cell_type": "code",
   "execution_count": 29,
   "metadata": {
    "collapsed": false
   },
   "outputs": [
    {
     "data": {
      "text/plain": [
       "fcr_code\n",
       "  0   1   2 \n",
       " 62 335  39 "
      ]
     },
     "metadata": {},
     "output_type": "display_data"
    }
   ],
   "source": [
    "fcr_code        = sdf$firstcigarettereported       \n",
    "table(fcr_code)"
   ]
  },
  {
   "cell_type": "markdown",
   "metadata": {},
   "source": [
    "## \"Something is seriously wrong\"  (using sum of three values)"
   ]
  },
  {
   "cell_type": "code",
   "execution_count": 30,
   "metadata": {
    "collapsed": false
   },
   "outputs": [
    {
     "data": {
      "text/plain": [
       "seriously_wrong\n",
       " 3  4  5  6  7  8  9 10 11 12 13 14 15 \n",
       " 8  1  6 15 18 15 35 50 60 63 55 45 58 "
      ]
     },
     "metadata": {},
     "output_type": "display_data"
    }
   ],
   "source": [
    "seriously_wrong = sdf$baseline_b1_001 + sdf$baseline_c1_001 + sdf$baseline_d1_001\n",
    "table(seriously_wrong)"
   ]
  },
  {
   "cell_type": "markdown",
   "metadata": {},
   "source": [
    "## \"I am pretty sick\"  (using sum of three values)"
   ]
  },
  {
   "cell_type": "code",
   "execution_count": 31,
   "metadata": {
    "collapsed": false
   },
   "outputs": [
    {
     "data": {
      "text/plain": [
       "pretty_sick\n",
       " 3  4  5  6  7  8  9 10 11 12 13 14 15 \n",
       " 9  4 12 17 17 28 36 52 58 75 40 36 45 "
      ]
     },
     "metadata": {},
     "output_type": "display_data"
    }
   ],
   "source": [
    "pretty_sick     = sdf$baseline_b1_002 +sdf$baseline_c1_002 + sdf$baseline_d1_002\n",
    "table(pretty_sick)"
   ]
  },
  {
   "cell_type": "markdown",
   "metadata": {},
   "source": [
    "## \"My illness is minor\"  (using sum of three values)"
   ]
  },
  {
   "cell_type": "code",
   "execution_count": 32,
   "metadata": {
    "collapsed": false
   },
   "outputs": [
    {
     "data": {
      "text/plain": [
       "minor_illness\n",
       " 3  4  5  6  7  8  9 10 11 12 13 14 15 \n",
       "57 36 41 63 58 48 45 31 22 19  3  2  4 "
      ]
     },
     "metadata": {},
     "output_type": "display_data"
    }
   ],
   "source": [
    "minor_illness   = sdf$baseline_b1_003 + sdf$baseline_c1_003 + sdf$baseline_d1_003\n",
    "table(minor_illness)"
   ]
  },
  {
   "cell_type": "markdown",
   "metadata": {},
   "source": [
    "## \"I have a life threatening illness\"  (using sum of three values)"
   ]
  },
  {
   "cell_type": "code",
   "execution_count": 33,
   "metadata": {
    "collapsed": false
   },
   "outputs": [
    {
     "data": {
      "text/plain": [
       "life_threat\n",
       " 3  4  5  6  7  8  9 10 11 12 13 14 15 \n",
       "25  8 16 38 34 44 41 40 33 46 33 26 45 "
      ]
     },
     "metadata": {},
     "output_type": "display_data"
    }
   ],
   "source": [
    "life_threat     = sdf$baseline_b1_004 + sdf$baseline_c1_004 + sdf$baseline_d1_004\n",
    "table(life_threat)"
   ]
  },
  {
   "cell_type": "markdown",
   "metadata": {},
   "source": [
    "## Set up event flags for survival analysis"
   ]
  },
  {
   "cell_type": "code",
   "execution_count": 34,
   "metadata": {
    "collapsed": false
   },
   "outputs": [
    {
     "name": "stdout",
     "output_type": "stream",
     "text": [
      "'data.frame':\t374 obs. of  7 variables:\n",
      " $ event          : num  0 0 0 0 0 0 0 0 0 0 ...\n",
      " $ day            : num  86 86 86 86 86 86 86 86 86 86 ...\n",
      " $ fcr_code       : num  2 2 2 2 2 2 2 2 2 2 ...\n",
      " $ seriously_wrong: num  10 14 9 13 10 10 9 9 14 15 ...\n",
      " $ pretty_sick    : num  10 13 11 14 12 11 8 11 12 15 ...\n",
      " $ minor_illness  : num  8 5 7 5 7 8 9 12 15 3 ...\n",
      " $ life_threat    : num  10 12 8 7 9 10 9 6 11 15 ...\n"
     ]
    }
   ],
   "source": [
    "event = 2 - fcr_code            #event code is 0 for right censor, 1 for event on the day specified\n",
    "\n",
    "sdf2=data.frame(event,day,fcr_code,seriously_wrong,pretty_sick,minor_illness,life_threat)\n",
    "surv_data = sdf2[sdf2$fcr_code>0,]\n",
    "str(surv_data)"
   ]
  },
  {
   "cell_type": "markdown",
   "metadata": {},
   "source": [
    "   ## Cox regression with all four predictors"
   ]
  },
  {
   "cell_type": "code",
   "execution_count": 35,
   "metadata": {
    "collapsed": false
   },
   "outputs": [
    {
     "data": {
      "text/plain": [
       "Call:\n",
       "coxph(formula = Surv(day, event) ~ seriously_wrong + pretty_sick + \n",
       "    minor_illness + life_threat, data = surv_data, method = \"efron\")\n",
       "\n",
       "                    coef exp(coef) se(coef)     z     p\n",
       "seriously_wrong  0.05080   1.05211  0.02800  1.81 0.070\n",
       "pretty_sick     -0.06472   0.93733  0.02580 -2.51 0.012\n",
       "minor_illness   -0.00393   0.99608  0.02338 -0.17 0.867\n",
       "life_threat     -0.02253   0.97772  0.01981 -1.14 0.255\n",
       "\n",
       "Likelihood ratio test=8.27  on 4 df, p=0.0822\n",
       "n= 370, number of events= 331 \n",
       "   (4 observations deleted due to missingness)"
      ]
     },
     "metadata": {},
     "output_type": "display_data"
    },
    {
     "data": {
      "text/plain": [
       "Call:\n",
       "coxph(formula = Surv(day, event) ~ seriously_wrong + pretty_sick + \n",
       "    minor_illness + life_threat, data = surv_data, method = \"efron\")\n",
       "\n",
       "  n= 370, number of events= 331 \n",
       "   (4 observations deleted due to missingness)\n",
       "\n",
       "                     coef exp(coef)  se(coef)      z Pr(>|z|)  \n",
       "seriously_wrong  0.050800  1.052112  0.028003  1.814   0.0697 .\n",
       "pretty_sick     -0.064718  0.937332  0.025802 -2.508   0.0121 *\n",
       "minor_illness   -0.003928  0.996080  0.023384 -0.168   0.8666  \n",
       "life_threat     -0.022533  0.977719  0.019814 -1.137   0.2554  \n",
       "---\n",
       "Signif. codes:  0 ‘***’ 0.001 ‘**’ 0.01 ‘*’ 0.05 ‘.’ 0.1 ‘ ’ 1\n",
       "\n",
       "                exp(coef) exp(-coef) lower .95 upper .95\n",
       "seriously_wrong    1.0521     0.9505    0.9959     1.111\n",
       "pretty_sick        0.9373     1.0669    0.8911     0.986\n",
       "minor_illness      0.9961     1.0039    0.9515     1.043\n",
       "life_threat        0.9777     1.0228    0.9405     1.016\n",
       "\n",
       "Concordance= 0.572  (se = 0.025 )\n",
       "Rsquare= 0.022   (max possible= 1 )\n",
       "Likelihood ratio test= 8.27  on 4 df,   p=0.08225\n",
       "Wald test            = 8.76  on 4 df,   p=0.0675\n",
       "Score (logrank) test = 8.78  on 4 df,   p=0.06696\n"
      ]
     },
     "metadata": {},
     "output_type": "display_data"
    }
   ],
   "source": [
    "cr = coxph(Surv(day,event) ~ seriously_wrong + pretty_sick + minor_illness + life_threat,data=surv_data,method=\"efron\")\n",
    "cr\n",
    "summary(cr)"
   ]
  },
  {
   "cell_type": "markdown",
   "metadata": {},
   "source": [
    "   ## Cox regression with only \"I am pretty sick\""
   ]
  },
  {
   "cell_type": "code",
   "execution_count": 36,
   "metadata": {
    "collapsed": false
   },
   "outputs": [
    {
     "data": {
      "text/plain": [
       "Call:\n",
       "coxph(formula = Surv(day, event) ~ pretty_sick, data = surv_data, \n",
       "    method = \"efron\")\n",
       "\n",
       "               coef exp(coef) se(coef)     z     p\n",
       "pretty_sick -0.0399    0.9609   0.0183 -2.18 0.029\n",
       "\n",
       "Likelihood ratio test=4.63  on 1 df, p=0.0314\n",
       "n= 370, number of events= 331 \n",
       "   (4 observations deleted due to missingness)"
      ]
     },
     "metadata": {},
     "output_type": "display_data"
    },
    {
     "data": {
      "text/plain": [
       "Call:\n",
       "coxph(formula = Surv(day, event) ~ pretty_sick, data = surv_data, \n",
       "    method = \"efron\")\n",
       "\n",
       "  n= 370, number of events= 331 \n",
       "   (4 observations deleted due to missingness)\n",
       "\n",
       "                coef exp(coef) se(coef)      z Pr(>|z|)  \n",
       "pretty_sick -0.03990   0.96089  0.01828 -2.183   0.0291 *\n",
       "---\n",
       "Signif. codes:  0 ‘***’ 0.001 ‘**’ 0.01 ‘*’ 0.05 ‘.’ 0.1 ‘ ’ 1\n",
       "\n",
       "            exp(coef) exp(-coef) lower .95 upper .95\n",
       "pretty_sick    0.9609      1.041    0.9271    0.9959\n",
       "\n",
       "Concordance= 0.559  (se = 0.024 )\n",
       "Rsquare= 0.012   (max possible= 1 )\n",
       "Likelihood ratio test= 4.63  on 1 df,   p=0.03141\n",
       "Wald test            = 4.76  on 1 df,   p=0.02906\n",
       "Score (logrank) test = 4.77  on 1 df,   p=0.02894\n"
      ]
     },
     "metadata": {},
     "output_type": "display_data"
    }
   ],
   "source": [
    "cr = coxph(Surv(day,event) ~ pretty_sick,data=surv_data,method=\"efron\")\n",
    "cr\n",
    "summary(cr)"
   ]
  },
  {
   "cell_type": "markdown",
   "metadata": {},
   "source": [
    "   ## Cox regression with only \"Something is seriously wrong\""
   ]
  },
  {
   "cell_type": "code",
   "execution_count": 37,
   "metadata": {
    "collapsed": false
   },
   "outputs": [
    {
     "data": {
      "text/plain": [
       "Call:\n",
       "coxph(formula = Surv(day, event) ~ seriously_wrong, data = surv_data, \n",
       "    method = \"efron\")\n",
       "\n",
       "                    coef exp(coef) se(coef)     z    p\n",
       "seriously_wrong -0.00822   0.99181  0.01879 -0.44 0.66\n",
       "\n",
       "Likelihood ratio test=0.19  on 1 df, p=0.663\n",
       "n= 370, number of events= 331 \n",
       "   (4 observations deleted due to missingness)"
      ]
     },
     "metadata": {},
     "output_type": "display_data"
    },
    {
     "data": {
      "text/plain": [
       "Call:\n",
       "coxph(formula = Surv(day, event) ~ seriously_wrong, data = surv_data, \n",
       "    method = \"efron\")\n",
       "\n",
       "  n= 370, number of events= 331 \n",
       "   (4 observations deleted due to missingness)\n",
       "\n",
       "                     coef exp(coef)  se(coef)      z Pr(>|z|)\n",
       "seriously_wrong -0.008219  0.991815  0.018789 -0.437    0.662\n",
       "\n",
       "                exp(coef) exp(-coef) lower .95 upper .95\n",
       "seriously_wrong    0.9918      1.008     0.956     1.029\n",
       "\n",
       "Concordance= 0.52  (se = 0.024 )\n",
       "Rsquare= 0.001   (max possible= 1 )\n",
       "Likelihood ratio test= 0.19  on 1 df,   p=0.6628\n",
       "Wald test            = 0.19  on 1 df,   p=0.6618\n",
       "Score (logrank) test = 0.19  on 1 df,   p=0.6618\n"
      ]
     },
     "metadata": {},
     "output_type": "display_data"
    }
   ],
   "source": [
    "cr = coxph(Surv(day,event) ~ seriously_wrong,data=surv_data,method=\"efron\")\n",
    "cr\n",
    "summary(cr)"
   ]
  },
  {
   "cell_type": "markdown",
   "metadata": {},
   "source": [
    "Note:  The n value and number of events were reduced slightly because predictors are missing in a few cases"
   ]
  },
  {
   "cell_type": "markdown",
   "metadata": {},
   "source": [
    "   ## Cox regression with only \"My illness is minor\""
   ]
  },
  {
   "cell_type": "code",
   "execution_count": 38,
   "metadata": {
    "collapsed": false
   },
   "outputs": [
    {
     "data": {
      "text/plain": [
       "Call:\n",
       "coxph(formula = Surv(day, event) ~ minor_illness, data = surv_data, \n",
       "    method = \"efron\")\n",
       "\n",
       "                coef exp(coef) se(coef)    z   p\n",
       "minor_illness 0.0161    1.0162   0.0192 0.84 0.4\n",
       "\n",
       "Likelihood ratio test=0.7  on 1 df, p=0.404\n",
       "n= 370, number of events= 331 \n",
       "   (4 observations deleted due to missingness)"
      ]
     },
     "metadata": {},
     "output_type": "display_data"
    },
    {
     "data": {
      "text/plain": [
       "Call:\n",
       "coxph(formula = Surv(day, event) ~ minor_illness, data = surv_data, \n",
       "    method = \"efron\")\n",
       "\n",
       "  n= 370, number of events= 331 \n",
       "   (4 observations deleted due to missingness)\n",
       "\n",
       "                 coef exp(coef) se(coef)     z Pr(>|z|)\n",
       "minor_illness 0.01608   1.01621  0.01921 0.837    0.403\n",
       "\n",
       "              exp(coef) exp(-coef) lower .95 upper .95\n",
       "minor_illness     1.016      0.984    0.9787     1.055\n",
       "\n",
       "Concordance= 0.528  (se = 0.024 )\n",
       "Rsquare= 0.002   (max possible= 1 )\n",
       "Likelihood ratio test= 0.7  on 1 df,   p=0.4043\n",
       "Wald test            = 0.7  on 1 df,   p=0.4026\n",
       "Score (logrank) test = 0.7  on 1 df,   p=0.4026\n"
      ]
     },
     "metadata": {},
     "output_type": "display_data"
    }
   ],
   "source": [
    "cr = coxph(Surv(day,event) ~ minor_illness,data=surv_data,method=\"efron\")\n",
    "cr\n",
    "summary(cr)"
   ]
  },
  {
   "cell_type": "markdown",
   "metadata": {},
   "source": [
    "   ## Cox regression with only \"I have a life-threating illness\""
   ]
  },
  {
   "cell_type": "code",
   "execution_count": 39,
   "metadata": {
    "collapsed": false
   },
   "outputs": [
    {
     "data": {
      "text/plain": [
       "Call:\n",
       "coxph(formula = Surv(day, event) ~ life_threat, data = surv_data, \n",
       "    method = \"efron\")\n",
       "\n",
       "               coef exp(coef) se(coef)    z    p\n",
       "life_threat -0.0222    0.9780   0.0159 -1.4 0.16\n",
       "\n",
       "Likelihood ratio test=1.95  on 1 df, p=0.162\n",
       "n= 370, number of events= 331 \n",
       "   (4 observations deleted due to missingness)"
      ]
     },
     "metadata": {},
     "output_type": "display_data"
    },
    {
     "data": {
      "text/plain": [
       "Call:\n",
       "coxph(formula = Surv(day, event) ~ life_threat, data = surv_data, \n",
       "    method = \"efron\")\n",
       "\n",
       "  n= 370, number of events= 331 \n",
       "   (4 observations deleted due to missingness)\n",
       "\n",
       "                coef exp(coef) se(coef)      z Pr(>|z|)\n",
       "life_threat -0.02223   0.97801  0.01590 -1.398    0.162\n",
       "\n",
       "            exp(coef) exp(-coef) lower .95 upper .95\n",
       "life_threat     0.978      1.022     0.948     1.009\n",
       "\n",
       "Concordance= 0.54  (se = 0.025 )\n",
       "Rsquare= 0.005   (max possible= 1 )\n",
       "Likelihood ratio test= 1.95  on 1 df,   p=0.1625\n",
       "Wald test            = 1.96  on 1 df,   p=0.162\n",
       "Score (logrank) test = 1.96  on 1 df,   p=0.1618\n"
      ]
     },
     "metadata": {},
     "output_type": "display_data"
    }
   ],
   "source": [
    "cr = coxph(Surv(day,event) ~ life_threat,data=surv_data,method=\"efron\")\n",
    "cr\n",
    "summary(cr)"
   ]
  },
  {
   "cell_type": "code",
   "execution_count": null,
   "metadata": {
    "collapsed": true
   },
   "outputs": [],
   "source": []
  }
 ],
 "metadata": {
  "kernelspec": {
   "display_name": "R",
   "language": "R",
   "name": "ir"
  },
  "language_info": {
   "codemirror_mode": "r",
   "file_extension": ".r",
   "mimetype": "text/x-r-source",
   "name": "R",
   "pygments_lexer": "r",
   "version": "3.3.2"
  }
 },
 "nbformat": 4,
 "nbformat_minor": 2
}
