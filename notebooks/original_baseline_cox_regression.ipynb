{
 "cells": [
  {
   "cell_type": "markdown",
   "metadata": {},
   "source": [
    "# Smoking Cessation Study - Cox regression"
   ]
  },
  {
   "cell_type": "code",
   "execution_count": 26,
   "metadata": {},
   "outputs": [
    {
     "name": "stdout",
     "output_type": "stream",
     "text": [
      "'data.frame':\t436 obs. of  18 variables:\n",
      " $ X                     : int  0 1 2 3 4 5 6 7 8 9 ...\n",
      " $ CallDayNumber         : num  86 86 86 86 86 86 86 86 86 86 ...\n",
      " $ firstcigarettereported: num  2 2 2 2 2 2 2 2 2 2 ...\n",
      " $ baseline_b1_001       : num  2 5 2 5 2 2 4 1 5 5 ...\n",
      " $ baseline_c1_001       : num  4 5 5 4 4 4 3 4 5 5 ...\n",
      " $ baseline_d1_001       : num  4 4 2 4 4 4 2 4 4 5 ...\n",
      " $ baseline_b1_002       : num  2 5 2 5 4 2 3 4 4 5 ...\n",
      " $ baseline_c1_002       : num  4 5 5 5 4 5 3 4 4 5 ...\n",
      " $ baseline_d1_002       : num  4 3 4 4 4 4 2 3 4 5 ...\n",
      " $ baseline_b1_003       : num  4 1 4 3 2 4 3 4 5 1 ...\n",
      " $ baseline_c1_003       : num  2 1 1 1 2 2 3 4 5 1 ...\n",
      " $ baseline_d1_003       : num  2 3 2 1 3 2 3 4 5 1 ...\n",
      " $ baseline_b1_004       : num  2 5 1 2 2 2 3 1 4 5 ...\n",
      " $ baseline_c1_004       : num  4 4 3 1 4 4 3 1 4 5 ...\n",
      " $ baseline_d1_004       : num  4 3 4 4 3 4 3 4 3 5 ...\n",
      " $ V37                   : num  NA NA NA NA NA NA NA NA NA NA ...\n",
      " $ V70                   : num  NA NA NA NA NA NA NA NA NA NA ...\n",
      " $ V112                  : num  NA NA NA NA NA NA NA NA NA NA ...\n"
     ]
    }
   ],
   "source": [
    "library(survival)\n",
    "\n",
    "sdf = read.csv(\"../savrw2_survival_data_V2-Copy1.csv\",na.strings=\"9999.0\")    #read the output from the savrw2 notebook\n",
    "str(sdf)"
   ]
  },
  {
   "cell_type": "code",
   "execution_count": 49,
   "metadata": {},
   "outputs": [
    {
     "name": "stdout",
     "output_type": "stream",
     "text": [
      "'data.frame':\t436 obs. of  15 variables:\n",
      " $ X                     : int  0 1 2 3 4 5 6 7 8 9 ...\n",
      " $ CallDayNumber         : num  86 86 86 86 86 86 86 86 86 86 ...\n",
      " $ firstcigarettereported: num  2 2 2 2 2 2 2 2 2 2 ...\n",
      " $ baseline_b1_001       : num  2 5 2 5 2 2 4 1 5 5 ...\n",
      " $ baseline_c1_001       : num  4 5 5 4 4 4 3 4 5 5 ...\n",
      " $ baseline_d1_001       : num  4 4 2 4 4 4 2 4 4 5 ...\n",
      " $ baseline_b1_002       : num  2 5 2 5 4 2 3 4 4 5 ...\n",
      " $ baseline_c1_002       : num  4 5 5 5 4 5 3 4 4 5 ...\n",
      " $ baseline_d1_002       : num  4 3 4 4 4 4 2 3 4 5 ...\n",
      " $ baseline_b1_003       : num  4 1 4 3 2 4 3 4 5 1 ...\n",
      " $ baseline_c1_003       : num  2 1 1 1 2 2 3 4 5 1 ...\n",
      " $ baseline_d1_003       : num  2 3 2 1 3 2 3 4 5 1 ...\n",
      " $ baseline_b1_004       : num  2 5 1 2 2 2 3 1 4 5 ...\n",
      " $ baseline_c1_004       : num  4 4 3 1 4 4 3 1 4 5 ...\n",
      " $ baseline_d1_004       : num  4 3 4 4 3 4 3 4 3 5 ...\n"
     ]
    }
   ],
   "source": [
    "sdf <-  sdf[,-which(names(sdf) %in% c(\"V37\",\"V70\",\"V112\"))]\n",
    "str(sdf)"
   ]
  },
  {
   "cell_type": "code",
   "execution_count": 50,
   "metadata": {},
   "outputs": [
    {
     "data": {
      "text/plain": [
       "\n",
       "  0   1   2 \n",
       " 62 335  39 "
      ]
     },
     "metadata": {},
     "output_type": "display_data"
    }
   ],
   "source": [
    "table(sdf$firstcigarettereported)"
   ]
  },
  {
   "cell_type": "code",
   "execution_count": 51,
   "metadata": {},
   "outputs": [
    {
     "data": {
      "text/plain": [
       "\n",
       "  1   2   3   4   5   6   7   8   9  10  11  12  14  16  17  18  19  24  25  26 \n",
       "118  82  36  15  10  12   6   5  10   3   1   3   2   2   3   1   1   2   1   1 \n",
       " 27  28  30  31  32  36  38  41  48  52  59  60  63  71  86 \n",
       "  1   2   1   1   2   2   1   2   1   1   1   1   1   1  41 "
      ]
     },
     "metadata": {},
     "output_type": "display_data"
    }
   ],
   "source": [
    "sdf2 <- sdf[!is.na(sdf$baseline_b1_001),]\n",
    "table(sdf2$CallDayNumber)"
   ]
  },
  {
   "cell_type": "markdown",
   "metadata": {},
   "source": [
    "## Counts by day of call"
   ]
  },
  {
   "cell_type": "code",
   "execution_count": 52,
   "metadata": {},
   "outputs": [
    {
     "data": {
      "text/plain": [
       "\n",
       "  1   2   3   4   5   6   7   8   9  10  11  12  14  16  17  18  19  24  25  26 \n",
       "119  83  36  16  10  12   6   5  10   3   1   3   2   2   3   1   1   2   1   1 \n",
       " 27  28  30  31  32  36  38  41  48  52  59  60  63  71  86 \n",
       "  1   2   1   1   2   2   1   2   1   1   1   1   1   1  41 "
      ]
     },
     "metadata": {},
     "output_type": "display_data"
    }
   ],
   "source": [
    "table(sdf$CallDayNumber)"
   ]
  },
  {
   "cell_type": "markdown",
   "metadata": {},
   "source": [
    "## Counts by firstcigarettereported code"
   ]
  },
  {
   "cell_type": "code",
   "execution_count": 53,
   "metadata": {},
   "outputs": [
    {
     "data": {
      "text/plain": [
       "fcr_code\n",
       "  0   1   2 \n",
       " 62 335  39 "
      ]
     },
     "metadata": {},
     "output_type": "display_data"
    }
   ],
   "source": [
    "fcr_code        = sdf$firstcigarettereported       \n",
    "table(fcr_code)"
   ]
  },
  {
   "cell_type": "markdown",
   "metadata": {},
   "source": [
    "## \"Something is seriously wrong\"  (using sum of three values)"
   ]
  },
  {
   "cell_type": "code",
   "execution_count": 54,
   "metadata": {},
   "outputs": [
    {
     "data": {
      "text/plain": [
       "seriously_wrong\n",
       " 3  4  5  6  7  8  9 10 11 12 13 14 15 \n",
       " 8  1  6 15 18 15 35 50 60 63 55 45 58 "
      ]
     },
     "metadata": {},
     "output_type": "display_data"
    }
   ],
   "source": [
    "seriously_wrong = sdf$baseline_b1_001 + sdf$baseline_c1_001 + sdf$baseline_d1_001\n",
    "table(seriously_wrong)"
   ]
  },
  {
   "cell_type": "markdown",
   "metadata": {},
   "source": [
    "## \"I am pretty sick\"  (using sum of three values)"
   ]
  },
  {
   "cell_type": "code",
   "execution_count": 55,
   "metadata": {},
   "outputs": [
    {
     "data": {
      "text/plain": [
       "pretty_sick\n",
       " 3  4  5  6  7  8  9 10 11 12 13 14 15 \n",
       " 9  4 12 17 17 28 36 52 58 75 40 36 45 "
      ]
     },
     "metadata": {},
     "output_type": "display_data"
    }
   ],
   "source": [
    "pretty_sick     = sdf$baseline_b1_002 +sdf$baseline_c1_002 + sdf$baseline_d1_002\n",
    "table(pretty_sick)"
   ]
  },
  {
   "cell_type": "markdown",
   "metadata": {},
   "source": [
    "## \"My illness is minor\"  (using sum of three values)"
   ]
  },
  {
   "cell_type": "code",
   "execution_count": 56,
   "metadata": {},
   "outputs": [
    {
     "data": {
      "text/plain": [
       "minor_illness\n",
       " 3  4  5  6  7  8  9 10 11 12 13 14 15 \n",
       "57 36 41 63 58 48 45 31 22 19  3  2  4 "
      ]
     },
     "metadata": {},
     "output_type": "display_data"
    }
   ],
   "source": [
    "minor_illness   = sdf$baseline_b1_003 + sdf$baseline_c1_003 + sdf$baseline_d1_003\n",
    "table(minor_illness)"
   ]
  },
  {
   "cell_type": "markdown",
   "metadata": {},
   "source": [
    "## \"I have a life threatening illness\"  (using sum of three values)"
   ]
  },
  {
   "cell_type": "code",
   "execution_count": 57,
   "metadata": {},
   "outputs": [
    {
     "data": {
      "text/plain": [
       "life_threat\n",
       " 3  4  5  6  7  8  9 10 11 12 13 14 15 \n",
       "25  8 16 38 34 44 41 40 33 46 33 26 45 "
      ]
     },
     "metadata": {},
     "output_type": "display_data"
    }
   ],
   "source": [
    "life_threat     = sdf$baseline_b1_004 + sdf$baseline_c1_004 + sdf$baseline_d1_004\n",
    "table(life_threat)"
   ]
  },
  {
   "cell_type": "markdown",
   "metadata": {},
   "source": [
    "## Set up event flags for survival analysis"
   ]
  },
  {
   "cell_type": "code",
   "execution_count": 58,
   "metadata": {},
   "outputs": [
    {
     "name": "stdout",
     "output_type": "stream",
     "text": [
      "'data.frame':\t374 obs. of  7 variables:\n",
      " $ event          : num  0 0 0 0 0 0 0 0 0 0 ...\n",
      " $ day            : num  86 86 86 86 86 86 86 86 86 86 ...\n",
      " $ fcr_code       : num  2 2 2 2 2 2 2 2 2 2 ...\n",
      " $ seriously_wrong: num  10 14 9 13 10 10 9 9 14 15 ...\n",
      " $ pretty_sick    : num  10 13 11 14 12 11 8 11 12 15 ...\n",
      " $ minor_illness  : num  8 5 7 5 7 8 9 12 15 3 ...\n",
      " $ life_threat    : num  10 12 8 7 9 10 9 6 11 15 ...\n"
     ]
    }
   ],
   "source": [
    "event = 2 - fcr_code            #event code is 0 for right censor, 1 for event on the day specified\n",
    "day   = sdf$CallDayNumber\n",
    "\n",
    "sdf2=data.frame(event,day,fcr_code,seriously_wrong,pretty_sick,minor_illness,life_threat)\n",
    "surv_data = sdf2[sdf2$fcr_code>0,]\n",
    "str(surv_data)"
   ]
  },
  {
   "cell_type": "markdown",
   "metadata": {},
   "source": [
    "   ## Cox regression with all four predictors"
   ]
  },
  {
   "cell_type": "code",
   "execution_count": 59,
   "metadata": {},
   "outputs": [
    {
     "data": {
      "text/plain": [
       "Call:\n",
       "coxph(formula = Surv(day, event) ~ seriously_wrong + pretty_sick + \n",
       "    minor_illness + life_threat, data = surv_data, method = \"efron\")\n",
       "\n",
       "                    coef exp(coef) se(coef)     z     p\n",
       "seriously_wrong  0.05080   1.05211  0.02800  1.81 0.070\n",
       "pretty_sick     -0.06472   0.93733  0.02580 -2.51 0.012\n",
       "minor_illness   -0.00393   0.99608  0.02338 -0.17 0.867\n",
       "life_threat     -0.02253   0.97772  0.01981 -1.14 0.255\n",
       "\n",
       "Likelihood ratio test=8.27  on 4 df, p=0.0822\n",
       "n= 370, number of events= 331 \n",
       "   (4 observations deleted due to missingness)"
      ]
     },
     "metadata": {},
     "output_type": "display_data"
    },
    {
     "data": {
      "text/plain": [
       "Call:\n",
       "coxph(formula = Surv(day, event) ~ seriously_wrong + pretty_sick + \n",
       "    minor_illness + life_threat, data = surv_data, method = \"efron\")\n",
       "\n",
       "  n= 370, number of events= 331 \n",
       "   (4 observations deleted due to missingness)\n",
       "\n",
       "                     coef exp(coef)  se(coef)      z Pr(>|z|)  \n",
       "seriously_wrong  0.050800  1.052112  0.028003  1.814   0.0697 .\n",
       "pretty_sick     -0.064718  0.937332  0.025802 -2.508   0.0121 *\n",
       "minor_illness   -0.003928  0.996080  0.023384 -0.168   0.8666  \n",
       "life_threat     -0.022533  0.977719  0.019814 -1.137   0.2554  \n",
       "---\n",
       "Signif. codes:  0 ‘***’ 0.001 ‘**’ 0.01 ‘*’ 0.05 ‘.’ 0.1 ‘ ’ 1\n",
       "\n",
       "                exp(coef) exp(-coef) lower .95 upper .95\n",
       "seriously_wrong    1.0521     0.9505    0.9959     1.111\n",
       "pretty_sick        0.9373     1.0669    0.8911     0.986\n",
       "minor_illness      0.9961     1.0039    0.9515     1.043\n",
       "life_threat        0.9777     1.0228    0.9405     1.016\n",
       "\n",
       "Concordance= 0.572  (se = 0.025 )\n",
       "Rsquare= 0.022   (max possible= 1 )\n",
       "Likelihood ratio test= 8.27  on 4 df,   p=0.08225\n",
       "Wald test            = 8.76  on 4 df,   p=0.0675\n",
       "Score (logrank) test = 8.78  on 4 df,   p=0.06696\n"
      ]
     },
     "metadata": {},
     "output_type": "display_data"
    }
   ],
   "source": [
    "cr = coxph(Surv(day,event) ~ seriously_wrong + pretty_sick + minor_illness + life_threat,\n",
    "           data=surv_data,method=\"efron\")\n",
    "cr\n",
    "summary(cr)"
   ]
  },
  {
   "cell_type": "markdown",
   "metadata": {},
   "source": [
    "   ## Cox regression with only \"I am pretty sick\""
   ]
  },
  {
   "cell_type": "code",
   "execution_count": 60,
   "metadata": {},
   "outputs": [
    {
     "data": {
      "text/plain": [
       "Call:\n",
       "coxph(formula = Surv(day, event) ~ pretty_sick, data = surv_data, \n",
       "    method = \"efron\")\n",
       "\n",
       "               coef exp(coef) se(coef)     z     p\n",
       "pretty_sick -0.0399    0.9609   0.0183 -2.18 0.029\n",
       "\n",
       "Likelihood ratio test=4.63  on 1 df, p=0.0314\n",
       "n= 370, number of events= 331 \n",
       "   (4 observations deleted due to missingness)"
      ]
     },
     "metadata": {},
     "output_type": "display_data"
    },
    {
     "data": {
      "text/plain": [
       "Call:\n",
       "coxph(formula = Surv(day, event) ~ pretty_sick, data = surv_data, \n",
       "    method = \"efron\")\n",
       "\n",
       "  n= 370, number of events= 331 \n",
       "   (4 observations deleted due to missingness)\n",
       "\n",
       "                coef exp(coef) se(coef)      z Pr(>|z|)  \n",
       "pretty_sick -0.03990   0.96089  0.01828 -2.183   0.0291 *\n",
       "---\n",
       "Signif. codes:  0 ‘***’ 0.001 ‘**’ 0.01 ‘*’ 0.05 ‘.’ 0.1 ‘ ’ 1\n",
       "\n",
       "            exp(coef) exp(-coef) lower .95 upper .95\n",
       "pretty_sick    0.9609      1.041    0.9271    0.9959\n",
       "\n",
       "Concordance= 0.559  (se = 0.024 )\n",
       "Rsquare= 0.012   (max possible= 1 )\n",
       "Likelihood ratio test= 4.63  on 1 df,   p=0.03141\n",
       "Wald test            = 4.76  on 1 df,   p=0.02906\n",
       "Score (logrank) test = 4.77  on 1 df,   p=0.02894\n"
      ]
     },
     "metadata": {},
     "output_type": "display_data"
    }
   ],
   "source": [
    "cr = coxph(Surv(day,event) ~ pretty_sick,data=surv_data,method=\"efron\")\n",
    "cr\n",
    "summary(cr)"
   ]
  },
  {
   "cell_type": "markdown",
   "metadata": {},
   "source": [
    "   ## Cox regression with only \"Something is seriously wrong\""
   ]
  },
  {
   "cell_type": "code",
   "execution_count": 61,
   "metadata": {},
   "outputs": [
    {
     "data": {
      "text/plain": [
       "Call:\n",
       "coxph(formula = Surv(day, event) ~ seriously_wrong, data = surv_data, \n",
       "    method = \"efron\")\n",
       "\n",
       "                    coef exp(coef) se(coef)     z    p\n",
       "seriously_wrong -0.00822   0.99181  0.01879 -0.44 0.66\n",
       "\n",
       "Likelihood ratio test=0.19  on 1 df, p=0.663\n",
       "n= 370, number of events= 331 \n",
       "   (4 observations deleted due to missingness)"
      ]
     },
     "metadata": {},
     "output_type": "display_data"
    },
    {
     "data": {
      "text/plain": [
       "Call:\n",
       "coxph(formula = Surv(day, event) ~ seriously_wrong, data = surv_data, \n",
       "    method = \"efron\")\n",
       "\n",
       "  n= 370, number of events= 331 \n",
       "   (4 observations deleted due to missingness)\n",
       "\n",
       "                     coef exp(coef)  se(coef)      z Pr(>|z|)\n",
       "seriously_wrong -0.008219  0.991815  0.018789 -0.437    0.662\n",
       "\n",
       "                exp(coef) exp(-coef) lower .95 upper .95\n",
       "seriously_wrong    0.9918      1.008     0.956     1.029\n",
       "\n",
       "Concordance= 0.52  (se = 0.024 )\n",
       "Rsquare= 0.001   (max possible= 1 )\n",
       "Likelihood ratio test= 0.19  on 1 df,   p=0.6628\n",
       "Wald test            = 0.19  on 1 df,   p=0.6618\n",
       "Score (logrank) test = 0.19  on 1 df,   p=0.6618\n"
      ]
     },
     "metadata": {},
     "output_type": "display_data"
    }
   ],
   "source": [
    "cr = coxph(Surv(day,event) ~ seriously_wrong,data=surv_data,method=\"efron\")\n",
    "cr\n",
    "summary(cr)"
   ]
  },
  {
   "cell_type": "markdown",
   "metadata": {},
   "source": [
    "Note:  The n value and number of events were reduced slightly because predictors are missing in a few cases"
   ]
  },
  {
   "cell_type": "markdown",
   "metadata": {},
   "source": [
    "   ## Cox regression with only \"My illness is minor\""
   ]
  },
  {
   "cell_type": "code",
   "execution_count": 62,
   "metadata": {},
   "outputs": [
    {
     "data": {
      "text/plain": [
       "Call:\n",
       "coxph(formula = Surv(day, event) ~ minor_illness, data = surv_data, \n",
       "    method = \"efron\")\n",
       "\n",
       "                coef exp(coef) se(coef)    z   p\n",
       "minor_illness 0.0161    1.0162   0.0192 0.84 0.4\n",
       "\n",
       "Likelihood ratio test=0.7  on 1 df, p=0.404\n",
       "n= 370, number of events= 331 \n",
       "   (4 observations deleted due to missingness)"
      ]
     },
     "metadata": {},
     "output_type": "display_data"
    },
    {
     "data": {
      "text/plain": [
       "Call:\n",
       "coxph(formula = Surv(day, event) ~ minor_illness, data = surv_data, \n",
       "    method = \"efron\")\n",
       "\n",
       "  n= 370, number of events= 331 \n",
       "   (4 observations deleted due to missingness)\n",
       "\n",
       "                 coef exp(coef) se(coef)     z Pr(>|z|)\n",
       "minor_illness 0.01608   1.01621  0.01921 0.837    0.403\n",
       "\n",
       "              exp(coef) exp(-coef) lower .95 upper .95\n",
       "minor_illness     1.016      0.984    0.9787     1.055\n",
       "\n",
       "Concordance= 0.528  (se = 0.024 )\n",
       "Rsquare= 0.002   (max possible= 1 )\n",
       "Likelihood ratio test= 0.7  on 1 df,   p=0.4043\n",
       "Wald test            = 0.7  on 1 df,   p=0.4026\n",
       "Score (logrank) test = 0.7  on 1 df,   p=0.4026\n"
      ]
     },
     "metadata": {},
     "output_type": "display_data"
    }
   ],
   "source": [
    "cr = coxph(Surv(day,event) ~ minor_illness,data=surv_data,method=\"efron\")\n",
    "cr\n",
    "summary(cr)"
   ]
  },
  {
   "cell_type": "markdown",
   "metadata": {},
   "source": [
    "   ## Cox regression with only \"I have a life-threating illness\""
   ]
  },
  {
   "cell_type": "code",
   "execution_count": 63,
   "metadata": {},
   "outputs": [
    {
     "data": {
      "text/plain": [
       "Call:\n",
       "coxph(formula = Surv(day, event) ~ life_threat, data = surv_data, \n",
       "    method = \"efron\")\n",
       "\n",
       "               coef exp(coef) se(coef)    z    p\n",
       "life_threat -0.0222    0.9780   0.0159 -1.4 0.16\n",
       "\n",
       "Likelihood ratio test=1.95  on 1 df, p=0.162\n",
       "n= 370, number of events= 331 \n",
       "   (4 observations deleted due to missingness)"
      ]
     },
     "metadata": {},
     "output_type": "display_data"
    },
    {
     "data": {
      "text/plain": [
       "Call:\n",
       "coxph(formula = Surv(day, event) ~ life_threat, data = surv_data, \n",
       "    method = \"efron\")\n",
       "\n",
       "  n= 370, number of events= 331 \n",
       "   (4 observations deleted due to missingness)\n",
       "\n",
       "                coef exp(coef) se(coef)      z Pr(>|z|)\n",
       "life_threat -0.02223   0.97801  0.01590 -1.398    0.162\n",
       "\n",
       "            exp(coef) exp(-coef) lower .95 upper .95\n",
       "life_threat     0.978      1.022     0.948     1.009\n",
       "\n",
       "Concordance= 0.54  (se = 0.025 )\n",
       "Rsquare= 0.005   (max possible= 1 )\n",
       "Likelihood ratio test= 1.95  on 1 df,   p=0.1625\n",
       "Wald test            = 1.96  on 1 df,   p=0.162\n",
       "Score (logrank) test = 1.96  on 1 df,   p=0.1618\n"
      ]
     },
     "metadata": {},
     "output_type": "display_data"
    }
   ],
   "source": [
    "cr = coxph(Surv(day,event) ~ life_threat,data=surv_data,method=\"efron\")\n",
    "cr\n",
    "summary(cr)"
   ]
  },
  {
   "cell_type": "markdown",
   "metadata": {},
   "source": [
    "## Cox regression with principal component scores"
   ]
  },
  {
   "cell_type": "markdown",
   "metadata": {},
   "source": [
    "First remove observations with missing values and firstcigarettereported=0"
   ]
  },
  {
   "cell_type": "code",
   "execution_count": 64,
   "metadata": {},
   "outputs": [
    {
     "name": "stdout",
     "output_type": "stream",
     "text": [
      "'data.frame':\t370 obs. of  15 variables:\n",
      " $ X                     : int  0 1 2 3 4 5 6 7 8 9 ...\n",
      " $ CallDayNumber         : num  86 86 86 86 86 86 86 86 86 86 ...\n",
      " $ firstcigarettereported: num  2 2 2 2 2 2 2 2 2 2 ...\n",
      " $ baseline_b1_001       : num  2 5 2 5 2 2 4 1 5 5 ...\n",
      " $ baseline_c1_001       : num  4 5 5 4 4 4 3 4 5 5 ...\n",
      " $ baseline_d1_001       : num  4 4 2 4 4 4 2 4 4 5 ...\n",
      " $ baseline_b1_002       : num  2 5 2 5 4 2 3 4 4 5 ...\n",
      " $ baseline_c1_002       : num  4 5 5 5 4 5 3 4 4 5 ...\n",
      " $ baseline_d1_002       : num  4 3 4 4 4 4 2 3 4 5 ...\n",
      " $ baseline_b1_003       : num  4 1 4 3 2 4 3 4 5 1 ...\n",
      " $ baseline_c1_003       : num  2 1 1 1 2 2 3 4 5 1 ...\n",
      " $ baseline_d1_003       : num  2 3 2 1 3 2 3 4 5 1 ...\n",
      " $ baseline_b1_004       : num  2 5 1 2 2 2 3 1 4 5 ...\n",
      " $ baseline_c1_004       : num  4 4 3 1 4 4 3 1 4 5 ...\n",
      " $ baseline_d1_004       : num  4 3 4 4 3 4 3 4 3 5 ...\n",
      " - attr(*, \"na.action\")=Class 'omit'  Named int [1:4] 57 59 208 258\n",
      "  .. ..- attr(*, \"names\")= chr [1:4] \"57\" \"59\" \"208\" \"258\"\n"
     ]
    }
   ],
   "source": [
    "sdf3 = na.omit(sdf[sdf$firstcigarettereported>0,])  \n",
    "str(sdf3)"
   ]
  },
  {
   "cell_type": "markdown",
   "metadata": {},
   "source": [
    "## Compute principal components for 12 baseline predictors"
   ]
  },
  {
   "cell_type": "code",
   "execution_count": 65,
   "metadata": {
    "collapsed": true
   },
   "outputs": [],
   "source": [
    "pc = princomp(sdf3[4:15],scores=TRUE)"
   ]
  },
  {
   "cell_type": "code",
   "execution_count": 66,
   "metadata": {},
   "outputs": [
    {
     "name": "stdout",
     "output_type": "stream",
     "text": [
      "List of 7\n",
      " $ sdev    : Named num [1:12] 2.79 1.85 1.4 1.36 1.21 ...\n",
      "  ..- attr(*, \"names\")= chr [1:12] \"Comp.1\" \"Comp.2\" \"Comp.3\" \"Comp.4\" ...\n",
      " $ loadings: loadings [1:12, 1:12] -0.316 -0.224 -0.319 -0.297 -0.261 ...\n",
      "  ..- attr(*, \"dimnames\")=List of 2\n",
      "  .. ..$ : chr [1:12] \"baseline_b1_001\" \"baseline_c1_001\" \"baseline_d1_001\" \"baseline_b1_002\" ...\n",
      "  .. ..$ : chr [1:12] \"Comp.1\" \"Comp.2\" \"Comp.3\" \"Comp.4\" ...\n",
      " $ center  : Named num [1:12] 3.76 4.15 3.32 3.56 3.93 ...\n",
      "  ..- attr(*, \"names\")= chr [1:12] \"baseline_b1_001\" \"baseline_c1_001\" \"baseline_d1_001\" \"baseline_b1_002\" ...\n",
      " $ scale   : Named num [1:12] 1 1 1 1 1 1 1 1 1 1 ...\n",
      "  ..- attr(*, \"names\")= chr [1:12] \"baseline_b1_001\" \"baseline_c1_001\" \"baseline_d1_001\" \"baseline_b1_002\" ...\n",
      " $ n.obs   : int 370\n",
      " $ scores  : num [1:370, 1:12] 0.864 -2.95 1.531 -0.91 0.173 ...\n",
      "  ..- attr(*, \"dimnames\")=List of 2\n",
      "  .. ..$ : chr [1:370] \"1\" \"2\" \"3\" \"4\" ...\n",
      "  .. ..$ : chr [1:12] \"Comp.1\" \"Comp.2\" \"Comp.3\" \"Comp.4\" ...\n",
      " $ call    : language princomp(x = sdf3[4:15], scores = TRUE)\n",
      " - attr(*, \"class\")= chr \"princomp\"\n"
     ]
    }
   ],
   "source": [
    "str(pc)"
   ]
  },
  {
   "cell_type": "markdown",
   "metadata": {},
   "source": [
    "## Percent of variance"
   ]
  },
  {
   "cell_type": "code",
   "execution_count": 67,
   "metadata": {},
   "outputs": [
    {
     "data": {
      "text/html": [
       "<dl class=dl-horizontal>\n",
       "\t<dt>Comp.1</dt>\n",
       "\t\t<dd>37.6827006200015</dd>\n",
       "\t<dt>Comp.2</dt>\n",
       "\t\t<dd>16.5979041360955</dd>\n",
       "\t<dt>Comp.3</dt>\n",
       "\t\t<dd>9.43863628989669</dd>\n",
       "\t<dt>Comp.4</dt>\n",
       "\t\t<dd>8.87967134058388</dd>\n",
       "\t<dt>Comp.5</dt>\n",
       "\t\t<dd>7.11481465919773</dd>\n",
       "\t<dt>Comp.6</dt>\n",
       "\t\t<dd>4.55721187343556</dd>\n",
       "\t<dt>Comp.7</dt>\n",
       "\t\t<dd>3.82655861670111</dd>\n",
       "\t<dt>Comp.8</dt>\n",
       "\t\t<dd>3.15889970759452</dd>\n",
       "\t<dt>Comp.9</dt>\n",
       "\t\t<dd>2.84144405658267</dd>\n",
       "\t<dt>Comp.10</dt>\n",
       "\t\t<dd>2.6397067316561</dd>\n",
       "\t<dt>Comp.11</dt>\n",
       "\t\t<dd>1.95221989414902</dd>\n",
       "\t<dt>Comp.12</dt>\n",
       "\t\t<dd>1.31023207410579</dd>\n",
       "</dl>\n"
      ],
      "text/latex": [
       "\\begin{description*}\n",
       "\\item[Comp.1] 37.6827006200015\n",
       "\\item[Comp.2] 16.5979041360955\n",
       "\\item[Comp.3] 9.43863628989669\n",
       "\\item[Comp.4] 8.87967134058388\n",
       "\\item[Comp.5] 7.11481465919773\n",
       "\\item[Comp.6] 4.55721187343556\n",
       "\\item[Comp.7] 3.82655861670111\n",
       "\\item[Comp.8] 3.15889970759452\n",
       "\\item[Comp.9] 2.84144405658267\n",
       "\\item[Comp.10] 2.6397067316561\n",
       "\\item[Comp.11] 1.95221989414902\n",
       "\\item[Comp.12] 1.31023207410579\n",
       "\\end{description*}\n"
      ],
      "text/markdown": [
       "Comp.1\n",
       ":   37.6827006200015Comp.2\n",
       ":   16.5979041360955Comp.3\n",
       ":   9.43863628989669Comp.4\n",
       ":   8.87967134058388Comp.5\n",
       ":   7.11481465919773Comp.6\n",
       ":   4.55721187343556Comp.7\n",
       ":   3.82655861670111Comp.8\n",
       ":   3.15889970759452Comp.9\n",
       ":   2.84144405658267Comp.10\n",
       ":   2.6397067316561Comp.11\n",
       ":   1.95221989414902Comp.12\n",
       ":   1.31023207410579\n",
       "\n"
      ],
      "text/plain": [
       "   Comp.1    Comp.2    Comp.3    Comp.4    Comp.5    Comp.6    Comp.7    Comp.8 \n",
       "37.682701 16.597904  9.438636  8.879671  7.114815  4.557212  3.826559  3.158900 \n",
       "   Comp.9   Comp.10   Comp.11   Comp.12 \n",
       " 2.841444  2.639707  1.952220  1.310232 "
      ]
     },
     "metadata": {},
     "output_type": "display_data"
    }
   ],
   "source": [
    "100*pc$sdev^2/sum(pc$sdev^2)     #percent of variance"
   ]
  },
  {
   "cell_type": "markdown",
   "metadata": {},
   "source": [
    "## Loadings"
   ]
  },
  {
   "cell_type": "code",
   "execution_count": 68,
   "metadata": {},
   "outputs": [
    {
     "data": {
      "text/plain": [
       "\n",
       "Loadings:\n",
       "                Comp.1 Comp.2 Comp.3 Comp.4 Comp.5 Comp.6 Comp.7 Comp.8 Comp.9\n",
       "baseline_b1_001 -0.316  0.406        -0.254                0.520        -0.269\n",
       "baseline_c1_001 -0.224         0.142  0.317 -0.337         0.257  0.395  0.314\n",
       "baseline_d1_001 -0.319 -0.345        -0.325        -0.581  0.250         0.118\n",
       "baseline_b1_002 -0.297  0.394  0.172 -0.256 -0.264  0.334        -0.258 -0.184\n",
       "baseline_c1_002 -0.261         0.328  0.275 -0.398  0.204 -0.313  0.204  0.158\n",
       "baseline_d1_002 -0.273 -0.355  0.209 -0.404 -0.127        -0.363 -0.325  0.149\n",
       "baseline_b1_003  0.291 -0.325 -0.149        -0.534  0.237  0.368 -0.422       \n",
       "baseline_c1_003  0.207        -0.400 -0.443 -0.213  0.245         0.325  0.491\n",
       "baseline_d1_003  0.176  0.273 -0.303        -0.495 -0.493 -0.431  0.118 -0.299\n",
       "baseline_b1_004 -0.389  0.259 -0.462         0.193        -0.152 -0.233  0.386\n",
       "baseline_c1_004 -0.334 -0.111 -0.435  0.464 -0.122 -0.108        -0.292       \n",
       "baseline_d1_004 -0.310 -0.412 -0.345 -0.109         0.360 -0.102  0.429 -0.499\n",
       "                Comp.10 Comp.11 Comp.12\n",
       "baseline_b1_001  0.201  -0.289   0.432 \n",
       "baseline_c1_001  0.210  -0.261  -0.530 \n",
       "baseline_d1_001 -0.155   0.475         \n",
       "baseline_b1_002 -0.354   0.254  -0.430 \n",
       "baseline_c1_002          0.286   0.549 \n",
       "baseline_d1_002  0.133  -0.546         \n",
       "baseline_b1_003  0.311   0.181         \n",
       "baseline_c1_003 -0.334  -0.110   0.137 \n",
       "baseline_d1_003  0.141                 \n",
       "baseline_b1_004  0.488   0.250         \n",
       "baseline_c1_004 -0.516  -0.262   0.117 \n",
       "baseline_d1_004  0.124                 \n",
       "\n",
       "               Comp.1 Comp.2 Comp.3 Comp.4 Comp.5 Comp.6 Comp.7 Comp.8 Comp.9\n",
       "SS loadings     1.000  1.000  1.000  1.000  1.000  1.000  1.000  1.000  1.000\n",
       "Proportion Var  0.083  0.083  0.083  0.083  0.083  0.083  0.083  0.083  0.083\n",
       "Cumulative Var  0.083  0.167  0.250  0.333  0.417  0.500  0.583  0.667  0.750\n",
       "               Comp.10 Comp.11 Comp.12\n",
       "SS loadings      1.000   1.000   1.000\n",
       "Proportion Var   0.083   0.083   0.083\n",
       "Cumulative Var   0.833   0.917   1.000"
      ]
     },
     "metadata": {},
     "output_type": "display_data"
    }
   ],
   "source": [
    "pc$loadings"
   ]
  },
  {
   "cell_type": "markdown",
   "metadata": {},
   "source": [
    "## Add scores to dataframe and set up Cox regression flag"
   ]
  },
  {
   "cell_type": "code",
   "execution_count": 69,
   "metadata": {},
   "outputs": [
    {
     "name": "stdout",
     "output_type": "stream",
     "text": [
      "'data.frame':\t370 obs. of  20 variables:\n",
      " $ X                     : int  0 1 2 3 4 5 6 7 8 9 ...\n",
      " $ CallDayNumber         : num  86 86 86 86 86 86 86 86 86 86 ...\n",
      " $ firstcigarettereported: num  2 2 2 2 2 2 2 2 2 2 ...\n",
      " $ baseline_b1_001       : num  2 5 2 5 2 2 4 1 5 5 ...\n",
      " $ baseline_c1_001       : num  4 5 5 4 4 4 3 4 5 5 ...\n",
      " $ baseline_d1_001       : num  4 4 2 4 4 4 2 4 4 5 ...\n",
      " $ baseline_b1_002       : num  2 5 2 5 4 2 3 4 4 5 ...\n",
      " $ baseline_c1_002       : num  4 5 5 5 4 5 3 4 4 5 ...\n",
      " $ baseline_d1_002       : num  4 3 4 4 4 4 2 3 4 5 ...\n",
      " $ baseline_b1_003       : num  4 1 4 3 2 4 3 4 5 1 ...\n",
      " $ baseline_c1_003       : num  2 1 1 1 2 2 3 4 5 1 ...\n",
      " $ baseline_d1_003       : num  2 3 2 1 3 2 3 4 5 1 ...\n",
      " $ baseline_b1_004       : num  2 5 1 2 2 2 3 1 4 5 ...\n",
      " $ baseline_c1_004       : num  4 4 3 1 4 4 3 1 4 5 ...\n",
      " $ baseline_d1_004       : num  4 3 4 4 3 4 3 4 3 5 ...\n",
      " $ event                 : num  0 0 0 0 0 0 0 0 0 0 ...\n",
      " $ pc1                   : num  0.864 -2.95 1.531 -0.91 0.173 ...\n",
      " $ pc2                   : num  -3.062 2.036 -2.615 -0.384 -0.939 ...\n",
      " $ pc3                   : num  -0.299 0.126 1.398 2.849 0.384 ...\n",
      " $ pc4                   : num  0.5185 0.5358 1.7187 -1.6435 0.0618 ...\n"
     ]
    }
   ],
   "source": [
    "pc1 = pc$scores[,1]\n",
    "pc2 = pc$scores[,2]\n",
    "pc3 = pc$scores[,3]\n",
    "pc4 = pc$scores[,4]\n",
    "event = 2-sdf3$firstcigarettereported\n",
    "sdf4 = cbind(sdf3,event,pc1,pc2,pc3,pc4)\n",
    "str(sdf4)"
   ]
  },
  {
   "cell_type": "markdown",
   "metadata": {},
   "source": [
    "## Cox regression on first four principal component scores"
   ]
  },
  {
   "cell_type": "code",
   "execution_count": 70,
   "metadata": {},
   "outputs": [
    {
     "data": {
      "text/plain": [
       "Call:\n",
       "coxph(formula = Surv(CallDayNumber, event) ~ pc1 + pc2 + pc3 + \n",
       "    pc4, data = sdf4, method = \"efron\")\n",
       "\n",
       "       coef exp(coef) se(coef)     z       p\n",
       "pc1  0.0259    1.0263   0.0191  1.36 0.17472\n",
       "pc2  0.0990    1.1040   0.0299  3.31 0.00095\n",
       "pc3 -0.0358    0.9648   0.0383 -0.94 0.34952\n",
       "pc4 -0.0454    0.9556   0.0399 -1.14 0.25564\n",
       "\n",
       "Likelihood ratio test=14.5  on 4 df, p=0.00577\n",
       "n= 370, number of events= 331 "
      ]
     },
     "metadata": {},
     "output_type": "display_data"
    },
    {
     "data": {
      "text/plain": [
       "Call:\n",
       "coxph(formula = Surv(CallDayNumber, event) ~ pc1 + pc2 + pc3 + \n",
       "    pc4, data = sdf4, method = \"efron\")\n",
       "\n",
       "  n= 370, number of events= 331 \n",
       "\n",
       "        coef exp(coef) se(coef)      z Pr(>|z|)    \n",
       "pc1  0.02593   1.02627  0.01911  1.357 0.174715    \n",
       "pc2  0.09898   1.10405  0.02995  3.305 0.000949 ***\n",
       "pc3 -0.03582   0.96481  0.03829 -0.936 0.349522    \n",
       "pc4 -0.04538   0.95563  0.03992 -1.137 0.255637    \n",
       "---\n",
       "Signif. codes:  0 ‘***’ 0.001 ‘**’ 0.01 ‘*’ 0.05 ‘.’ 0.1 ‘ ’ 1\n",
       "\n",
       "    exp(coef) exp(-coef) lower .95 upper .95\n",
       "pc1    1.0263     0.9744    0.9885     1.065\n",
       "pc2    1.1040     0.9058    1.0411     1.171\n",
       "pc3    0.9648     1.0365    0.8951     1.040\n",
       "pc4    0.9556     1.0464    0.8837     1.033\n",
       "\n",
       "Concordance= 0.583  (se = 0.025 )\n",
       "Rsquare= 0.039   (max possible= 1 )\n",
       "Likelihood ratio test= 14.54  on 4 df,   p=0.005769\n",
       "Wald test            = 14.18  on 4 df,   p=0.006742\n",
       "Score (logrank) test = 14.24  on 4 df,   p=0.006554\n"
      ]
     },
     "metadata": {},
     "output_type": "display_data"
    }
   ],
   "source": [
    "cr = coxph(Surv(CallDayNumber,event) ~ pc1+pc2+pc3+pc4,data=sdf4,method=\"efron\")\n",
    "cr\n",
    "summary(cr)"
   ]
  },
  {
   "cell_type": "code",
   "execution_count": 71,
   "metadata": {},
   "outputs": [
    {
     "data": {
      "image/png": "[encoded data removed]",
      "text/plain": [
       "Plot with title “Histogram of sdf4$pc1”"
      ]
     },
     "metadata": {},
     "output_type": "display_data"
    }
   ],
   "source": [
    "hist(sdf4$pc1)"
   ]
  },
  {
   "cell_type": "code",
   "execution_count": 72,
   "metadata": {},
   "outputs": [
    {
     "data": {
      "image/png": "[encoded data removed]",
      "text/plain": [
       "Plot with title “Histogram of sdf4$pc2”"
      ]
     },
     "metadata": {},
     "output_type": "display_data"
    }
   ],
   "source": [
    "hist(sdf4$pc2)"
   ]
  },
  {
   "cell_type": "code",
   "execution_count": 73,
   "metadata": {},
   "outputs": [
    {
     "data": {
      "image/png": "[encoded data removed]",
      "text/plain": [
       "Plot with title “Histogram of sdf4$pc3”"
      ]
     },
     "metadata": {},
     "output_type": "display_data"
    }
   ],
   "source": [
    "hist(sdf4$pc3)"
   ]
  },
  {
   "cell_type": "code",
   "execution_count": 74,
   "metadata": {},
   "outputs": [
    {
     "data": {
      "image/png": "[encoded data removed]",
      "text/plain": [
       "Plot with title “Histogram of sdf4$pc4”"
      ]
     },
     "metadata": {},
     "output_type": "display_data"
    }
   ],
   "source": [
    "hist(sdf4$pc4)"
   ]
  }
 ],
 "metadata": {
  "kernelspec": {
   "display_name": "R",
   "language": "R",
   "name": "ir"
  },
  "language_info": {
   "codemirror_mode": "r",
   "file_extension": ".r",
   "mimetype": "text/x-r-source",
   "name": "R",
   "pygments_lexer": "r",
   "version": "3.3.3"
  }
 },
 "nbformat": 4,
 "nbformat_minor": 2
}
