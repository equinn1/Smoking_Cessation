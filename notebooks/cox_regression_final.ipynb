{
 "cells": [
  {
   "cell_type": "markdown",
   "metadata": {},
   "source": [
    "# Smoking Cessation Study - Cox regression\n",
    "\n",
    "12/12/2017 EPQ  Add TIMI and actual severity  "
   ]
  },
  {
   "cell_type": "code",
   "execution_count": 1,
   "metadata": {
    "collapsed": true
   },
   "outputs": [],
   "source": [
    "library(survival)"
   ]
  },
  {
   "cell_type": "code",
   "execution_count": 2,
   "metadata": {},
   "outputs": [
    {
     "name": "stdout",
     "output_type": "stream",
     "text": [
      "'data.frame':\t434 obs. of  49 variables:\n",
      " $ X                 : int  0 1 2 3 4 5 6 7 8 9 ...\n",
      " $ isg_no            : num  10587 10636 10657 10664 10671 ...\n",
      " $ event             : num  1 1 1 0 1 1 0 1 1 1 ...\n",
      " $ hours_to_event    : num  25.62 25.94 2.98 2088 114.74 ...\n",
      " $ subject_id_x      : num  22 23 25 26 27 28 29 31 34 35 ...\n",
      " $ baseline_b1_001   : num  5 4 4 2 3 5 5 4 3 3 ...\n",
      " $ baseline_c1_001   : num  4 4 4 4 3 5 5 4 3 3 ...\n",
      " $ baseline_d1_001   : num  4 4 3 4 1 4 4 5 2 5 ...\n",
      " $ baseline_b1_002   : num  1 4 3 2 3 5 5 2 3 3 ...\n",
      " $ baseline_c1_002   : num  3 3 3 4 3 5 5 4 3 4 ...\n",
      " $ baseline_d1_002   : num  2 3 3 4 2 4 3 4 2 5 ...\n",
      " $ baseline_b1_003   : num  3 3 4 4 3 1 1 2 4 1 ...\n",
      " $ baseline_c1_003   : num  3 3 3 2 2 1 1 1 3 1 ...\n",
      " $ baseline_d1_003   : num  1 3 3 2 3 4 3 2 3 1 ...\n",
      " $ baseline_b1_004   : num  4 3 3 2 3 5 5 3 2 5 ...\n",
      " $ baseline_c1_004   : num  2 3 3 4 3 5 4 1 3 5 ...\n",
      " $ baseline_d1_004   : num  4 3 3 4 2 5 3 4 2 5 ...\n",
      " $ subject_id_y      : num  22 23 25 26 27 28 29 31 34 35 ...\n",
      " $ baseline_f1_002   : num  2 4 4 2 3 4 2 4 3 5 ...\n",
      " $ baseline_f1_004   : num  3 4 4 2 3 5 2 4 3 5 ...\n",
      " $ baseline_f1_006   : num  1 3 4 2 2 4 2 4 3 5 ...\n",
      " $ baseline_f1_007   : num  1 4 4 2 2 5 2 4 3 5 ...\n",
      " $ baseline_f1_008   : num  1 3 2 2 3 3 4 1 3 1 ...\n",
      " $ baseline_f2_002   : num  3 4 4 4 4 5 5 5 3 5 ...\n",
      " $ baseline_f2_004   : num  3 4 4 4 4 5 5 5 3 5 ...\n",
      " $ baseline_f2_006   : num  4 3 4 4 3 5 5 4 3 5 ...\n",
      " $ baseline_f2_007   : num  1 3 4 4 3 5 5 3 3 5 ...\n",
      " $ baseline_f2_008   : num  5 3 3 1 2 1 1 1 3 1 ...\n",
      " $ subject_id_x.1    : num  22 23 25 26 27 28 29 31 34 35 ...\n",
      " $ baseline_e1_004   : num  5 3 4 4 3 5 5 4 3 3 ...\n",
      " $ baseline_e2_001   : num  2 5 3 3 3 5 5 5 3 5 ...\n",
      " $ baseline_e2_002   : num  2 5 3 2 3 5 5 5 3 5 ...\n",
      " $ baseline_e2_003   : num  4 5 3 3 5 5 5 5 4 5 ...\n",
      " $ baseline_e2_004   : num  3 4 3 3 3 5 5 4 4 4 ...\n",
      " $ subject_id_y.1    : num  22 23 25 26 27 28 29 31 34 35 ...\n",
      " $ baseline_b2_002   : num  4 4 4 2 4 4 4 2 3 5 ...\n",
      " $ baseline_c2_002   : num  4 3 4 2 4 4 4 1 4 4 ...\n",
      " $ baseline_d2_002   : num  1 2 5 1 3 3 2 1 1 5 ...\n",
      " $ chartreview_d1_001: num  1 1 1 1 3 1 1 1 3 1 ...\n",
      " $ chartreview_e1_005: num  1 0 0 1 0 0 0 1 0 0 ...\n",
      " $ chartreview_e1_006: num  0 0 0 0 0 0 0 0 0 0 ...\n",
      " $ actual_severity   : num  2 1 1 2 0 1 1 2 0 1 ...\n",
      " $ chartreview_b1_001: num  9999 9999 9999 9999 9999 ...\n",
      " $ chartreview_b1_002: num  1 1 9999 1 9999 ...\n",
      " $ chartreview_b1_008: num  9999 1 9999 1 9999 ...\n",
      " $ chartreview_b1_012: num  9999 1 1 1 9999 ...\n",
      " $ chartreview_b1_013: num  1 1 9999 9999 1 ...\n",
      " $ chartreview_b1_014: num  1 9999 9999 1 9999 ...\n",
      " $ TIMI              : num  3 4 1 4 1 2 2 3 0 4 ...\n"
     ]
    }
   ],
   "source": [
    "coxreg = read.csv(\"../whosein8.csv\") #read the Cox regression and Leikert scale data from whosein_final.ipynb\n",
    "\n",
    "str(coxreg)"
   ]
  },
  {
   "cell_type": "code",
   "execution_count": 3,
   "metadata": {},
   "outputs": [
    {
     "data": {
      "text/plain": [
       "       X             isg_no          event       hours_to_event    \n",
       " Min.   :  0.0   Min.   :10573   Min.   :0.000   Min.   :   1.241  \n",
       " 1st Qu.:108.2   1st Qu.:11415   1st Qu.:1.000   1st Qu.:   7.825  \n",
       " Median :216.5   Median :12250   Median :1.000   Median :  43.542  \n",
       " Mean   :216.5   Mean   :12239   Mean   :0.797   Mean   : 319.065  \n",
       " 3rd Qu.:324.8   3rd Qu.:13070   3rd Qu.:1.000   3rd Qu.: 203.172  \n",
       " Max.   :433.0   Max.   :13884   Max.   :1.000   Max.   :2088.000  \n",
       "                                 NA's   :40      NA's   :40        \n",
       "  subject_id_x   baseline_b1_001 baseline_c1_001 baseline_d1_001\n",
       " Min.   : 21.0   Min.   :1.000   Min.   :1.000   Min.   :1.000  \n",
       " 1st Qu.:123.2   1st Qu.:3.000   1st Qu.:4.000   1st Qu.:2.000  \n",
       " Median :228.5   Median :4.000   Median :4.000   Median :4.000  \n",
       " Mean   :353.0   Mean   :3.788   Mean   :4.169   Mean   :3.384  \n",
       " 3rd Qu.:614.2   3rd Qu.:5.000   3rd Qu.:5.000   3rd Qu.:4.500  \n",
       " Max.   :722.0   Max.   :5.000   Max.   :5.000   Max.   :5.000  \n",
       " NA's   :40      NA's   :43      NA's   :44      NA's   :43     \n",
       " baseline_b1_002 baseline_c1_002 baseline_d1_002 baseline_b1_003\n",
       " Min.   :1.000   Min.   :1.000   Min.   :1.000   Min.   :1.000  \n",
       " 1st Qu.:3.000   1st Qu.:3.000   1st Qu.:2.000   1st Qu.:1.000  \n",
       " Median :4.000   Median :4.000   Median :4.000   Median :2.000  \n",
       " Mean   :3.609   Mean   :3.959   Mean   :3.243   Mean   :2.512  \n",
       " 3rd Qu.:5.000   3rd Qu.:5.000   3rd Qu.:4.000   3rd Qu.:4.000  \n",
       " Max.   :5.000   Max.   :5.000   Max.   :5.000   Max.   :5.000  \n",
       " NA's   :43      NA's   :44      NA's   :43      NA's   :43     \n",
       " baseline_c1_003 baseline_d1_003 baseline_b1_004 baseline_c1_004\n",
       " Min.   :1.000   Min.   :1.000   Min.   :1.000   Min.   :1.000  \n",
       " 1st Qu.:1.000   1st Qu.:1.000   1st Qu.:2.000   1st Qu.:2.000  \n",
       " Median :2.000   Median :2.000   Median :3.000   Median :4.000  \n",
       " Mean   :2.123   Mean   :2.279   Mean   :3.013   Mean   :3.492  \n",
       " 3rd Qu.:3.000   3rd Qu.:3.000   3rd Qu.:4.000   3rd Qu.:5.000  \n",
       " Max.   :5.000   Max.   :5.000   Max.   :5.000   Max.   :5.000  \n",
       " NA's   :44      NA's   :43      NA's   :43      NA's   :44     \n",
       " baseline_d1_004  subject_id_y   baseline_f1_002 baseline_f1_004\n",
       " Min.   :1.000   Min.   : 21.0   Min.   :1.000   Min.   :1.000  \n",
       " 1st Qu.:2.000   1st Qu.:123.2   1st Qu.:1.000   1st Qu.:2.000  \n",
       " Median :4.000   Median :228.5   Median :3.000   Median :3.000  \n",
       " Mean   :3.258   Mean   :353.0   Mean   :2.749   Mean   :3.146  \n",
       " 3rd Qu.:4.000   3rd Qu.:614.2   3rd Qu.:4.000   3rd Qu.:4.000  \n",
       " Max.   :5.000   Max.   :722.0   Max.   :5.000   Max.   :5.000  \n",
       " NA's   :43      NA's   :40      NA's   :43      NA's   :43     \n",
       " baseline_f1_006 baseline_f1_007 baseline_f1_008 baseline_f2_002\n",
       " Min.   :1.00    Min.   :1.000   Min.   :1.000   Min.   :1.000  \n",
       " 1st Qu.:1.00    1st Qu.:2.000   1st Qu.:2.000   1st Qu.:3.000  \n",
       " Median :3.00    Median :3.000   Median :3.000   Median :4.000  \n",
       " Mean   :2.67    Mean   :3.074   Mean   :2.798   Mean   :3.879  \n",
       " 3rd Qu.:4.00    3rd Qu.:4.000   3rd Qu.:4.000   3rd Qu.:5.000  \n",
       " Max.   :5.00    Max.   :5.000   Max.   :5.000   Max.   :5.000  \n",
       " NA's   :43      NA's   :43      NA's   :43      NA's   :44     \n",
       " baseline_f2_004 baseline_f2_006 baseline_f2_007 baseline_f2_008\n",
       " Min.   :1.000   Min.   :1.000   Min.   :1.000   Min.   :1.000  \n",
       " 1st Qu.:3.000   1st Qu.:2.000   1st Qu.:2.000   1st Qu.:1.000  \n",
       " Median :4.000   Median :4.000   Median :4.000   Median :2.000  \n",
       " Mean   :3.859   Mean   :3.366   Mean   :3.277   Mean   :2.279  \n",
       " 3rd Qu.:5.000   3rd Qu.:5.000   3rd Qu.:5.000   3rd Qu.:3.000  \n",
       " Max.   :5.000   Max.   :5.000   Max.   :5.000   Max.   :5.000  \n",
       " NA's   :43      NA's   :43      NA's   :44      NA's   :43     \n",
       " subject_id_x.1  baseline_e1_004 baseline_e2_001 baseline_e2_002\n",
       " Min.   : 21.0   Min.   :1.000   Min.   :1.00    Min.   :1.000  \n",
       " 1st Qu.:123.2   1st Qu.:4.000   1st Qu.:3.00    1st Qu.:3.000  \n",
       " Median :228.5   Median :4.000   Median :4.00    Median :4.000  \n",
       " Mean   :353.0   Mean   :3.915   Mean   :3.54    Mean   :3.839  \n",
       " 3rd Qu.:614.2   3rd Qu.:5.000   3rd Qu.:5.00    3rd Qu.:5.000  \n",
       " Max.   :722.0   Max.   :5.000   Max.   :5.00    Max.   :5.000  \n",
       " NA's   :40      NA's   :44      NA's   :43      NA's   :43     \n",
       " baseline_e2_003 baseline_e2_004 subject_id_y.1  baseline_b2_002\n",
       " Min.   :1.000   Min.   :1.00    Min.   : 21.0   Min.   :1.000  \n",
       " 1st Qu.:4.000   1st Qu.:3.00    1st Qu.:123.2   1st Qu.:1.000  \n",
       " Median :5.000   Median :4.00    Median :228.5   Median :3.000  \n",
       " Mean   :4.445   Mean   :3.59    Mean   :353.0   Mean   :2.887  \n",
       " 3rd Qu.:5.000   3rd Qu.:5.00    3rd Qu.:614.2   3rd Qu.:4.000  \n",
       " Max.   :5.000   Max.   :5.00    Max.   :722.0   Max.   :5.000  \n",
       " NA's   :43      NA's   :44      NA's   :40      NA's   :43     \n",
       " baseline_c2_002 baseline_d2_002 chartreview_d1_001 chartreview_e1_005\n",
       " Min.   :1.000   Min.   :1.000   Min.   :1.000      Min.   :0.0000    \n",
       " 1st Qu.:1.000   1st Qu.:1.000   1st Qu.:1.000      1st Qu.:0.0000    \n",
       " Median :3.000   Median :1.000   Median :1.000      Median :0.0000    \n",
       " Mean   :2.962   Mean   :2.087   Mean   :1.316      Mean   :0.1751    \n",
       " 3rd Qu.:5.000   3rd Qu.:3.000   3rd Qu.:1.000      3rd Qu.:0.0000    \n",
       " Max.   :5.000   Max.   :5.000   Max.   :3.000      Max.   :1.0000    \n",
       " NA's   :43      NA's   :43                                           \n",
       " chartreview_e1_006 actual_severity  chartreview_b1_001 chartreview_b1_002\n",
       " Min.   :0.00000    Min.   :0.0000   Min.   :   1       Min.   :   1      \n",
       " 1st Qu.:0.00000    1st Qu.:1.0000   1st Qu.:9999       1st Qu.:   1      \n",
       " Median :0.00000    Median :1.0000   Median :9999       Median :   1      \n",
       " Mean   :0.01843    Mean   :0.9862   Mean   :8640       Mean   :4724      \n",
       " 3rd Qu.:0.00000    3rd Qu.:1.0000   3rd Qu.:9999       3rd Qu.:9999      \n",
       " Max.   :1.00000    Max.   :2.0000   Max.   :9999       Max.   :9999      \n",
       "                                                                          \n",
       " chartreview_b1_008 chartreview_b1_012 chartreview_b1_013 chartreview_b1_014\n",
       " Min.   :   1       Min.   :   1       Min.   :   1       Min.   :   1      \n",
       " 1st Qu.:9999       1st Qu.:   1       1st Qu.:   1       1st Qu.:9999      \n",
       " Median :9999       Median :   1       Median :   1       Median :9999      \n",
       " Mean   :7695       Mean   :4447       Mean   :4747       Mean   :8640      \n",
       " 3rd Qu.:9999       3rd Qu.:9999       3rd Qu.:9999       3rd Qu.:9999      \n",
       " Max.   :9999       Max.   :9999       Max.   :9999       Max.   :9999      \n",
       "                                                                            \n",
       "      TIMI      \n",
       " Min.   :0.000  \n",
       " 1st Qu.:1.000  \n",
       " Median :2.000  \n",
       " Mean   :2.111  \n",
       " 3rd Qu.:3.000  \n",
       " Max.   :6.000  \n",
       "                "
      ]
     },
     "metadata": {},
     "output_type": "display_data"
    }
   ],
   "source": [
    "summary(coxreg)"
   ]
  },
  {
   "cell_type": "markdown",
   "metadata": {},
   "source": [
    "## Cox regression with principal component scores - perceived illness severity"
   ]
  },
  {
   "cell_type": "markdown",
   "metadata": {},
   "source": [
    "## Compute principal components for baseline predictors"
   ]
  },
  {
   "cell_type": "code",
   "execution_count": 4,
   "metadata": {},
   "outputs": [
    {
     "name": "stdout",
     "output_type": "stream",
     "text": [
      "'data.frame':\t390 obs. of  15 variables:\n",
      " $ isg_no         : num  10587 10636 10657 10664 10671 ...\n",
      " $ event          : num  1 1 1 0 1 1 0 1 1 1 ...\n",
      " $ hours_to_event : num  25.62 25.94 2.98 2088 114.74 ...\n",
      " $ baseline_b1_001: num  5 4 4 2 3 5 5 4 3 3 ...\n",
      " $ baseline_b1_002: num  1 4 3 2 3 5 5 2 3 3 ...\n",
      " $ baseline_b1_003: num  3 3 4 4 3 1 1 2 4 1 ...\n",
      " $ baseline_b1_004: num  4 3 3 2 3 5 5 3 2 5 ...\n",
      " $ baseline_c1_001: num  4 4 4 4 3 5 5 4 3 3 ...\n",
      " $ baseline_c1_002: num  3 3 3 4 3 5 5 4 3 4 ...\n",
      " $ baseline_c1_003: num  3 3 3 2 2 1 1 1 3 1 ...\n",
      " $ baseline_c1_004: num  2 3 3 4 3 5 4 1 3 5 ...\n",
      " $ baseline_d1_001: num  4 4 3 4 1 4 4 5 2 5 ...\n",
      " $ baseline_d1_002: num  2 3 3 4 2 4 3 4 2 5 ...\n",
      " $ baseline_d1_003: num  1 3 3 2 3 4 3 2 3 1 ...\n",
      " $ baseline_d1_004: num  4 3 3 4 2 5 3 4 2 5 ...\n",
      " - attr(*, \"na.action\")=Class 'omit'  Named int [1:44] 12 84 113 276 395 396 397 398 399 400 ...\n",
      "  .. ..- attr(*, \"names\")= chr [1:44] \"12\" \"84\" \"113\" \"276\" ...\n"
     ]
    }
   ],
   "source": [
    "keeplist = c('isg_no','event','hours_to_event',\n",
    "             'baseline_b1_001','baseline_b1_002','baseline_b1_003','baseline_b1_004',\n",
    "             'baseline_c1_001','baseline_c1_002','baseline_c1_003','baseline_c1_004',\n",
    "             'baseline_d1_001','baseline_d1_002','baseline_d1_003','baseline_d1_004')\n",
    "\n",
    "perceived_severity = na.omit(coxreg[,keeplist])\n",
    "str(perceived_severity)"
   ]
  },
  {
   "cell_type": "code",
   "execution_count": 5,
   "metadata": {},
   "outputs": [
    {
     "name": "stdout",
     "output_type": "stream",
     "text": [
      "'data.frame':\t390 obs. of  12 variables:\n",
      " $ baseline_b1_001: num  5 4 4 2 3 5 5 4 3 3 ...\n",
      " $ baseline_b1_002: num  1 4 3 2 3 5 5 2 3 3 ...\n",
      " $ baseline_b1_003: num  3 3 4 4 3 1 1 2 4 1 ...\n",
      " $ baseline_b1_004: num  4 3 3 2 3 5 5 3 2 5 ...\n",
      " $ baseline_c1_001: num  4 4 4 4 3 5 5 4 3 3 ...\n",
      " $ baseline_c1_002: num  3 3 3 4 3 5 5 4 3 4 ...\n",
      " $ baseline_c1_003: num  3 3 3 2 2 1 1 1 3 1 ...\n",
      " $ baseline_c1_004: num  2 3 3 4 3 5 4 1 3 5 ...\n",
      " $ baseline_d1_001: num  4 4 3 4 1 4 4 5 2 5 ...\n",
      " $ baseline_d1_002: num  2 3 3 4 2 4 3 4 2 5 ...\n",
      " $ baseline_d1_003: num  1 3 3 2 3 4 3 2 3 1 ...\n",
      " $ baseline_d1_004: num  4 3 3 4 2 5 3 4 2 5 ...\n"
     ]
    }
   ],
   "source": [
    "perceived_severity2 = perceived_severity[,4:15]\n",
    "str(perceived_severity2)"
   ]
  },
  {
   "cell_type": "code",
   "execution_count": 6,
   "metadata": {},
   "outputs": [
    {
     "data": {
      "text/plain": [
       " baseline_b1_001 baseline_b1_002 baseline_b1_003 baseline_b1_004\n",
       " Min.   :1.000   Min.   :1.000   Min.   :1.000   Min.   :1.000  \n",
       " 1st Qu.:3.000   1st Qu.:3.000   1st Qu.:1.000   1st Qu.:2.000  \n",
       " Median :4.000   Median :4.000   Median :2.000   Median :3.000  \n",
       " Mean   :3.785   Mean   :3.605   Mean   :2.505   Mean   :3.008  \n",
       " 3rd Qu.:5.000   3rd Qu.:5.000   3rd Qu.:4.000   3rd Qu.:4.000  \n",
       " Max.   :5.000   Max.   :5.000   Max.   :5.000   Max.   :5.000  \n",
       " baseline_c1_001 baseline_c1_002 baseline_c1_003 baseline_c1_004\n",
       " Min.   :1.000   Min.   :1.000   Min.   :1.000   Min.   :1.000  \n",
       " 1st Qu.:4.000   1st Qu.:3.000   1st Qu.:1.000   1st Qu.:2.000  \n",
       " Median :4.000   Median :4.000   Median :2.000   Median :4.000  \n",
       " Mean   :4.169   Mean   :3.959   Mean   :2.123   Mean   :3.492  \n",
       " 3rd Qu.:5.000   3rd Qu.:5.000   3rd Qu.:3.000   3rd Qu.:5.000  \n",
       " Max.   :5.000   Max.   :5.000   Max.   :5.000   Max.   :5.000  \n",
       " baseline_d1_001 baseline_d1_002 baseline_d1_003 baseline_d1_004\n",
       " Min.   :1.000   Min.   :1.000   Min.   :1.000   Min.   :1.000  \n",
       " 1st Qu.:2.000   1st Qu.:2.000   1st Qu.:1.000   1st Qu.:2.000  \n",
       " Median :4.000   Median :4.000   Median :2.000   Median :4.000  \n",
       " Mean   :3.379   Mean   :3.249   Mean   :2.279   Mean   :3.254  \n",
       " 3rd Qu.:4.000   3rd Qu.:4.000   3rd Qu.:3.000   3rd Qu.:4.000  \n",
       " Max.   :5.000   Max.   :5.000   Max.   :5.000   Max.   :5.000  "
      ]
     },
     "metadata": {},
     "output_type": "display_data"
    }
   ],
   "source": [
    "summary(perceived_severity2)"
   ]
  },
  {
   "cell_type": "code",
   "execution_count": 7,
   "metadata": {},
   "outputs": [
    {
     "data": {
      "text/html": [
       "<table>\n",
       "<thead><tr><th></th><th scope=col>baseline_b1_001</th><th scope=col>baseline_b1_002</th><th scope=col>baseline_b1_003</th><th scope=col>baseline_b1_004</th><th scope=col>baseline_c1_001</th><th scope=col>baseline_c1_002</th><th scope=col>baseline_c1_003</th><th scope=col>baseline_c1_004</th><th scope=col>baseline_d1_001</th><th scope=col>baseline_d1_002</th><th scope=col>baseline_d1_003</th><th scope=col>baseline_d1_004</th></tr></thead>\n",
       "<tbody>\n",
       "\t<tr><th scope=row>1</th><td>5</td><td>1</td><td>3</td><td>4</td><td>4</td><td>3</td><td>3</td><td>2</td><td>4</td><td>2</td><td>1</td><td>4</td></tr>\n",
       "\t<tr><th scope=row>2</th><td>4</td><td>4</td><td>3</td><td>3</td><td>4</td><td>3</td><td>3</td><td>3</td><td>4</td><td>3</td><td>3</td><td>3</td></tr>\n",
       "\t<tr><th scope=row>3</th><td>4</td><td>3</td><td>4</td><td>3</td><td>4</td><td>3</td><td>3</td><td>3</td><td>3</td><td>3</td><td>3</td><td>3</td></tr>\n",
       "\t<tr><th scope=row>4</th><td>2</td><td>2</td><td>4</td><td>2</td><td>4</td><td>4</td><td>2</td><td>4</td><td>4</td><td>4</td><td>2</td><td>4</td></tr>\n",
       "\t<tr><th scope=row>5</th><td>3</td><td>3</td><td>3</td><td>3</td><td>3</td><td>3</td><td>2</td><td>3</td><td>1</td><td>2</td><td>3</td><td>2</td></tr>\n",
       "\t<tr><th scope=row>6</th><td>5</td><td>5</td><td>1</td><td>5</td><td>5</td><td>5</td><td>1</td><td>5</td><td>4</td><td>4</td><td>4</td><td>5</td></tr>\n",
       "\t<tr><th scope=row>7</th><td>5</td><td>5</td><td>1</td><td>5</td><td>5</td><td>5</td><td>1</td><td>4</td><td>4</td><td>3</td><td>3</td><td>3</td></tr>\n",
       "\t<tr><th scope=row>8</th><td>4</td><td>2</td><td>2</td><td>3</td><td>4</td><td>4</td><td>1</td><td>1</td><td>5</td><td>4</td><td>2</td><td>4</td></tr>\n",
       "\t<tr><th scope=row>9</th><td>3</td><td>3</td><td>4</td><td>2</td><td>3</td><td>3</td><td>3</td><td>3</td><td>2</td><td>2</td><td>3</td><td>2</td></tr>\n",
       "\t<tr><th scope=row>10</th><td>3</td><td>3</td><td>1</td><td>5</td><td>3</td><td>4</td><td>1</td><td>5</td><td>5</td><td>5</td><td>1</td><td>5</td></tr>\n",
       "\t<tr><th scope=row>11</th><td>3</td><td>4</td><td>3</td><td>3</td><td>3</td><td>3</td><td>3</td><td>5</td><td>4</td><td>3</td><td>3</td><td>3</td></tr>\n",
       "\t<tr><th scope=row>13</th><td>4</td><td>3</td><td>2</td><td>4</td><td>4</td><td>4</td><td>3</td><td>5</td><td>4</td><td>3</td><td>2</td><td>5</td></tr>\n",
       "\t<tr><th scope=row>14</th><td>4</td><td>4</td><td>1</td><td>3</td><td>4</td><td>3</td><td>2</td><td>4</td><td>4</td><td>3</td><td>2</td><td>4</td></tr>\n",
       "\t<tr><th scope=row>15</th><td>3</td><td>1</td><td>1</td><td>1</td><td>3</td><td>3</td><td>3</td><td>3</td><td>1</td><td>1</td><td>1</td><td>1</td></tr>\n",
       "\t<tr><th scope=row>16</th><td>5</td><td>4</td><td>1</td><td>5</td><td>5</td><td>5</td><td>1</td><td>4</td><td>5</td><td>5</td><td>1</td><td>4</td></tr>\n",
       "\t<tr><th scope=row>17</th><td>2</td><td>2</td><td>4</td><td>1</td><td>4</td><td>4</td><td>2</td><td>4</td><td>4</td><td>4</td><td>3</td><td>4</td></tr>\n",
       "\t<tr><th scope=row>18</th><td>5</td><td>4</td><td>2</td><td>3</td><td>5</td><td>4</td><td>3</td><td>3</td><td>2</td><td>2</td><td>4</td><td>1</td></tr>\n",
       "\t<tr><th scope=row>19</th><td>5</td><td>5</td><td>1</td><td>5</td><td>5</td><td>5</td><td>1</td><td>5</td><td>4</td><td>4</td><td>2</td><td>4</td></tr>\n",
       "\t<tr><th scope=row>20</th><td>5</td><td>4</td><td>1</td><td>4</td><td>5</td><td>4</td><td>1</td><td>4</td><td>5</td><td>1</td><td>3</td><td>4</td></tr>\n",
       "\t<tr><th scope=row>21</th><td>5</td><td>4</td><td>3</td><td>3</td><td>4</td><td>4</td><td>2</td><td>3</td><td>4</td><td>4</td><td>2</td><td>3</td></tr>\n",
       "\t<tr><th scope=row>22</th><td>5</td><td>4</td><td>1</td><td>4</td><td>5</td><td>5</td><td>1</td><td>5</td><td>5</td><td>5</td><td>1</td><td>5</td></tr>\n",
       "\t<tr><th scope=row>23</th><td>5</td><td>5</td><td>1</td><td>4</td><td>5</td><td>5</td><td>1</td><td>4</td><td>5</td><td>5</td><td>1</td><td>5</td></tr>\n",
       "\t<tr><th scope=row>24</th><td>4</td><td>4</td><td>2</td><td>3</td><td>3</td><td>3</td><td>2</td><td>3</td><td>3</td><td>3</td><td>3</td><td>3</td></tr>\n",
       "\t<tr><th scope=row>25</th><td>5</td><td>4</td><td>1</td><td>5</td><td>5</td><td>5</td><td>2</td><td>5</td><td>4</td><td>4</td><td>1</td><td>5</td></tr>\n",
       "\t<tr><th scope=row>26</th><td>4</td><td>4</td><td>3</td><td>2</td><td>4</td><td>4</td><td>3</td><td>2</td><td>4</td><td>4</td><td>3</td><td>2</td></tr>\n",
       "\t<tr><th scope=row>27</th><td>5</td><td>5</td><td>1</td><td>5</td><td>5</td><td>5</td><td>1</td><td>5</td><td>5</td><td>4</td><td>1</td><td>5</td></tr>\n",
       "\t<tr><th scope=row>28</th><td>4</td><td>4</td><td>1</td><td>3</td><td>5</td><td>5</td><td>1</td><td>5</td><td>5</td><td>4</td><td>1</td><td>4</td></tr>\n",
       "\t<tr><th scope=row>29</th><td>5</td><td>3</td><td>2</td><td>5</td><td>5</td><td>5</td><td>1</td><td>5</td><td>5</td><td>5</td><td>4</td><td>5</td></tr>\n",
       "\t<tr><th scope=row>30</th><td>5</td><td>2</td><td>3</td><td>3</td><td>5</td><td>1</td><td>3</td><td>3</td><td>3</td><td>3</td><td>4</td><td>3</td></tr>\n",
       "\t<tr><th scope=row>31</th><td>4</td><td>4</td><td>1</td><td>5</td><td>4</td><td>4</td><td>4</td><td>4</td><td>2</td><td>2</td><td>2</td><td>5</td></tr>\n",
       "\t<tr><th scope=row>⋮</th><td>⋮</td><td>⋮</td><td>⋮</td><td>⋮</td><td>⋮</td><td>⋮</td><td>⋮</td><td>⋮</td><td>⋮</td><td>⋮</td><td>⋮</td><td>⋮</td></tr>\n",
       "\t<tr><th scope=row>365</th><td>3</td><td>1</td><td>4</td><td>2</td><td>5</td><td>5</td><td>1</td><td>5</td><td>1</td><td>2</td><td>1</td><td>5</td></tr>\n",
       "\t<tr><th scope=row>366</th><td>5</td><td>5</td><td>1</td><td>3</td><td>4</td><td>4</td><td>1</td><td>1</td><td>4</td><td>4</td><td>1</td><td>1</td></tr>\n",
       "\t<tr><th scope=row>367</th><td>4</td><td>4</td><td>2</td><td>4</td><td>4</td><td>4</td><td>1</td><td>4</td><td>4</td><td>2</td><td>1</td><td>2</td></tr>\n",
       "\t<tr><th scope=row>368</th><td>2</td><td>2</td><td>4</td><td>2</td><td>4</td><td>4</td><td>2</td><td>4</td><td>4</td><td>4</td><td>2</td><td>4</td></tr>\n",
       "\t<tr><th scope=row>369</th><td>5</td><td>5</td><td>1</td><td>5</td><td>5</td><td>5</td><td>1</td><td>5</td><td>3</td><td>2</td><td>1</td><td>2</td></tr>\n",
       "\t<tr><th scope=row>370</th><td>5</td><td>5</td><td>2</td><td>5</td><td>5</td><td>5</td><td>1</td><td>5</td><td>5</td><td>5</td><td>1</td><td>5</td></tr>\n",
       "\t<tr><th scope=row>371</th><td>5</td><td>5</td><td>1</td><td>4</td><td>5</td><td>5</td><td>4</td><td>4</td><td>4</td><td>4</td><td>4</td><td>4</td></tr>\n",
       "\t<tr><th scope=row>372</th><td>1</td><td>2</td><td>4</td><td>1</td><td>5</td><td>5</td><td>1</td><td>5</td><td>3</td><td>4</td><td>2</td><td>4</td></tr>\n",
       "\t<tr><th scope=row>373</th><td>4</td><td>4</td><td>2</td><td>3</td><td>4</td><td>4</td><td>3</td><td>3</td><td>3</td><td>2</td><td>3</td><td>3</td></tr>\n",
       "\t<tr><th scope=row>374</th><td>5</td><td>5</td><td>1</td><td>5</td><td>5</td><td>5</td><td>1</td><td>5</td><td>3</td><td>5</td><td>1</td><td>5</td></tr>\n",
       "\t<tr><th scope=row>375</th><td>5</td><td>5</td><td>2</td><td>4</td><td>5</td><td>5</td><td>4</td><td>5</td><td>3</td><td>1</td><td>5</td><td>4</td></tr>\n",
       "\t<tr><th scope=row>376</th><td>5</td><td>5</td><td>1</td><td>5</td><td>5</td><td>5</td><td>1</td><td>5</td><td>5</td><td>5</td><td>1</td><td>5</td></tr>\n",
       "\t<tr><th scope=row>377</th><td>5</td><td>5</td><td>4</td><td>1</td><td>5</td><td>5</td><td>5</td><td>3</td><td>5</td><td>5</td><td>1</td><td>5</td></tr>\n",
       "\t<tr><th scope=row>378</th><td>5</td><td>5</td><td>1</td><td>5</td><td>4</td><td>4</td><td>4</td><td>1</td><td>3</td><td>2</td><td>2</td><td>5</td></tr>\n",
       "\t<tr><th scope=row>379</th><td>4</td><td>4</td><td>1</td><td>4</td><td>4</td><td>2</td><td>1</td><td>4</td><td>4</td><td>4</td><td>1</td><td>4</td></tr>\n",
       "\t<tr><th scope=row>380</th><td>5</td><td>5</td><td>1</td><td>5</td><td>5</td><td>5</td><td>1</td><td>3</td><td>5</td><td>4</td><td>1</td><td>5</td></tr>\n",
       "\t<tr><th scope=row>381</th><td>4</td><td>5</td><td>1</td><td>1</td><td>5</td><td>5</td><td>1</td><td>5</td><td>5</td><td>5</td><td>1</td><td>5</td></tr>\n",
       "\t<tr><th scope=row>382</th><td>4</td><td>4</td><td>3</td><td>3</td><td>4</td><td>4</td><td>2</td><td>2</td><td>1</td><td>3</td><td>2</td><td>1</td></tr>\n",
       "\t<tr><th scope=row>383</th><td>5</td><td>5</td><td>2</td><td>5</td><td>5</td><td>5</td><td>2</td><td>5</td><td>5</td><td>5</td><td>2</td><td>5</td></tr>\n",
       "\t<tr><th scope=row>384</th><td>5</td><td>5</td><td>3</td><td>5</td><td>5</td><td>5</td><td>3</td><td>5</td><td>1</td><td>1</td><td>4</td><td>1</td></tr>\n",
       "\t<tr><th scope=row>385</th><td>5</td><td>5</td><td>1</td><td>5</td><td>5</td><td>5</td><td>1</td><td>5</td><td>5</td><td>5</td><td>1</td><td>5</td></tr>\n",
       "\t<tr><th scope=row>386</th><td>4</td><td>1</td><td>4</td><td>1</td><td>4</td><td>4</td><td>2</td><td>2</td><td>2</td><td>4</td><td>2</td><td>4</td></tr>\n",
       "\t<tr><th scope=row>387</th><td>4</td><td>4</td><td>1</td><td>5</td><td>5</td><td>5</td><td>3</td><td>5</td><td>1</td><td>1</td><td>3</td><td>5</td></tr>\n",
       "\t<tr><th scope=row>388</th><td>4</td><td>4</td><td>1</td><td>5</td><td>5</td><td>5</td><td>1</td><td>5</td><td>5</td><td>5</td><td>1</td><td>5</td></tr>\n",
       "\t<tr><th scope=row>389</th><td>4</td><td>4</td><td>2</td><td>4</td><td>4</td><td>4</td><td>4</td><td>5</td><td>4</td><td>4</td><td>4</td><td>5</td></tr>\n",
       "\t<tr><th scope=row>390</th><td>1</td><td>1</td><td>2</td><td>4</td><td>5</td><td>5</td><td>3</td><td>5</td><td>4</td><td>1</td><td>3</td><td>3</td></tr>\n",
       "\t<tr><th scope=row>391</th><td>5</td><td>5</td><td>1</td><td>5</td><td>5</td><td>5</td><td>1</td><td>5</td><td>5</td><td>1</td><td>1</td><td>5</td></tr>\n",
       "\t<tr><th scope=row>392</th><td>4</td><td>3</td><td>4</td><td>3</td><td>3</td><td>3</td><td>3</td><td>1</td><td>1</td><td>1</td><td>4</td><td>4</td></tr>\n",
       "\t<tr><th scope=row>393</th><td>4</td><td>4</td><td>4</td><td>2</td><td>4</td><td>4</td><td>3</td><td>2</td><td>4</td><td>4</td><td>2</td><td>4</td></tr>\n",
       "\t<tr><th scope=row>394</th><td>4</td><td>4</td><td>2</td><td>4</td><td>4</td><td>4</td><td>2</td><td>4</td><td>4</td><td>4</td><td>2</td><td>3</td></tr>\n",
       "</tbody>\n",
       "</table>\n"
      ],
      "text/latex": [
       "\\begin{tabular}{r|llllllllllll}\n",
       "  & baseline\\_b1\\_001 & baseline\\_b1\\_002 & baseline\\_b1\\_003 & baseline\\_b1\\_004 & baseline\\_c1\\_001 & baseline\\_c1\\_002 & baseline\\_c1\\_003 & baseline\\_c1\\_004 & baseline\\_d1\\_001 & baseline\\_d1\\_002 & baseline\\_d1\\_003 & baseline\\_d1\\_004\\\\\n",
       "\\hline\n",
       "\t1 & 5 & 1 & 3 & 4 & 4 & 3 & 3 & 2 & 4 & 2 & 1 & 4\\\\\n",
       "\t2 & 4 & 4 & 3 & 3 & 4 & 3 & 3 & 3 & 4 & 3 & 3 & 3\\\\\n",
       "\t3 & 4 & 3 & 4 & 3 & 4 & 3 & 3 & 3 & 3 & 3 & 3 & 3\\\\\n",
       "\t4 & 2 & 2 & 4 & 2 & 4 & 4 & 2 & 4 & 4 & 4 & 2 & 4\\\\\n",
       "\t5 & 3 & 3 & 3 & 3 & 3 & 3 & 2 & 3 & 1 & 2 & 3 & 2\\\\\n",
       "\t6 & 5 & 5 & 1 & 5 & 5 & 5 & 1 & 5 & 4 & 4 & 4 & 5\\\\\n",
       "\t7 & 5 & 5 & 1 & 5 & 5 & 5 & 1 & 4 & 4 & 3 & 3 & 3\\\\\n",
       "\t8 & 4 & 2 & 2 & 3 & 4 & 4 & 1 & 1 & 5 & 4 & 2 & 4\\\\\n",
       "\t9 & 3 & 3 & 4 & 2 & 3 & 3 & 3 & 3 & 2 & 2 & 3 & 2\\\\\n",
       "\t10 & 3 & 3 & 1 & 5 & 3 & 4 & 1 & 5 & 5 & 5 & 1 & 5\\\\\n",
       "\t11 & 3 & 4 & 3 & 3 & 3 & 3 & 3 & 5 & 4 & 3 & 3 & 3\\\\\n",
       "\t13 & 4 & 3 & 2 & 4 & 4 & 4 & 3 & 5 & 4 & 3 & 2 & 5\\\\\n",
       "\t14 & 4 & 4 & 1 & 3 & 4 & 3 & 2 & 4 & 4 & 3 & 2 & 4\\\\\n",
       "\t15 & 3 & 1 & 1 & 1 & 3 & 3 & 3 & 3 & 1 & 1 & 1 & 1\\\\\n",
       "\t16 & 5 & 4 & 1 & 5 & 5 & 5 & 1 & 4 & 5 & 5 & 1 & 4\\\\\n",
       "\t17 & 2 & 2 & 4 & 1 & 4 & 4 & 2 & 4 & 4 & 4 & 3 & 4\\\\\n",
       "\t18 & 5 & 4 & 2 & 3 & 5 & 4 & 3 & 3 & 2 & 2 & 4 & 1\\\\\n",
       "\t19 & 5 & 5 & 1 & 5 & 5 & 5 & 1 & 5 & 4 & 4 & 2 & 4\\\\\n",
       "\t20 & 5 & 4 & 1 & 4 & 5 & 4 & 1 & 4 & 5 & 1 & 3 & 4\\\\\n",
       "\t21 & 5 & 4 & 3 & 3 & 4 & 4 & 2 & 3 & 4 & 4 & 2 & 3\\\\\n",
       "\t22 & 5 & 4 & 1 & 4 & 5 & 5 & 1 & 5 & 5 & 5 & 1 & 5\\\\\n",
       "\t23 & 5 & 5 & 1 & 4 & 5 & 5 & 1 & 4 & 5 & 5 & 1 & 5\\\\\n",
       "\t24 & 4 & 4 & 2 & 3 & 3 & 3 & 2 & 3 & 3 & 3 & 3 & 3\\\\\n",
       "\t25 & 5 & 4 & 1 & 5 & 5 & 5 & 2 & 5 & 4 & 4 & 1 & 5\\\\\n",
       "\t26 & 4 & 4 & 3 & 2 & 4 & 4 & 3 & 2 & 4 & 4 & 3 & 2\\\\\n",
       "\t27 & 5 & 5 & 1 & 5 & 5 & 5 & 1 & 5 & 5 & 4 & 1 & 5\\\\\n",
       "\t28 & 4 & 4 & 1 & 3 & 5 & 5 & 1 & 5 & 5 & 4 & 1 & 4\\\\\n",
       "\t29 & 5 & 3 & 2 & 5 & 5 & 5 & 1 & 5 & 5 & 5 & 4 & 5\\\\\n",
       "\t30 & 5 & 2 & 3 & 3 & 5 & 1 & 3 & 3 & 3 & 3 & 4 & 3\\\\\n",
       "\t31 & 4 & 4 & 1 & 5 & 4 & 4 & 4 & 4 & 2 & 2 & 2 & 5\\\\\n",
       "\t⋮ & ⋮ & ⋮ & ⋮ & ⋮ & ⋮ & ⋮ & ⋮ & ⋮ & ⋮ & ⋮ & ⋮ & ⋮\\\\\n",
       "\t365 & 3 & 1 & 4 & 2 & 5 & 5 & 1 & 5 & 1 & 2 & 1 & 5\\\\\n",
       "\t366 & 5 & 5 & 1 & 3 & 4 & 4 & 1 & 1 & 4 & 4 & 1 & 1\\\\\n",
       "\t367 & 4 & 4 & 2 & 4 & 4 & 4 & 1 & 4 & 4 & 2 & 1 & 2\\\\\n",
       "\t368 & 2 & 2 & 4 & 2 & 4 & 4 & 2 & 4 & 4 & 4 & 2 & 4\\\\\n",
       "\t369 & 5 & 5 & 1 & 5 & 5 & 5 & 1 & 5 & 3 & 2 & 1 & 2\\\\\n",
       "\t370 & 5 & 5 & 2 & 5 & 5 & 5 & 1 & 5 & 5 & 5 & 1 & 5\\\\\n",
       "\t371 & 5 & 5 & 1 & 4 & 5 & 5 & 4 & 4 & 4 & 4 & 4 & 4\\\\\n",
       "\t372 & 1 & 2 & 4 & 1 & 5 & 5 & 1 & 5 & 3 & 4 & 2 & 4\\\\\n",
       "\t373 & 4 & 4 & 2 & 3 & 4 & 4 & 3 & 3 & 3 & 2 & 3 & 3\\\\\n",
       "\t374 & 5 & 5 & 1 & 5 & 5 & 5 & 1 & 5 & 3 & 5 & 1 & 5\\\\\n",
       "\t375 & 5 & 5 & 2 & 4 & 5 & 5 & 4 & 5 & 3 & 1 & 5 & 4\\\\\n",
       "\t376 & 5 & 5 & 1 & 5 & 5 & 5 & 1 & 5 & 5 & 5 & 1 & 5\\\\\n",
       "\t377 & 5 & 5 & 4 & 1 & 5 & 5 & 5 & 3 & 5 & 5 & 1 & 5\\\\\n",
       "\t378 & 5 & 5 & 1 & 5 & 4 & 4 & 4 & 1 & 3 & 2 & 2 & 5\\\\\n",
       "\t379 & 4 & 4 & 1 & 4 & 4 & 2 & 1 & 4 & 4 & 4 & 1 & 4\\\\\n",
       "\t380 & 5 & 5 & 1 & 5 & 5 & 5 & 1 & 3 & 5 & 4 & 1 & 5\\\\\n",
       "\t381 & 4 & 5 & 1 & 1 & 5 & 5 & 1 & 5 & 5 & 5 & 1 & 5\\\\\n",
       "\t382 & 4 & 4 & 3 & 3 & 4 & 4 & 2 & 2 & 1 & 3 & 2 & 1\\\\\n",
       "\t383 & 5 & 5 & 2 & 5 & 5 & 5 & 2 & 5 & 5 & 5 & 2 & 5\\\\\n",
       "\t384 & 5 & 5 & 3 & 5 & 5 & 5 & 3 & 5 & 1 & 1 & 4 & 1\\\\\n",
       "\t385 & 5 & 5 & 1 & 5 & 5 & 5 & 1 & 5 & 5 & 5 & 1 & 5\\\\\n",
       "\t386 & 4 & 1 & 4 & 1 & 4 & 4 & 2 & 2 & 2 & 4 & 2 & 4\\\\\n",
       "\t387 & 4 & 4 & 1 & 5 & 5 & 5 & 3 & 5 & 1 & 1 & 3 & 5\\\\\n",
       "\t388 & 4 & 4 & 1 & 5 & 5 & 5 & 1 & 5 & 5 & 5 & 1 & 5\\\\\n",
       "\t389 & 4 & 4 & 2 & 4 & 4 & 4 & 4 & 5 & 4 & 4 & 4 & 5\\\\\n",
       "\t390 & 1 & 1 & 2 & 4 & 5 & 5 & 3 & 5 & 4 & 1 & 3 & 3\\\\\n",
       "\t391 & 5 & 5 & 1 & 5 & 5 & 5 & 1 & 5 & 5 & 1 & 1 & 5\\\\\n",
       "\t392 & 4 & 3 & 4 & 3 & 3 & 3 & 3 & 1 & 1 & 1 & 4 & 4\\\\\n",
       "\t393 & 4 & 4 & 4 & 2 & 4 & 4 & 3 & 2 & 4 & 4 & 2 & 4\\\\\n",
       "\t394 & 4 & 4 & 2 & 4 & 4 & 4 & 2 & 4 & 4 & 4 & 2 & 3\\\\\n",
       "\\end{tabular}\n"
      ],
      "text/markdown": [
       "\n",
       "| <!--/--> | baseline_b1_001 | baseline_b1_002 | baseline_b1_003 | baseline_b1_004 | baseline_c1_001 | baseline_c1_002 | baseline_c1_003 | baseline_c1_004 | baseline_d1_001 | baseline_d1_002 | baseline_d1_003 | baseline_d1_004 | \n",
       "|---|---|---|---|---|---|---|---|---|---|---|---|---|---|---|---|---|---|---|---|---|---|---|---|---|---|---|---|---|---|---|---|---|---|---|---|---|---|---|---|---|---|---|---|---|---|---|---|---|---|---|---|---|---|---|---|---|---|---|---|---|\n",
       "| 1 | 5 | 1 | 3 | 4 | 4 | 3 | 3 | 2 | 4 | 2 | 1 | 4 | \n",
       "| 2 | 4 | 4 | 3 | 3 | 4 | 3 | 3 | 3 | 4 | 3 | 3 | 3 | \n",
       "| 3 | 4 | 3 | 4 | 3 | 4 | 3 | 3 | 3 | 3 | 3 | 3 | 3 | \n",
       "| 4 | 2 | 2 | 4 | 2 | 4 | 4 | 2 | 4 | 4 | 4 | 2 | 4 | \n",
       "| 5 | 3 | 3 | 3 | 3 | 3 | 3 | 2 | 3 | 1 | 2 | 3 | 2 | \n",
       "| 6 | 5 | 5 | 1 | 5 | 5 | 5 | 1 | 5 | 4 | 4 | 4 | 5 | \n",
       "| 7 | 5 | 5 | 1 | 5 | 5 | 5 | 1 | 4 | 4 | 3 | 3 | 3 | \n",
       "| 8 | 4 | 2 | 2 | 3 | 4 | 4 | 1 | 1 | 5 | 4 | 2 | 4 | \n",
       "| 9 | 3 | 3 | 4 | 2 | 3 | 3 | 3 | 3 | 2 | 2 | 3 | 2 | \n",
       "| 10 | 3 | 3 | 1 | 5 | 3 | 4 | 1 | 5 | 5 | 5 | 1 | 5 | \n",
       "| 11 | 3 | 4 | 3 | 3 | 3 | 3 | 3 | 5 | 4 | 3 | 3 | 3 | \n",
       "| 13 | 4 | 3 | 2 | 4 | 4 | 4 | 3 | 5 | 4 | 3 | 2 | 5 | \n",
       "| 14 | 4 | 4 | 1 | 3 | 4 | 3 | 2 | 4 | 4 | 3 | 2 | 4 | \n",
       "| 15 | 3 | 1 | 1 | 1 | 3 | 3 | 3 | 3 | 1 | 1 | 1 | 1 | \n",
       "| 16 | 5 | 4 | 1 | 5 | 5 | 5 | 1 | 4 | 5 | 5 | 1 | 4 | \n",
       "| 17 | 2 | 2 | 4 | 1 | 4 | 4 | 2 | 4 | 4 | 4 | 3 | 4 | \n",
       "| 18 | 5 | 4 | 2 | 3 | 5 | 4 | 3 | 3 | 2 | 2 | 4 | 1 | \n",
       "| 19 | 5 | 5 | 1 | 5 | 5 | 5 | 1 | 5 | 4 | 4 | 2 | 4 | \n",
       "| 20 | 5 | 4 | 1 | 4 | 5 | 4 | 1 | 4 | 5 | 1 | 3 | 4 | \n",
       "| 21 | 5 | 4 | 3 | 3 | 4 | 4 | 2 | 3 | 4 | 4 | 2 | 3 | \n",
       "| 22 | 5 | 4 | 1 | 4 | 5 | 5 | 1 | 5 | 5 | 5 | 1 | 5 | \n",
       "| 23 | 5 | 5 | 1 | 4 | 5 | 5 | 1 | 4 | 5 | 5 | 1 | 5 | \n",
       "| 24 | 4 | 4 | 2 | 3 | 3 | 3 | 2 | 3 | 3 | 3 | 3 | 3 | \n",
       "| 25 | 5 | 4 | 1 | 5 | 5 | 5 | 2 | 5 | 4 | 4 | 1 | 5 | \n",
       "| 26 | 4 | 4 | 3 | 2 | 4 | 4 | 3 | 2 | 4 | 4 | 3 | 2 | \n",
       "| 27 | 5 | 5 | 1 | 5 | 5 | 5 | 1 | 5 | 5 | 4 | 1 | 5 | \n",
       "| 28 | 4 | 4 | 1 | 3 | 5 | 5 | 1 | 5 | 5 | 4 | 1 | 4 | \n",
       "| 29 | 5 | 3 | 2 | 5 | 5 | 5 | 1 | 5 | 5 | 5 | 4 | 5 | \n",
       "| 30 | 5 | 2 | 3 | 3 | 5 | 1 | 3 | 3 | 3 | 3 | 4 | 3 | \n",
       "| 31 | 4 | 4 | 1 | 5 | 4 | 4 | 4 | 4 | 2 | 2 | 2 | 5 | \n",
       "| ⋮ | ⋮ | ⋮ | ⋮ | ⋮ | ⋮ | ⋮ | ⋮ | ⋮ | ⋮ | ⋮ | ⋮ | ⋮ | \n",
       "| 365 | 3 | 1 | 4 | 2 | 5 | 5 | 1 | 5 | 1 | 2 | 1 | 5 | \n",
       "| 366 | 5 | 5 | 1 | 3 | 4 | 4 | 1 | 1 | 4 | 4 | 1 | 1 | \n",
       "| 367 | 4 | 4 | 2 | 4 | 4 | 4 | 1 | 4 | 4 | 2 | 1 | 2 | \n",
       "| 368 | 2 | 2 | 4 | 2 | 4 | 4 | 2 | 4 | 4 | 4 | 2 | 4 | \n",
       "| 369 | 5 | 5 | 1 | 5 | 5 | 5 | 1 | 5 | 3 | 2 | 1 | 2 | \n",
       "| 370 | 5 | 5 | 2 | 5 | 5 | 5 | 1 | 5 | 5 | 5 | 1 | 5 | \n",
       "| 371 | 5 | 5 | 1 | 4 | 5 | 5 | 4 | 4 | 4 | 4 | 4 | 4 | \n",
       "| 372 | 1 | 2 | 4 | 1 | 5 | 5 | 1 | 5 | 3 | 4 | 2 | 4 | \n",
       "| 373 | 4 | 4 | 2 | 3 | 4 | 4 | 3 | 3 | 3 | 2 | 3 | 3 | \n",
       "| 374 | 5 | 5 | 1 | 5 | 5 | 5 | 1 | 5 | 3 | 5 | 1 | 5 | \n",
       "| 375 | 5 | 5 | 2 | 4 | 5 | 5 | 4 | 5 | 3 | 1 | 5 | 4 | \n",
       "| 376 | 5 | 5 | 1 | 5 | 5 | 5 | 1 | 5 | 5 | 5 | 1 | 5 | \n",
       "| 377 | 5 | 5 | 4 | 1 | 5 | 5 | 5 | 3 | 5 | 5 | 1 | 5 | \n",
       "| 378 | 5 | 5 | 1 | 5 | 4 | 4 | 4 | 1 | 3 | 2 | 2 | 5 | \n",
       "| 379 | 4 | 4 | 1 | 4 | 4 | 2 | 1 | 4 | 4 | 4 | 1 | 4 | \n",
       "| 380 | 5 | 5 | 1 | 5 | 5 | 5 | 1 | 3 | 5 | 4 | 1 | 5 | \n",
       "| 381 | 4 | 5 | 1 | 1 | 5 | 5 | 1 | 5 | 5 | 5 | 1 | 5 | \n",
       "| 382 | 4 | 4 | 3 | 3 | 4 | 4 | 2 | 2 | 1 | 3 | 2 | 1 | \n",
       "| 383 | 5 | 5 | 2 | 5 | 5 | 5 | 2 | 5 | 5 | 5 | 2 | 5 | \n",
       "| 384 | 5 | 5 | 3 | 5 | 5 | 5 | 3 | 5 | 1 | 1 | 4 | 1 | \n",
       "| 385 | 5 | 5 | 1 | 5 | 5 | 5 | 1 | 5 | 5 | 5 | 1 | 5 | \n",
       "| 386 | 4 | 1 | 4 | 1 | 4 | 4 | 2 | 2 | 2 | 4 | 2 | 4 | \n",
       "| 387 | 4 | 4 | 1 | 5 | 5 | 5 | 3 | 5 | 1 | 1 | 3 | 5 | \n",
       "| 388 | 4 | 4 | 1 | 5 | 5 | 5 | 1 | 5 | 5 | 5 | 1 | 5 | \n",
       "| 389 | 4 | 4 | 2 | 4 | 4 | 4 | 4 | 5 | 4 | 4 | 4 | 5 | \n",
       "| 390 | 1 | 1 | 2 | 4 | 5 | 5 | 3 | 5 | 4 | 1 | 3 | 3 | \n",
       "| 391 | 5 | 5 | 1 | 5 | 5 | 5 | 1 | 5 | 5 | 1 | 1 | 5 | \n",
       "| 392 | 4 | 3 | 4 | 3 | 3 | 3 | 3 | 1 | 1 | 1 | 4 | 4 | \n",
       "| 393 | 4 | 4 | 4 | 2 | 4 | 4 | 3 | 2 | 4 | 4 | 2 | 4 | \n",
       "| 394 | 4 | 4 | 2 | 4 | 4 | 4 | 2 | 4 | 4 | 4 | 2 | 3 | \n",
       "\n",
       "\n"
      ],
      "text/plain": [
       "    baseline_b1_001 baseline_b1_002 baseline_b1_003 baseline_b1_004\n",
       "1   5               1               3               4              \n",
       "2   4               4               3               3              \n",
       "3   4               3               4               3              \n",
       "4   2               2               4               2              \n",
       "5   3               3               3               3              \n",
       "6   5               5               1               5              \n",
       "7   5               5               1               5              \n",
       "8   4               2               2               3              \n",
       "9   3               3               4               2              \n",
       "10  3               3               1               5              \n",
       "11  3               4               3               3              \n",
       "13  4               3               2               4              \n",
       "14  4               4               1               3              \n",
       "15  3               1               1               1              \n",
       "16  5               4               1               5              \n",
       "17  2               2               4               1              \n",
       "18  5               4               2               3              \n",
       "19  5               5               1               5              \n",
       "20  5               4               1               4              \n",
       "21  5               4               3               3              \n",
       "22  5               4               1               4              \n",
       "23  5               5               1               4              \n",
       "24  4               4               2               3              \n",
       "25  5               4               1               5              \n",
       "26  4               4               3               2              \n",
       "27  5               5               1               5              \n",
       "28  4               4               1               3              \n",
       "29  5               3               2               5              \n",
       "30  5               2               3               3              \n",
       "31  4               4               1               5              \n",
       "⋮   ⋮               ⋮               ⋮               ⋮              \n",
       "365 3               1               4               2              \n",
       "366 5               5               1               3              \n",
       "367 4               4               2               4              \n",
       "368 2               2               4               2              \n",
       "369 5               5               1               5              \n",
       "370 5               5               2               5              \n",
       "371 5               5               1               4              \n",
       "372 1               2               4               1              \n",
       "373 4               4               2               3              \n",
       "374 5               5               1               5              \n",
       "375 5               5               2               4              \n",
       "376 5               5               1               5              \n",
       "377 5               5               4               1              \n",
       "378 5               5               1               5              \n",
       "379 4               4               1               4              \n",
       "380 5               5               1               5              \n",
       "381 4               5               1               1              \n",
       "382 4               4               3               3              \n",
       "383 5               5               2               5              \n",
       "384 5               5               3               5              \n",
       "385 5               5               1               5              \n",
       "386 4               1               4               1              \n",
       "387 4               4               1               5              \n",
       "388 4               4               1               5              \n",
       "389 4               4               2               4              \n",
       "390 1               1               2               4              \n",
       "391 5               5               1               5              \n",
       "392 4               3               4               3              \n",
       "393 4               4               4               2              \n",
       "394 4               4               2               4              \n",
       "    baseline_c1_001 baseline_c1_002 baseline_c1_003 baseline_c1_004\n",
       "1   4               3               3               2              \n",
       "2   4               3               3               3              \n",
       "3   4               3               3               3              \n",
       "4   4               4               2               4              \n",
       "5   3               3               2               3              \n",
       "6   5               5               1               5              \n",
       "7   5               5               1               4              \n",
       "8   4               4               1               1              \n",
       "9   3               3               3               3              \n",
       "10  3               4               1               5              \n",
       "11  3               3               3               5              \n",
       "13  4               4               3               5              \n",
       "14  4               3               2               4              \n",
       "15  3               3               3               3              \n",
       "16  5               5               1               4              \n",
       "17  4               4               2               4              \n",
       "18  5               4               3               3              \n",
       "19  5               5               1               5              \n",
       "20  5               4               1               4              \n",
       "21  4               4               2               3              \n",
       "22  5               5               1               5              \n",
       "23  5               5               1               4              \n",
       "24  3               3               2               3              \n",
       "25  5               5               2               5              \n",
       "26  4               4               3               2              \n",
       "27  5               5               1               5              \n",
       "28  5               5               1               5              \n",
       "29  5               5               1               5              \n",
       "30  5               1               3               3              \n",
       "31  4               4               4               4              \n",
       "⋮   ⋮               ⋮               ⋮               ⋮              \n",
       "365 5               5               1               5              \n",
       "366 4               4               1               1              \n",
       "367 4               4               1               4              \n",
       "368 4               4               2               4              \n",
       "369 5               5               1               5              \n",
       "370 5               5               1               5              \n",
       "371 5               5               4               4              \n",
       "372 5               5               1               5              \n",
       "373 4               4               3               3              \n",
       "374 5               5               1               5              \n",
       "375 5               5               4               5              \n",
       "376 5               5               1               5              \n",
       "377 5               5               5               3              \n",
       "378 4               4               4               1              \n",
       "379 4               2               1               4              \n",
       "380 5               5               1               3              \n",
       "381 5               5               1               5              \n",
       "382 4               4               2               2              \n",
       "383 5               5               2               5              \n",
       "384 5               5               3               5              \n",
       "385 5               5               1               5              \n",
       "386 4               4               2               2              \n",
       "387 5               5               3               5              \n",
       "388 5               5               1               5              \n",
       "389 4               4               4               5              \n",
       "390 5               5               3               5              \n",
       "391 5               5               1               5              \n",
       "392 3               3               3               1              \n",
       "393 4               4               3               2              \n",
       "394 4               4               2               4              \n",
       "    baseline_d1_001 baseline_d1_002 baseline_d1_003 baseline_d1_004\n",
       "1   4               2               1               4              \n",
       "2   4               3               3               3              \n",
       "3   3               3               3               3              \n",
       "4   4               4               2               4              \n",
       "5   1               2               3               2              \n",
       "6   4               4               4               5              \n",
       "7   4               3               3               3              \n",
       "8   5               4               2               4              \n",
       "9   2               2               3               2              \n",
       "10  5               5               1               5              \n",
       "11  4               3               3               3              \n",
       "13  4               3               2               5              \n",
       "14  4               3               2               4              \n",
       "15  1               1               1               1              \n",
       "16  5               5               1               4              \n",
       "17  4               4               3               4              \n",
       "18  2               2               4               1              \n",
       "19  4               4               2               4              \n",
       "20  5               1               3               4              \n",
       "21  4               4               2               3              \n",
       "22  5               5               1               5              \n",
       "23  5               5               1               5              \n",
       "24  3               3               3               3              \n",
       "25  4               4               1               5              \n",
       "26  4               4               3               2              \n",
       "27  5               4               1               5              \n",
       "28  5               4               1               4              \n",
       "29  5               5               4               5              \n",
       "30  3               3               4               3              \n",
       "31  2               2               2               5              \n",
       "⋮   ⋮               ⋮               ⋮               ⋮              \n",
       "365 1               2               1               5              \n",
       "366 4               4               1               1              \n",
       "367 4               2               1               2              \n",
       "368 4               4               2               4              \n",
       "369 3               2               1               2              \n",
       "370 5               5               1               5              \n",
       "371 4               4               4               4              \n",
       "372 3               4               2               4              \n",
       "373 3               2               3               3              \n",
       "374 3               5               1               5              \n",
       "375 3               1               5               4              \n",
       "376 5               5               1               5              \n",
       "377 5               5               1               5              \n",
       "378 3               2               2               5              \n",
       "379 4               4               1               4              \n",
       "380 5               4               1               5              \n",
       "381 5               5               1               5              \n",
       "382 1               3               2               1              \n",
       "383 5               5               2               5              \n",
       "384 1               1               4               1              \n",
       "385 5               5               1               5              \n",
       "386 2               4               2               4              \n",
       "387 1               1               3               5              \n",
       "388 5               5               1               5              \n",
       "389 4               4               4               5              \n",
       "390 4               1               3               3              \n",
       "391 5               1               1               5              \n",
       "392 1               1               4               4              \n",
       "393 4               4               2               4              \n",
       "394 4               4               2               3              "
      ]
     },
     "metadata": {},
     "output_type": "display_data"
    }
   ],
   "source": [
    "perceived_severity2"
   ]
  },
  {
   "cell_type": "code",
   "execution_count": 8,
   "metadata": {
    "collapsed": true
   },
   "outputs": [],
   "source": [
    "pc = princomp(perceived_severity2,scores=TRUE)"
   ]
  },
  {
   "cell_type": "code",
   "execution_count": 9,
   "metadata": {},
   "outputs": [
    {
     "name": "stdout",
     "output_type": "stream",
     "text": [
      "List of 7\n",
      " $ sdev    : Named num [1:12] 2.79 1.84 1.41 1.35 1.2 ...\n",
      "  ..- attr(*, \"names\")= chr [1:12] \"Comp.1\" \"Comp.2\" \"Comp.3\" \"Comp.4\" ...\n",
      " $ loadings: loadings [1:12, 1:12] -0.315 -0.302 0.287 -0.383 -0.232 ...\n",
      "  ..- attr(*, \"dimnames\")=List of 2\n",
      "  .. ..$ : chr [1:12] \"baseline_b1_001\" \"baseline_b1_002\" \"baseline_b1_003\" \"baseline_b1_004\" ...\n",
      "  .. ..$ : chr [1:12] \"Comp.1\" \"Comp.2\" \"Comp.3\" \"Comp.4\" ...\n",
      " $ center  : Named num [1:12] 3.78 3.61 2.51 3.01 4.17 ...\n",
      "  ..- attr(*, \"names\")= chr [1:12] \"baseline_b1_001\" \"baseline_b1_002\" \"baseline_b1_003\" \"baseline_b1_004\" ...\n",
      " $ scale   : Named num [1:12] 1 1 1 1 1 1 1 1 1 1 ...\n",
      "  ..- attr(*, \"names\")= chr [1:12] \"baseline_b1_001\" \"baseline_b1_002\" \"baseline_b1_003\" \"baseline_b1_004\" ...\n",
      " $ n.obs   : int 390\n",
      " $ scores  : num [1:390, 1:12] 0.816 0.68 1.588 1.016 2.861 ...\n",
      "  ..- attr(*, \"dimnames\")=List of 2\n",
      "  .. ..$ : chr [1:390] \"1\" \"2\" \"3\" \"4\" ...\n",
      "  .. ..$ : chr [1:12] \"Comp.1\" \"Comp.2\" \"Comp.3\" \"Comp.4\" ...\n",
      " $ call    : language princomp(x = perceived_severity2, scores = TRUE)\n",
      " - attr(*, \"class\")= chr \"princomp\"\n"
     ]
    }
   ],
   "source": [
    "str(pc)"
   ]
  },
  {
   "cell_type": "markdown",
   "metadata": {},
   "source": [
    "## Percent of variance"
   ]
  },
  {
   "cell_type": "code",
   "execution_count": 10,
   "metadata": {},
   "outputs": [
    {
     "data": {
      "text/html": [
       "<dl class=dl-horizontal>\n",
       "\t<dt>Comp.1</dt>\n",
       "\t\t<dd>37.9514809350401</dd>\n",
       "\t<dt>Comp.2</dt>\n",
       "\t\t<dd>16.5631092306444</dd>\n",
       "\t<dt>Comp.3</dt>\n",
       "\t\t<dd>9.67891732713855</dd>\n",
       "\t<dt>Comp.4</dt>\n",
       "\t\t<dd>8.84545974702728</dd>\n",
       "\t<dt>Comp.5</dt>\n",
       "\t\t<dd>7.05335534477059</dd>\n",
       "\t<dt>Comp.6</dt>\n",
       "\t\t<dd>4.47133704438796</dd>\n",
       "\t<dt>Comp.7</dt>\n",
       "\t\t<dd>3.76631203426367</dd>\n",
       "\t<dt>Comp.8</dt>\n",
       "\t\t<dd>3.12261377952699</dd>\n",
       "\t<dt>Comp.9</dt>\n",
       "\t\t<dd>2.72240930023746</dd>\n",
       "\t<dt>Comp.10</dt>\n",
       "\t\t<dd>2.68202120525274</dd>\n",
       "\t<dt>Comp.11</dt>\n",
       "\t\t<dd>1.87594180308072</dd>\n",
       "\t<dt>Comp.12</dt>\n",
       "\t\t<dd>1.26704224862955</dd>\n",
       "</dl>\n"
      ],
      "text/latex": [
       "\\begin{description*}\n",
       "\\item[Comp.1] 37.9514809350401\n",
       "\\item[Comp.2] 16.5631092306444\n",
       "\\item[Comp.3] 9.67891732713855\n",
       "\\item[Comp.4] 8.84545974702728\n",
       "\\item[Comp.5] 7.05335534477059\n",
       "\\item[Comp.6] 4.47133704438796\n",
       "\\item[Comp.7] 3.76631203426367\n",
       "\\item[Comp.8] 3.12261377952699\n",
       "\\item[Comp.9] 2.72240930023746\n",
       "\\item[Comp.10] 2.68202120525274\n",
       "\\item[Comp.11] 1.87594180308072\n",
       "\\item[Comp.12] 1.26704224862955\n",
       "\\end{description*}\n"
      ],
      "text/markdown": [
       "Comp.1\n",
       ":   37.9514809350401Comp.2\n",
       ":   16.5631092306444Comp.3\n",
       ":   9.67891732713855Comp.4\n",
       ":   8.84545974702728Comp.5\n",
       ":   7.05335534477059Comp.6\n",
       ":   4.47133704438796Comp.7\n",
       ":   3.76631203426367Comp.8\n",
       ":   3.12261377952699Comp.9\n",
       ":   2.72240930023746Comp.10\n",
       ":   2.68202120525274Comp.11\n",
       ":   1.87594180308072Comp.12\n",
       ":   1.26704224862955\n",
       "\n"
      ],
      "text/plain": [
       "   Comp.1    Comp.2    Comp.3    Comp.4    Comp.5    Comp.6    Comp.7    Comp.8 \n",
       "37.951481 16.563109  9.678917  8.845460  7.053355  4.471337  3.766312  3.122614 \n",
       "   Comp.9   Comp.10   Comp.11   Comp.12 \n",
       " 2.722409  2.682021  1.875942  1.267042 "
      ]
     },
     "metadata": {},
     "output_type": "display_data"
    }
   ],
   "source": [
    "100*pc$sdev^2/sum(pc$sdev^2)     #percent of variance"
   ]
  },
  {
   "cell_type": "markdown",
   "metadata": {},
   "source": [
    "## Loadings"
   ]
  },
  {
   "cell_type": "code",
   "execution_count": 11,
   "metadata": {},
   "outputs": [
    {
     "data": {
      "text/plain": [
       "\n",
       "Loadings:\n",
       "                Comp.1 Comp.2 Comp.3 Comp.4 Comp.5 Comp.6 Comp.7 Comp.8 Comp.9\n",
       "baseline_b1_001 -0.315 -0.388  0.119  0.255                0.537  0.134  0.298\n",
       "baseline_b1_002 -0.302 -0.366  0.228  0.238  0.247 -0.320 -0.136 -0.162 -0.236\n",
       "baseline_b1_003  0.287  0.326 -0.140         0.521 -0.288  0.318 -0.353  0.392\n",
       "baseline_b1_004 -0.383 -0.269 -0.450  0.117 -0.212        -0.163 -0.333  0.333\n",
       "baseline_c1_001 -0.232               -0.324  0.334         0.313  0.172       \n",
       "baseline_c1_002 -0.270         0.221 -0.334  0.393 -0.217 -0.287  0.155 -0.125\n",
       "baseline_c1_003  0.211        -0.281  0.532  0.178 -0.220               -0.572\n",
       "baseline_c1_004 -0.318        -0.541 -0.362  0.145  0.157        -0.296 -0.324\n",
       "baseline_d1_001 -0.320  0.352  0.112  0.298         0.586  0.264        -0.187\n",
       "baseline_d1_002 -0.282  0.384  0.294  0.302  0.121        -0.390 -0.328  0.173\n",
       "baseline_d1_003  0.185 -0.289 -0.266  0.147  0.521  0.463 -0.383  0.296  0.237\n",
       "baseline_d1_004 -0.303  0.412 -0.343  0.177        -0.361         0.620  0.145\n",
       "                Comp.10 Comp.11 Comp.12\n",
       "baseline_b1_001 -0.173  -0.293  -0.394 \n",
       "baseline_b1_002 -0.392   0.319   0.383 \n",
       "baseline_b1_003          0.232         \n",
       "baseline_b1_004  0.467   0.221         \n",
       "baseline_c1_001  0.451  -0.280   0.559 \n",
       "baseline_c1_002  0.260   0.204  -0.577 \n",
       "baseline_c1_003  0.334  -0.211  -0.150 \n",
       "baseline_c1_004 -0.403  -0.221  -0.112 \n",
       "baseline_d1_001  0.111   0.452         \n",
       "baseline_d1_002         -0.538         \n",
       "baseline_d1_003                        \n",
       "baseline_d1_004 -0.176           0.106 \n",
       "\n",
       "               Comp.1 Comp.2 Comp.3 Comp.4 Comp.5 Comp.6 Comp.7 Comp.8 Comp.9\n",
       "SS loadings     1.000  1.000  1.000  1.000  1.000  1.000  1.000  1.000  1.000\n",
       "Proportion Var  0.083  0.083  0.083  0.083  0.083  0.083  0.083  0.083  0.083\n",
       "Cumulative Var  0.083  0.167  0.250  0.333  0.417  0.500  0.583  0.667  0.750\n",
       "               Comp.10 Comp.11 Comp.12\n",
       "SS loadings      1.000   1.000   1.000\n",
       "Proportion Var   0.083   0.083   0.083\n",
       "Cumulative Var   0.833   0.917   1.000"
      ]
     },
     "metadata": {},
     "output_type": "display_data"
    }
   ],
   "source": [
    "pc$loadings"
   ]
  },
  {
   "cell_type": "markdown",
   "metadata": {},
   "source": [
    "## Add scores to dataframe and set up Cox regression flag"
   ]
  },
  {
   "cell_type": "code",
   "execution_count": 12,
   "metadata": {},
   "outputs": [
    {
     "name": "stdout",
     "output_type": "stream",
     "text": [
      "'data.frame':\t390 obs. of  19 variables:\n",
      " $ isg_no         : num  10587 10636 10657 10664 10671 ...\n",
      " $ event          : num  1 1 1 0 1 1 0 1 1 1 ...\n",
      " $ hours_to_event : num  25.62 25.94 2.98 2088 114.74 ...\n",
      " $ baseline_b1_001: num  5 4 4 2 3 5 5 4 3 3 ...\n",
      " $ baseline_b1_002: num  1 4 3 2 3 5 5 2 3 3 ...\n",
      " $ baseline_b1_003: num  3 3 4 4 3 1 1 2 4 1 ...\n",
      " $ baseline_b1_004: num  4 3 3 2 3 5 5 3 2 5 ...\n",
      " $ baseline_c1_001: num  4 4 4 4 3 5 5 4 3 3 ...\n",
      " $ baseline_c1_002: num  3 3 3 4 3 5 5 4 3 4 ...\n",
      " $ baseline_c1_003: num  3 3 3 2 2 1 1 1 3 1 ...\n",
      " $ baseline_c1_004: num  2 3 3 4 3 5 4 1 3 5 ...\n",
      " $ baseline_d1_001: num  4 4 3 4 1 4 4 5 2 5 ...\n",
      " $ baseline_d1_002: num  2 3 3 4 2 4 3 4 2 5 ...\n",
      " $ baseline_d1_003: num  1 3 3 2 3 4 3 2 3 1 ...\n",
      " $ baseline_d1_004: num  4 3 3 4 2 5 3 4 2 5 ...\n",
      " $ pc1            : num  0.816 0.68 1.588 1.016 2.861 ...\n",
      " $ pc2            : num  0.6195 -0.3429 -0.0026 2.9911 -1.3518 ...\n",
      " $ pc3            : num  -0.838 -0.261 -0.741 -0.468 -0.681 ...\n",
      " $ pc4            : num  0.958 1.357 0.86 -0.603 -0.716 ...\n"
     ]
    }
   ],
   "source": [
    "pc1 = pc$scores[,1]\n",
    "pc2 = pc$scores[,2]\n",
    "pc3 = pc$scores[,3]\n",
    "pc4 = pc$scores[,4]\n",
    "perceived_severity_cox = cbind(perceived_severity,pc1,pc2,pc3,pc4)\n",
    "str(perceived_severity_cox)"
   ]
  },
  {
   "cell_type": "markdown",
   "metadata": {},
   "source": [
    "## Cox regression on first four principal component scores"
   ]
  },
  {
   "cell_type": "code",
   "execution_count": 13,
   "metadata": {},
   "outputs": [
    {
     "data": {
      "text/plain": [
       "Call:\n",
       "coxph(formula = Surv(hours_to_event, event) ~ pc1 + pc2 + pc3 + \n",
       "    pc4, data = perceived_severity_cox, method = \"efron\")\n",
       "\n",
       "        coef exp(coef) se(coef)     z      p\n",
       "pc1  0.03053   1.03100  0.01990  1.53 0.1249\n",
       "pc2 -0.09301   0.91119  0.03041 -3.06 0.0022\n",
       "pc3 -0.00324   0.99676  0.03926 -0.08 0.9342\n",
       "pc4  0.07056   1.07311  0.04152  1.70 0.0892\n",
       "\n",
       "Likelihood ratio test=13.9  on 4 df, p=0.00749\n",
       "n= 390, number of events= 310 "
      ]
     },
     "metadata": {},
     "output_type": "display_data"
    },
    {
     "data": {
      "text/plain": [
       "Call:\n",
       "coxph(formula = Surv(hours_to_event, event) ~ pc1 + pc2 + pc3 + \n",
       "    pc4, data = perceived_severity_cox, method = \"efron\")\n",
       "\n",
       "  n= 390, number of events= 310 \n",
       "\n",
       "         coef exp(coef)  se(coef)      z Pr(>|z|)   \n",
       "pc1  0.030532  1.031002  0.019898  1.534  0.12493   \n",
       "pc2 -0.093007  0.911187  0.030408 -3.059  0.00222 **\n",
       "pc3 -0.003243  0.996762  0.039265 -0.083  0.93417   \n",
       "pc4  0.070561  1.073110  0.041521  1.699  0.08924 . \n",
       "---\n",
       "Signif. codes:  0 ‘***’ 0.001 ‘**’ 0.01 ‘*’ 0.05 ‘.’ 0.1 ‘ ’ 1\n",
       "\n",
       "    exp(coef) exp(-coef) lower .95 upper .95\n",
       "pc1    1.0310     0.9699    0.9916    1.0720\n",
       "pc2    0.9112     1.0975    0.8585    0.9671\n",
       "pc3    0.9968     1.0032    0.9229    1.0765\n",
       "pc4    1.0731     0.9319    0.9892    1.1641\n",
       "\n",
       "Concordance= 0.568  (se = 0.018 )\n",
       "Rsquare= 0.035   (max possible= 1 )\n",
       "Likelihood ratio test= 13.94  on 4 df,   p=0.007495\n",
       "Wald test            = 13.67  on 4 df,   p=0.008444\n",
       "Score (logrank) test = 13.72  on 4 df,   p=0.008234\n"
      ]
     },
     "metadata": {},
     "output_type": "display_data"
    }
   ],
   "source": [
    "cr = coxph(Surv(hours_to_event,event) ~ pc1+pc2+pc3+pc4,data=perceived_severity_cox,method=\"efron\")\n",
    "cr\n",
    "summary(cr)"
   ]
  },
  {
   "cell_type": "markdown",
   "metadata": {},
   "source": [
    "## Cox regression with principal component scores - quit intentions"
   ]
  },
  {
   "cell_type": "markdown",
   "metadata": {},
   "source": [
    "## Compute principal components for baseline predictors"
   ]
  },
  {
   "cell_type": "code",
   "execution_count": 14,
   "metadata": {},
   "outputs": [
    {
     "name": "stdout",
     "output_type": "stream",
     "text": [
      "'data.frame':\t389 obs. of  13 variables:\n",
      " $ isg_no         : num  10587 10636 10657 10664 10671 ...\n",
      " $ event          : num  1 1 1 0 1 1 0 1 1 1 ...\n",
      " $ hours_to_event : num  25.62 25.94 2.98 2088 114.74 ...\n",
      " $ baseline_f1_002: num  2 4 4 2 3 4 2 4 3 5 ...\n",
      " $ baseline_f1_004: num  3 4 4 2 3 5 2 4 3 5 ...\n",
      " $ baseline_f1_006: num  1 3 4 2 2 4 2 4 3 5 ...\n",
      " $ baseline_f1_007: num  1 4 4 2 2 5 2 4 3 5 ...\n",
      " $ baseline_f1_008: num  1 3 2 2 3 3 4 1 3 1 ...\n",
      " $ baseline_f2_002: num  3 4 4 4 4 5 5 5 3 5 ...\n",
      " $ baseline_f2_004: num  3 4 4 4 4 5 5 5 3 5 ...\n",
      " $ baseline_f2_006: num  4 3 4 4 3 5 5 4 3 5 ...\n",
      " $ baseline_f2_007: num  1 3 4 4 3 5 5 3 3 5 ...\n",
      " $ baseline_f2_008: num  5 3 3 1 2 1 1 1 3 1 ...\n",
      " - attr(*, \"na.action\")=Class 'omit'  Named int [1:45] 12 84 113 116 229 395 396 397 398 399 ...\n",
      "  .. ..- attr(*, \"names\")= chr [1:45] \"12\" \"84\" \"113\" \"116\" ...\n"
     ]
    }
   ],
   "source": [
    "keeplist = c('isg_no','event','hours_to_event',\n",
    "            'baseline_f1_002','baseline_f1_004','baseline_f1_006','baseline_f1_007','baseline_f1_008',\n",
    "            'baseline_f2_002','baseline_f2_004','baseline_f2_006','baseline_f2_007','baseline_f2_008')\n",
    "\n",
    "quit_intentions = na.omit(coxreg[,keeplist])\n",
    "str(quit_intentions)"
   ]
  },
  {
   "cell_type": "code",
   "execution_count": 15,
   "metadata": {},
   "outputs": [
    {
     "name": "stdout",
     "output_type": "stream",
     "text": [
      "'data.frame':\t389 obs. of  10 variables:\n",
      " $ baseline_f1_002: num  2 4 4 2 3 4 2 4 3 5 ...\n",
      " $ baseline_f1_004: num  3 4 4 2 3 5 2 4 3 5 ...\n",
      " $ baseline_f1_006: num  1 3 4 2 2 4 2 4 3 5 ...\n",
      " $ baseline_f1_007: num  1 4 4 2 2 5 2 4 3 5 ...\n",
      " $ baseline_f1_008: num  1 3 2 2 3 3 4 1 3 1 ...\n",
      " $ baseline_f2_002: num  3 4 4 4 4 5 5 5 3 5 ...\n",
      " $ baseline_f2_004: num  3 4 4 4 4 5 5 5 3 5 ...\n",
      " $ baseline_f2_006: num  4 3 4 4 3 5 5 4 3 5 ...\n",
      " $ baseline_f2_007: num  1 3 4 4 3 5 5 3 3 5 ...\n",
      " $ baseline_f2_008: num  5 3 3 1 2 1 1 1 3 1 ...\n"
     ]
    }
   ],
   "source": [
    "quit_intentions2 = quit_intentions[,4:13]\n",
    "str(quit_intentions2)"
   ]
  },
  {
   "cell_type": "code",
   "execution_count": 16,
   "metadata": {},
   "outputs": [
    {
     "data": {
      "text/plain": [
       " baseline_f1_002 baseline_f1_004 baseline_f1_006 baseline_f1_007\n",
       " Min.   :1.000   Min.   :1.000   Min.   :1.000   Min.   :1.00   \n",
       " 1st Qu.:1.000   1st Qu.:2.000   1st Qu.:1.000   1st Qu.:2.00   \n",
       " Median :3.000   Median :3.000   Median :3.000   Median :3.00   \n",
       " Mean   :2.753   Mean   :3.149   Mean   :2.674   Mean   :3.08   \n",
       " 3rd Qu.:4.000   3rd Qu.:4.000   3rd Qu.:4.000   3rd Qu.:4.00   \n",
       " Max.   :5.000   Max.   :5.000   Max.   :5.000   Max.   :5.00   \n",
       " baseline_f1_008 baseline_f2_002 baseline_f2_004 baseline_f2_006\n",
       " Min.   :1.000   Min.   :1.000   Min.   :1.000   Min.   :1.000  \n",
       " 1st Qu.:2.000   1st Qu.:3.000   1st Qu.:3.000   1st Qu.:2.000  \n",
       " Median :3.000   Median :4.000   Median :4.000   Median :4.000  \n",
       " Mean   :2.792   Mean   :3.882   Mean   :3.859   Mean   :3.365  \n",
       " 3rd Qu.:4.000   3rd Qu.:5.000   3rd Qu.:5.000   3rd Qu.:5.000  \n",
       " Max.   :5.000   Max.   :5.000   Max.   :5.000   Max.   :5.000  \n",
       " baseline_f2_007 baseline_f2_008\n",
       " Min.   :1.000   Min.   :1.000  \n",
       " 1st Qu.:2.000   1st Qu.:1.000  \n",
       " Median :4.000   Median :2.000  \n",
       " Mean   :3.283   Mean   :2.275  \n",
       " 3rd Qu.:5.000   3rd Qu.:3.000  \n",
       " Max.   :5.000   Max.   :5.000  "
      ]
     },
     "metadata": {},
     "output_type": "display_data"
    }
   ],
   "source": [
    "summary(quit_intentions2)"
   ]
  },
  {
   "cell_type": "code",
   "execution_count": 17,
   "metadata": {},
   "outputs": [
    {
     "data": {
      "text/html": [
       "<table>\n",
       "<thead><tr><th></th><th scope=col>baseline_f1_002</th><th scope=col>baseline_f1_004</th><th scope=col>baseline_f1_006</th><th scope=col>baseline_f1_007</th><th scope=col>baseline_f1_008</th><th scope=col>baseline_f2_002</th><th scope=col>baseline_f2_004</th><th scope=col>baseline_f2_006</th><th scope=col>baseline_f2_007</th><th scope=col>baseline_f2_008</th></tr></thead>\n",
       "<tbody>\n",
       "\t<tr><th scope=row>1</th><td>2</td><td>3</td><td>1</td><td>1</td><td>1</td><td>3</td><td>3</td><td>4</td><td>1</td><td>5</td></tr>\n",
       "\t<tr><th scope=row>2</th><td>4</td><td>4</td><td>3</td><td>4</td><td>3</td><td>4</td><td>4</td><td>3</td><td>3</td><td>3</td></tr>\n",
       "\t<tr><th scope=row>3</th><td>4</td><td>4</td><td>4</td><td>4</td><td>2</td><td>4</td><td>4</td><td>4</td><td>4</td><td>3</td></tr>\n",
       "\t<tr><th scope=row>4</th><td>2</td><td>2</td><td>2</td><td>2</td><td>2</td><td>4</td><td>4</td><td>4</td><td>4</td><td>1</td></tr>\n",
       "\t<tr><th scope=row>5</th><td>3</td><td>3</td><td>2</td><td>2</td><td>3</td><td>4</td><td>4</td><td>3</td><td>3</td><td>2</td></tr>\n",
       "\t<tr><th scope=row>6</th><td>4</td><td>5</td><td>4</td><td>5</td><td>3</td><td>5</td><td>5</td><td>5</td><td>5</td><td>1</td></tr>\n",
       "\t<tr><th scope=row>7</th><td>2</td><td>2</td><td>2</td><td>2</td><td>4</td><td>5</td><td>5</td><td>5</td><td>5</td><td>1</td></tr>\n",
       "\t<tr><th scope=row>8</th><td>4</td><td>4</td><td>4</td><td>4</td><td>1</td><td>5</td><td>5</td><td>4</td><td>3</td><td>1</td></tr>\n",
       "\t<tr><th scope=row>9</th><td>3</td><td>3</td><td>3</td><td>3</td><td>3</td><td>3</td><td>3</td><td>3</td><td>3</td><td>3</td></tr>\n",
       "\t<tr><th scope=row>10</th><td>5</td><td>5</td><td>5</td><td>5</td><td>1</td><td>5</td><td>5</td><td>5</td><td>5</td><td>1</td></tr>\n",
       "\t<tr><th scope=row>11</th><td>3</td><td>5</td><td>4</td><td>4</td><td>1</td><td>5</td><td>5</td><td>3</td><td>4</td><td>2</td></tr>\n",
       "\t<tr><th scope=row>13</th><td>1</td><td>4</td><td>5</td><td>5</td><td>1</td><td>4</td><td>2</td><td>2</td><td>3</td><td>5</td></tr>\n",
       "\t<tr><th scope=row>14</th><td>1</td><td>1</td><td>1</td><td>1</td><td>4</td><td>4</td><td>4</td><td>3</td><td>5</td><td>1</td></tr>\n",
       "\t<tr><th scope=row>15</th><td>3</td><td>5</td><td>5</td><td>5</td><td>1</td><td>3</td><td>4</td><td>4</td><td>4</td><td>3</td></tr>\n",
       "\t<tr><th scope=row>16</th><td>4</td><td>3</td><td>4</td><td>3</td><td>2</td><td>5</td><td>5</td><td>5</td><td>5</td><td>1</td></tr>\n",
       "\t<tr><th scope=row>17</th><td>3</td><td>3</td><td>3</td><td>3</td><td>2</td><td>3</td><td>4</td><td>4</td><td>3</td><td>3</td></tr>\n",
       "\t<tr><th scope=row>18</th><td>2</td><td>4</td><td>2</td><td>4</td><td>2</td><td>4</td><td>4</td><td>2</td><td>4</td><td>1</td></tr>\n",
       "\t<tr><th scope=row>19</th><td>4</td><td>4</td><td>3</td><td>5</td><td>1</td><td>5</td><td>4</td><td>5</td><td>3</td><td>1</td></tr>\n",
       "\t<tr><th scope=row>20</th><td>1</td><td>5</td><td>1</td><td>5</td><td>1</td><td>5</td><td>5</td><td>1</td><td>1</td><td>1</td></tr>\n",
       "\t<tr><th scope=row>21</th><td>2</td><td>3</td><td>3</td><td>3</td><td>3</td><td>3</td><td>3</td><td>3</td><td>3</td><td>3</td></tr>\n",
       "\t<tr><th scope=row>22</th><td>3</td><td>5</td><td>3</td><td>5</td><td>2</td><td>5</td><td>5</td><td>4</td><td>5</td><td>1</td></tr>\n",
       "\t<tr><th scope=row>23</th><td>4</td><td>5</td><td>3</td><td>3</td><td>1</td><td>4</td><td>5</td><td>3</td><td>3</td><td>1</td></tr>\n",
       "\t<tr><th scope=row>24</th><td>5</td><td>5</td><td>5</td><td>5</td><td>1</td><td>5</td><td>5</td><td>5</td><td>5</td><td>5</td></tr>\n",
       "\t<tr><th scope=row>25</th><td>3</td><td>3</td><td>3</td><td>3</td><td>3</td><td>4</td><td>3</td><td>3</td><td>1</td><td>3</td></tr>\n",
       "\t<tr><th scope=row>26</th><td>2</td><td>2</td><td>2</td><td>4</td><td>3</td><td>2</td><td>2</td><td>2</td><td>4</td><td>3</td></tr>\n",
       "\t<tr><th scope=row>27</th><td>4</td><td>4</td><td>3</td><td>4</td><td>2</td><td>5</td><td>5</td><td>4</td><td>4</td><td>1</td></tr>\n",
       "\t<tr><th scope=row>28</th><td>5</td><td>5</td><td>5</td><td>5</td><td>1</td><td>5</td><td>5</td><td>4</td><td>3</td><td>1</td></tr>\n",
       "\t<tr><th scope=row>29</th><td>2</td><td>5</td><td>4</td><td>3</td><td>1</td><td>5</td><td>5</td><td>5</td><td>5</td><td>1</td></tr>\n",
       "\t<tr><th scope=row>30</th><td>3</td><td>3</td><td>3</td><td>3</td><td>3</td><td>3</td><td>3</td><td>3</td><td>3</td><td>3</td></tr>\n",
       "\t<tr><th scope=row>31</th><td>2</td><td>2</td><td>5</td><td>4</td><td>4</td><td>3</td><td>2</td><td>5</td><td>5</td><td>4</td></tr>\n",
       "\t<tr><th scope=row>⋮</th><td>⋮</td><td>⋮</td><td>⋮</td><td>⋮</td><td>⋮</td><td>⋮</td><td>⋮</td><td>⋮</td><td>⋮</td><td>⋮</td></tr>\n",
       "\t<tr><th scope=row>365</th><td>1</td><td>5</td><td>4</td><td>3</td><td>2</td><td>4</td><td>5</td><td>5</td><td>5</td><td>1</td></tr>\n",
       "\t<tr><th scope=row>366</th><td>3</td><td>3</td><td>3</td><td>4</td><td>2</td><td>4</td><td>4</td><td>3</td><td>3</td><td>2</td></tr>\n",
       "\t<tr><th scope=row>367</th><td>4</td><td>5</td><td>4</td><td>4</td><td>4</td><td>4</td><td>5</td><td>3</td><td>4</td><td>1</td></tr>\n",
       "\t<tr><th scope=row>368</th><td>4</td><td>4</td><td>4</td><td>4</td><td>2</td><td>5</td><td>5</td><td>5</td><td>5</td><td>1</td></tr>\n",
       "\t<tr><th scope=row>369</th><td>1</td><td>1</td><td>1</td><td>1</td><td>2</td><td>5</td><td>5</td><td>5</td><td>5</td><td>1</td></tr>\n",
       "\t<tr><th scope=row>370</th><td>5</td><td>5</td><td>1</td><td>5</td><td>1</td><td>5</td><td>5</td><td>1</td><td>5</td><td>1</td></tr>\n",
       "\t<tr><th scope=row>371</th><td>4</td><td>4</td><td>5</td><td>5</td><td>1</td><td>5</td><td>5</td><td>5</td><td>5</td><td>1</td></tr>\n",
       "\t<tr><th scope=row>372</th><td>1</td><td>1</td><td>1</td><td>1</td><td>5</td><td>5</td><td>5</td><td>5</td><td>5</td><td>1</td></tr>\n",
       "\t<tr><th scope=row>373</th><td>1</td><td>3</td><td>1</td><td>1</td><td>5</td><td>1</td><td>1</td><td>1</td><td>1</td><td>5</td></tr>\n",
       "\t<tr><th scope=row>374</th><td>3</td><td>1</td><td>1</td><td>1</td><td>4</td><td>1</td><td>1</td><td>1</td><td>1</td><td>4</td></tr>\n",
       "\t<tr><th scope=row>375</th><td>1</td><td>4</td><td>1</td><td>5</td><td>2</td><td>4</td><td>4</td><td>4</td><td>4</td><td>1</td></tr>\n",
       "\t<tr><th scope=row>376</th><td>5</td><td>3</td><td>5</td><td>5</td><td>4</td><td>5</td><td>3</td><td>5</td><td>3</td><td>4</td></tr>\n",
       "\t<tr><th scope=row>377</th><td>5</td><td>5</td><td>1</td><td>4</td><td>4</td><td>5</td><td>5</td><td>1</td><td>1</td><td>3</td></tr>\n",
       "\t<tr><th scope=row>378</th><td>1</td><td>5</td><td>5</td><td>5</td><td>5</td><td>5</td><td>5</td><td>5</td><td>1</td><td>5</td></tr>\n",
       "\t<tr><th scope=row>379</th><td>3</td><td>1</td><td>5</td><td>5</td><td>1</td><td>5</td><td>5</td><td>5</td><td>5</td><td>1</td></tr>\n",
       "\t<tr><th scope=row>380</th><td>3</td><td>4</td><td>5</td><td>4</td><td>5</td><td>5</td><td>5</td><td>5</td><td>4</td><td>1</td></tr>\n",
       "\t<tr><th scope=row>381</th><td>4</td><td>3</td><td>3</td><td>5</td><td>4</td><td>4</td><td>3</td><td>3</td><td>5</td><td>4</td></tr>\n",
       "\t<tr><th scope=row>382</th><td>1</td><td>4</td><td>1</td><td>2</td><td>5</td><td>4</td><td>4</td><td>4</td><td>4</td><td>1</td></tr>\n",
       "\t<tr><th scope=row>383</th><td>4</td><td>3</td><td>5</td><td>4</td><td>2</td><td>5</td><td>5</td><td>5</td><td>5</td><td>1</td></tr>\n",
       "\t<tr><th scope=row>384</th><td>4</td><td>5</td><td>5</td><td>3</td><td>1</td><td>4</td><td>5</td><td>5</td><td>3</td><td>1</td></tr>\n",
       "\t<tr><th scope=row>385</th><td>1</td><td>1</td><td>1</td><td>1</td><td>5</td><td>5</td><td>5</td><td>5</td><td>5</td><td>1</td></tr>\n",
       "\t<tr><th scope=row>386</th><td>1</td><td>1</td><td>1</td><td>1</td><td>4</td><td>3</td><td>4</td><td>3</td><td>1</td><td>4</td></tr>\n",
       "\t<tr><th scope=row>387</th><td>1</td><td>1</td><td>4</td><td>1</td><td>4</td><td>2</td><td>4</td><td>4</td><td>1</td><td>4</td></tr>\n",
       "\t<tr><th scope=row>388</th><td>3</td><td>4</td><td>2</td><td>4</td><td>3</td><td>3</td><td>4</td><td>2</td><td>4</td><td>3</td></tr>\n",
       "\t<tr><th scope=row>389</th><td>4</td><td>4</td><td>4</td><td>4</td><td>4</td><td>4</td><td>4</td><td>4</td><td>4</td><td>4</td></tr>\n",
       "\t<tr><th scope=row>390</th><td>4</td><td>4</td><td>1</td><td>4</td><td>2</td><td>4</td><td>5</td><td>3</td><td>3</td><td>1</td></tr>\n",
       "\t<tr><th scope=row>391</th><td>1</td><td>1</td><td>1</td><td>5</td><td>5</td><td>3</td><td>3</td><td>1</td><td>1</td><td>3</td></tr>\n",
       "\t<tr><th scope=row>392</th><td>1</td><td>4</td><td>1</td><td>1</td><td>4</td><td>5</td><td>5</td><td>5</td><td>5</td><td>1</td></tr>\n",
       "\t<tr><th scope=row>393</th><td>1</td><td>1</td><td>1</td><td>1</td><td>4</td><td>5</td><td>5</td><td>5</td><td>5</td><td>1</td></tr>\n",
       "\t<tr><th scope=row>394</th><td>1</td><td>1</td><td>1</td><td>1</td><td>3</td><td>1</td><td>1</td><td>1</td><td>1</td><td>3</td></tr>\n",
       "</tbody>\n",
       "</table>\n"
      ],
      "text/latex": [
       "\\begin{tabular}{r|llllllllll}\n",
       "  & baseline\\_f1\\_002 & baseline\\_f1\\_004 & baseline\\_f1\\_006 & baseline\\_f1\\_007 & baseline\\_f1\\_008 & baseline\\_f2\\_002 & baseline\\_f2\\_004 & baseline\\_f2\\_006 & baseline\\_f2\\_007 & baseline\\_f2\\_008\\\\\n",
       "\\hline\n",
       "\t1 & 2 & 3 & 1 & 1 & 1 & 3 & 3 & 4 & 1 & 5\\\\\n",
       "\t2 & 4 & 4 & 3 & 4 & 3 & 4 & 4 & 3 & 3 & 3\\\\\n",
       "\t3 & 4 & 4 & 4 & 4 & 2 & 4 & 4 & 4 & 4 & 3\\\\\n",
       "\t4 & 2 & 2 & 2 & 2 & 2 & 4 & 4 & 4 & 4 & 1\\\\\n",
       "\t5 & 3 & 3 & 2 & 2 & 3 & 4 & 4 & 3 & 3 & 2\\\\\n",
       "\t6 & 4 & 5 & 4 & 5 & 3 & 5 & 5 & 5 & 5 & 1\\\\\n",
       "\t7 & 2 & 2 & 2 & 2 & 4 & 5 & 5 & 5 & 5 & 1\\\\\n",
       "\t8 & 4 & 4 & 4 & 4 & 1 & 5 & 5 & 4 & 3 & 1\\\\\n",
       "\t9 & 3 & 3 & 3 & 3 & 3 & 3 & 3 & 3 & 3 & 3\\\\\n",
       "\t10 & 5 & 5 & 5 & 5 & 1 & 5 & 5 & 5 & 5 & 1\\\\\n",
       "\t11 & 3 & 5 & 4 & 4 & 1 & 5 & 5 & 3 & 4 & 2\\\\\n",
       "\t13 & 1 & 4 & 5 & 5 & 1 & 4 & 2 & 2 & 3 & 5\\\\\n",
       "\t14 & 1 & 1 & 1 & 1 & 4 & 4 & 4 & 3 & 5 & 1\\\\\n",
       "\t15 & 3 & 5 & 5 & 5 & 1 & 3 & 4 & 4 & 4 & 3\\\\\n",
       "\t16 & 4 & 3 & 4 & 3 & 2 & 5 & 5 & 5 & 5 & 1\\\\\n",
       "\t17 & 3 & 3 & 3 & 3 & 2 & 3 & 4 & 4 & 3 & 3\\\\\n",
       "\t18 & 2 & 4 & 2 & 4 & 2 & 4 & 4 & 2 & 4 & 1\\\\\n",
       "\t19 & 4 & 4 & 3 & 5 & 1 & 5 & 4 & 5 & 3 & 1\\\\\n",
       "\t20 & 1 & 5 & 1 & 5 & 1 & 5 & 5 & 1 & 1 & 1\\\\\n",
       "\t21 & 2 & 3 & 3 & 3 & 3 & 3 & 3 & 3 & 3 & 3\\\\\n",
       "\t22 & 3 & 5 & 3 & 5 & 2 & 5 & 5 & 4 & 5 & 1\\\\\n",
       "\t23 & 4 & 5 & 3 & 3 & 1 & 4 & 5 & 3 & 3 & 1\\\\\n",
       "\t24 & 5 & 5 & 5 & 5 & 1 & 5 & 5 & 5 & 5 & 5\\\\\n",
       "\t25 & 3 & 3 & 3 & 3 & 3 & 4 & 3 & 3 & 1 & 3\\\\\n",
       "\t26 & 2 & 2 & 2 & 4 & 3 & 2 & 2 & 2 & 4 & 3\\\\\n",
       "\t27 & 4 & 4 & 3 & 4 & 2 & 5 & 5 & 4 & 4 & 1\\\\\n",
       "\t28 & 5 & 5 & 5 & 5 & 1 & 5 & 5 & 4 & 3 & 1\\\\\n",
       "\t29 & 2 & 5 & 4 & 3 & 1 & 5 & 5 & 5 & 5 & 1\\\\\n",
       "\t30 & 3 & 3 & 3 & 3 & 3 & 3 & 3 & 3 & 3 & 3\\\\\n",
       "\t31 & 2 & 2 & 5 & 4 & 4 & 3 & 2 & 5 & 5 & 4\\\\\n",
       "\t⋮ & ⋮ & ⋮ & ⋮ & ⋮ & ⋮ & ⋮ & ⋮ & ⋮ & ⋮ & ⋮\\\\\n",
       "\t365 & 1 & 5 & 4 & 3 & 2 & 4 & 5 & 5 & 5 & 1\\\\\n",
       "\t366 & 3 & 3 & 3 & 4 & 2 & 4 & 4 & 3 & 3 & 2\\\\\n",
       "\t367 & 4 & 5 & 4 & 4 & 4 & 4 & 5 & 3 & 4 & 1\\\\\n",
       "\t368 & 4 & 4 & 4 & 4 & 2 & 5 & 5 & 5 & 5 & 1\\\\\n",
       "\t369 & 1 & 1 & 1 & 1 & 2 & 5 & 5 & 5 & 5 & 1\\\\\n",
       "\t370 & 5 & 5 & 1 & 5 & 1 & 5 & 5 & 1 & 5 & 1\\\\\n",
       "\t371 & 4 & 4 & 5 & 5 & 1 & 5 & 5 & 5 & 5 & 1\\\\\n",
       "\t372 & 1 & 1 & 1 & 1 & 5 & 5 & 5 & 5 & 5 & 1\\\\\n",
       "\t373 & 1 & 3 & 1 & 1 & 5 & 1 & 1 & 1 & 1 & 5\\\\\n",
       "\t374 & 3 & 1 & 1 & 1 & 4 & 1 & 1 & 1 & 1 & 4\\\\\n",
       "\t375 & 1 & 4 & 1 & 5 & 2 & 4 & 4 & 4 & 4 & 1\\\\\n",
       "\t376 & 5 & 3 & 5 & 5 & 4 & 5 & 3 & 5 & 3 & 4\\\\\n",
       "\t377 & 5 & 5 & 1 & 4 & 4 & 5 & 5 & 1 & 1 & 3\\\\\n",
       "\t378 & 1 & 5 & 5 & 5 & 5 & 5 & 5 & 5 & 1 & 5\\\\\n",
       "\t379 & 3 & 1 & 5 & 5 & 1 & 5 & 5 & 5 & 5 & 1\\\\\n",
       "\t380 & 3 & 4 & 5 & 4 & 5 & 5 & 5 & 5 & 4 & 1\\\\\n",
       "\t381 & 4 & 3 & 3 & 5 & 4 & 4 & 3 & 3 & 5 & 4\\\\\n",
       "\t382 & 1 & 4 & 1 & 2 & 5 & 4 & 4 & 4 & 4 & 1\\\\\n",
       "\t383 & 4 & 3 & 5 & 4 & 2 & 5 & 5 & 5 & 5 & 1\\\\\n",
       "\t384 & 4 & 5 & 5 & 3 & 1 & 4 & 5 & 5 & 3 & 1\\\\\n",
       "\t385 & 1 & 1 & 1 & 1 & 5 & 5 & 5 & 5 & 5 & 1\\\\\n",
       "\t386 & 1 & 1 & 1 & 1 & 4 & 3 & 4 & 3 & 1 & 4\\\\\n",
       "\t387 & 1 & 1 & 4 & 1 & 4 & 2 & 4 & 4 & 1 & 4\\\\\n",
       "\t388 & 3 & 4 & 2 & 4 & 3 & 3 & 4 & 2 & 4 & 3\\\\\n",
       "\t389 & 4 & 4 & 4 & 4 & 4 & 4 & 4 & 4 & 4 & 4\\\\\n",
       "\t390 & 4 & 4 & 1 & 4 & 2 & 4 & 5 & 3 & 3 & 1\\\\\n",
       "\t391 & 1 & 1 & 1 & 5 & 5 & 3 & 3 & 1 & 1 & 3\\\\\n",
       "\t392 & 1 & 4 & 1 & 1 & 4 & 5 & 5 & 5 & 5 & 1\\\\\n",
       "\t393 & 1 & 1 & 1 & 1 & 4 & 5 & 5 & 5 & 5 & 1\\\\\n",
       "\t394 & 1 & 1 & 1 & 1 & 3 & 1 & 1 & 1 & 1 & 3\\\\\n",
       "\\end{tabular}\n"
      ],
      "text/markdown": [
       "\n",
       "| <!--/--> | baseline_f1_002 | baseline_f1_004 | baseline_f1_006 | baseline_f1_007 | baseline_f1_008 | baseline_f2_002 | baseline_f2_004 | baseline_f2_006 | baseline_f2_007 | baseline_f2_008 | \n",
       "|---|---|---|---|---|---|---|---|---|---|---|---|---|---|---|---|---|---|---|---|---|---|---|---|---|---|---|---|---|---|---|---|---|---|---|---|---|---|---|---|---|---|---|---|---|---|---|---|---|---|---|---|---|---|---|---|---|---|---|---|---|\n",
       "| 1 | 2 | 3 | 1 | 1 | 1 | 3 | 3 | 4 | 1 | 5 | \n",
       "| 2 | 4 | 4 | 3 | 4 | 3 | 4 | 4 | 3 | 3 | 3 | \n",
       "| 3 | 4 | 4 | 4 | 4 | 2 | 4 | 4 | 4 | 4 | 3 | \n",
       "| 4 | 2 | 2 | 2 | 2 | 2 | 4 | 4 | 4 | 4 | 1 | \n",
       "| 5 | 3 | 3 | 2 | 2 | 3 | 4 | 4 | 3 | 3 | 2 | \n",
       "| 6 | 4 | 5 | 4 | 5 | 3 | 5 | 5 | 5 | 5 | 1 | \n",
       "| 7 | 2 | 2 | 2 | 2 | 4 | 5 | 5 | 5 | 5 | 1 | \n",
       "| 8 | 4 | 4 | 4 | 4 | 1 | 5 | 5 | 4 | 3 | 1 | \n",
       "| 9 | 3 | 3 | 3 | 3 | 3 | 3 | 3 | 3 | 3 | 3 | \n",
       "| 10 | 5 | 5 | 5 | 5 | 1 | 5 | 5 | 5 | 5 | 1 | \n",
       "| 11 | 3 | 5 | 4 | 4 | 1 | 5 | 5 | 3 | 4 | 2 | \n",
       "| 13 | 1 | 4 | 5 | 5 | 1 | 4 | 2 | 2 | 3 | 5 | \n",
       "| 14 | 1 | 1 | 1 | 1 | 4 | 4 | 4 | 3 | 5 | 1 | \n",
       "| 15 | 3 | 5 | 5 | 5 | 1 | 3 | 4 | 4 | 4 | 3 | \n",
       "| 16 | 4 | 3 | 4 | 3 | 2 | 5 | 5 | 5 | 5 | 1 | \n",
       "| 17 | 3 | 3 | 3 | 3 | 2 | 3 | 4 | 4 | 3 | 3 | \n",
       "| 18 | 2 | 4 | 2 | 4 | 2 | 4 | 4 | 2 | 4 | 1 | \n",
       "| 19 | 4 | 4 | 3 | 5 | 1 | 5 | 4 | 5 | 3 | 1 | \n",
       "| 20 | 1 | 5 | 1 | 5 | 1 | 5 | 5 | 1 | 1 | 1 | \n",
       "| 21 | 2 | 3 | 3 | 3 | 3 | 3 | 3 | 3 | 3 | 3 | \n",
       "| 22 | 3 | 5 | 3 | 5 | 2 | 5 | 5 | 4 | 5 | 1 | \n",
       "| 23 | 4 | 5 | 3 | 3 | 1 | 4 | 5 | 3 | 3 | 1 | \n",
       "| 24 | 5 | 5 | 5 | 5 | 1 | 5 | 5 | 5 | 5 | 5 | \n",
       "| 25 | 3 | 3 | 3 | 3 | 3 | 4 | 3 | 3 | 1 | 3 | \n",
       "| 26 | 2 | 2 | 2 | 4 | 3 | 2 | 2 | 2 | 4 | 3 | \n",
       "| 27 | 4 | 4 | 3 | 4 | 2 | 5 | 5 | 4 | 4 | 1 | \n",
       "| 28 | 5 | 5 | 5 | 5 | 1 | 5 | 5 | 4 | 3 | 1 | \n",
       "| 29 | 2 | 5 | 4 | 3 | 1 | 5 | 5 | 5 | 5 | 1 | \n",
       "| 30 | 3 | 3 | 3 | 3 | 3 | 3 | 3 | 3 | 3 | 3 | \n",
       "| 31 | 2 | 2 | 5 | 4 | 4 | 3 | 2 | 5 | 5 | 4 | \n",
       "| ⋮ | ⋮ | ⋮ | ⋮ | ⋮ | ⋮ | ⋮ | ⋮ | ⋮ | ⋮ | ⋮ | \n",
       "| 365 | 1 | 5 | 4 | 3 | 2 | 4 | 5 | 5 | 5 | 1 | \n",
       "| 366 | 3 | 3 | 3 | 4 | 2 | 4 | 4 | 3 | 3 | 2 | \n",
       "| 367 | 4 | 5 | 4 | 4 | 4 | 4 | 5 | 3 | 4 | 1 | \n",
       "| 368 | 4 | 4 | 4 | 4 | 2 | 5 | 5 | 5 | 5 | 1 | \n",
       "| 369 | 1 | 1 | 1 | 1 | 2 | 5 | 5 | 5 | 5 | 1 | \n",
       "| 370 | 5 | 5 | 1 | 5 | 1 | 5 | 5 | 1 | 5 | 1 | \n",
       "| 371 | 4 | 4 | 5 | 5 | 1 | 5 | 5 | 5 | 5 | 1 | \n",
       "| 372 | 1 | 1 | 1 | 1 | 5 | 5 | 5 | 5 | 5 | 1 | \n",
       "| 373 | 1 | 3 | 1 | 1 | 5 | 1 | 1 | 1 | 1 | 5 | \n",
       "| 374 | 3 | 1 | 1 | 1 | 4 | 1 | 1 | 1 | 1 | 4 | \n",
       "| 375 | 1 | 4 | 1 | 5 | 2 | 4 | 4 | 4 | 4 | 1 | \n",
       "| 376 | 5 | 3 | 5 | 5 | 4 | 5 | 3 | 5 | 3 | 4 | \n",
       "| 377 | 5 | 5 | 1 | 4 | 4 | 5 | 5 | 1 | 1 | 3 | \n",
       "| 378 | 1 | 5 | 5 | 5 | 5 | 5 | 5 | 5 | 1 | 5 | \n",
       "| 379 | 3 | 1 | 5 | 5 | 1 | 5 | 5 | 5 | 5 | 1 | \n",
       "| 380 | 3 | 4 | 5 | 4 | 5 | 5 | 5 | 5 | 4 | 1 | \n",
       "| 381 | 4 | 3 | 3 | 5 | 4 | 4 | 3 | 3 | 5 | 4 | \n",
       "| 382 | 1 | 4 | 1 | 2 | 5 | 4 | 4 | 4 | 4 | 1 | \n",
       "| 383 | 4 | 3 | 5 | 4 | 2 | 5 | 5 | 5 | 5 | 1 | \n",
       "| 384 | 4 | 5 | 5 | 3 | 1 | 4 | 5 | 5 | 3 | 1 | \n",
       "| 385 | 1 | 1 | 1 | 1 | 5 | 5 | 5 | 5 | 5 | 1 | \n",
       "| 386 | 1 | 1 | 1 | 1 | 4 | 3 | 4 | 3 | 1 | 4 | \n",
       "| 387 | 1 | 1 | 4 | 1 | 4 | 2 | 4 | 4 | 1 | 4 | \n",
       "| 388 | 3 | 4 | 2 | 4 | 3 | 3 | 4 | 2 | 4 | 3 | \n",
       "| 389 | 4 | 4 | 4 | 4 | 4 | 4 | 4 | 4 | 4 | 4 | \n",
       "| 390 | 4 | 4 | 1 | 4 | 2 | 4 | 5 | 3 | 3 | 1 | \n",
       "| 391 | 1 | 1 | 1 | 5 | 5 | 3 | 3 | 1 | 1 | 3 | \n",
       "| 392 | 1 | 4 | 1 | 1 | 4 | 5 | 5 | 5 | 5 | 1 | \n",
       "| 393 | 1 | 1 | 1 | 1 | 4 | 5 | 5 | 5 | 5 | 1 | \n",
       "| 394 | 1 | 1 | 1 | 1 | 3 | 1 | 1 | 1 | 1 | 3 | \n",
       "\n",
       "\n"
      ],
      "text/plain": [
       "    baseline_f1_002 baseline_f1_004 baseline_f1_006 baseline_f1_007\n",
       "1   2               3               1               1              \n",
       "2   4               4               3               4              \n",
       "3   4               4               4               4              \n",
       "4   2               2               2               2              \n",
       "5   3               3               2               2              \n",
       "6   4               5               4               5              \n",
       "7   2               2               2               2              \n",
       "8   4               4               4               4              \n",
       "9   3               3               3               3              \n",
       "10  5               5               5               5              \n",
       "11  3               5               4               4              \n",
       "13  1               4               5               5              \n",
       "14  1               1               1               1              \n",
       "15  3               5               5               5              \n",
       "16  4               3               4               3              \n",
       "17  3               3               3               3              \n",
       "18  2               4               2               4              \n",
       "19  4               4               3               5              \n",
       "20  1               5               1               5              \n",
       "21  2               3               3               3              \n",
       "22  3               5               3               5              \n",
       "23  4               5               3               3              \n",
       "24  5               5               5               5              \n",
       "25  3               3               3               3              \n",
       "26  2               2               2               4              \n",
       "27  4               4               3               4              \n",
       "28  5               5               5               5              \n",
       "29  2               5               4               3              \n",
       "30  3               3               3               3              \n",
       "31  2               2               5               4              \n",
       "⋮   ⋮               ⋮               ⋮               ⋮              \n",
       "365 1               5               4               3              \n",
       "366 3               3               3               4              \n",
       "367 4               5               4               4              \n",
       "368 4               4               4               4              \n",
       "369 1               1               1               1              \n",
       "370 5               5               1               5              \n",
       "371 4               4               5               5              \n",
       "372 1               1               1               1              \n",
       "373 1               3               1               1              \n",
       "374 3               1               1               1              \n",
       "375 1               4               1               5              \n",
       "376 5               3               5               5              \n",
       "377 5               5               1               4              \n",
       "378 1               5               5               5              \n",
       "379 3               1               5               5              \n",
       "380 3               4               5               4              \n",
       "381 4               3               3               5              \n",
       "382 1               4               1               2              \n",
       "383 4               3               5               4              \n",
       "384 4               5               5               3              \n",
       "385 1               1               1               1              \n",
       "386 1               1               1               1              \n",
       "387 1               1               4               1              \n",
       "388 3               4               2               4              \n",
       "389 4               4               4               4              \n",
       "390 4               4               1               4              \n",
       "391 1               1               1               5              \n",
       "392 1               4               1               1              \n",
       "393 1               1               1               1              \n",
       "394 1               1               1               1              \n",
       "    baseline_f1_008 baseline_f2_002 baseline_f2_004 baseline_f2_006\n",
       "1   1               3               3               4              \n",
       "2   3               4               4               3              \n",
       "3   2               4               4               4              \n",
       "4   2               4               4               4              \n",
       "5   3               4               4               3              \n",
       "6   3               5               5               5              \n",
       "7   4               5               5               5              \n",
       "8   1               5               5               4              \n",
       "9   3               3               3               3              \n",
       "10  1               5               5               5              \n",
       "11  1               5               5               3              \n",
       "13  1               4               2               2              \n",
       "14  4               4               4               3              \n",
       "15  1               3               4               4              \n",
       "16  2               5               5               5              \n",
       "17  2               3               4               4              \n",
       "18  2               4               4               2              \n",
       "19  1               5               4               5              \n",
       "20  1               5               5               1              \n",
       "21  3               3               3               3              \n",
       "22  2               5               5               4              \n",
       "23  1               4               5               3              \n",
       "24  1               5               5               5              \n",
       "25  3               4               3               3              \n",
       "26  3               2               2               2              \n",
       "27  2               5               5               4              \n",
       "28  1               5               5               4              \n",
       "29  1               5               5               5              \n",
       "30  3               3               3               3              \n",
       "31  4               3               2               5              \n",
       "⋮   ⋮               ⋮               ⋮               ⋮              \n",
       "365 2               4               5               5              \n",
       "366 2               4               4               3              \n",
       "367 4               4               5               3              \n",
       "368 2               5               5               5              \n",
       "369 2               5               5               5              \n",
       "370 1               5               5               1              \n",
       "371 1               5               5               5              \n",
       "372 5               5               5               5              \n",
       "373 5               1               1               1              \n",
       "374 4               1               1               1              \n",
       "375 2               4               4               4              \n",
       "376 4               5               3               5              \n",
       "377 4               5               5               1              \n",
       "378 5               5               5               5              \n",
       "379 1               5               5               5              \n",
       "380 5               5               5               5              \n",
       "381 4               4               3               3              \n",
       "382 5               4               4               4              \n",
       "383 2               5               5               5              \n",
       "384 1               4               5               5              \n",
       "385 5               5               5               5              \n",
       "386 4               3               4               3              \n",
       "387 4               2               4               4              \n",
       "388 3               3               4               2              \n",
       "389 4               4               4               4              \n",
       "390 2               4               5               3              \n",
       "391 5               3               3               1              \n",
       "392 4               5               5               5              \n",
       "393 4               5               5               5              \n",
       "394 3               1               1               1              \n",
       "    baseline_f2_007 baseline_f2_008\n",
       "1   1               5              \n",
       "2   3               3              \n",
       "3   4               3              \n",
       "4   4               1              \n",
       "5   3               2              \n",
       "6   5               1              \n",
       "7   5               1              \n",
       "8   3               1              \n",
       "9   3               3              \n",
       "10  5               1              \n",
       "11  4               2              \n",
       "13  3               5              \n",
       "14  5               1              \n",
       "15  4               3              \n",
       "16  5               1              \n",
       "17  3               3              \n",
       "18  4               1              \n",
       "19  3               1              \n",
       "20  1               1              \n",
       "21  3               3              \n",
       "22  5               1              \n",
       "23  3               1              \n",
       "24  5               5              \n",
       "25  1               3              \n",
       "26  4               3              \n",
       "27  4               1              \n",
       "28  3               1              \n",
       "29  5               1              \n",
       "30  3               3              \n",
       "31  5               4              \n",
       "⋮   ⋮               ⋮              \n",
       "365 5               1              \n",
       "366 3               2              \n",
       "367 4               1              \n",
       "368 5               1              \n",
       "369 5               1              \n",
       "370 5               1              \n",
       "371 5               1              \n",
       "372 5               1              \n",
       "373 1               5              \n",
       "374 1               4              \n",
       "375 4               1              \n",
       "376 3               4              \n",
       "377 1               3              \n",
       "378 1               5              \n",
       "379 5               1              \n",
       "380 4               1              \n",
       "381 5               4              \n",
       "382 4               1              \n",
       "383 5               1              \n",
       "384 3               1              \n",
       "385 5               1              \n",
       "386 1               4              \n",
       "387 1               4              \n",
       "388 4               3              \n",
       "389 4               4              \n",
       "390 3               1              \n",
       "391 1               3              \n",
       "392 5               1              \n",
       "393 5               1              \n",
       "394 1               3              "
      ]
     },
     "metadata": {},
     "output_type": "display_data"
    }
   ],
   "source": [
    "quit_intentions2"
   ]
  },
  {
   "cell_type": "code",
   "execution_count": 18,
   "metadata": {
    "collapsed": true
   },
   "outputs": [],
   "source": [
    "pc = princomp(quit_intentions2,scores=TRUE)"
   ]
  },
  {
   "cell_type": "code",
   "execution_count": 19,
   "metadata": {},
   "outputs": [
    {
     "name": "stdout",
     "output_type": "stream",
     "text": [
      "List of 7\n",
      " $ sdev    : Named num [1:10] 3.01 1.72 1.3 1.07 1.04 ...\n",
      "  ..- attr(*, \"names\")= chr [1:10] \"Comp.1\" \"Comp.2\" \"Comp.3\" \"Comp.4\" ...\n",
      " $ loadings: loadings [1:10, 1:10] -0.231 -0.359 -0.329 -0.35 0.302 ...\n",
      "  ..- attr(*, \"dimnames\")=List of 2\n",
      "  .. ..$ : chr [1:10] \"baseline_f1_002\" \"baseline_f1_004\" \"baseline_f1_006\" \"baseline_f1_007\" ...\n",
      "  .. ..$ : chr [1:10] \"Comp.1\" \"Comp.2\" \"Comp.3\" \"Comp.4\" ...\n",
      " $ center  : Named num [1:10] 2.75 3.15 2.67 3.08 2.79 ...\n",
      "  ..- attr(*, \"names\")= chr [1:10] \"baseline_f1_002\" \"baseline_f1_004\" \"baseline_f1_006\" \"baseline_f1_007\" ...\n",
      " $ scale   : Named num [1:10] 1 1 1 1 1 1 1 1 1 1\n",
      "  ..- attr(*, \"names\")= chr [1:10] \"baseline_f1_002\" \"baseline_f1_004\" \"baseline_f1_006\" \"baseline_f1_007\" ...\n",
      " $ n.obs   : int 389\n",
      " $ scores  : num [1:389, 1:10] 2.7956 -0.6126 -1.9002 0.0473 0.7107 ...\n",
      "  ..- attr(*, \"dimnames\")=List of 2\n",
      "  .. ..$ : chr [1:389] \"1\" \"2\" \"3\" \"4\" ...\n",
      "  .. ..$ : chr [1:10] \"Comp.1\" \"Comp.2\" \"Comp.3\" \"Comp.4\" ...\n",
      " $ call    : language princomp(x = quit_intentions2, scores = TRUE)\n",
      " - attr(*, \"class\")= chr \"princomp\"\n"
     ]
    }
   ],
   "source": [
    "str(pc)"
   ]
  },
  {
   "cell_type": "markdown",
   "metadata": {},
   "source": [
    "## Percent of variance"
   ]
  },
  {
   "cell_type": "code",
   "execution_count": 20,
   "metadata": {},
   "outputs": [
    {
     "data": {
      "text/html": [
       "<dl class=dl-horizontal>\n",
       "\t<dt>Comp.1</dt>\n",
       "\t\t<dd>47.8375849651451</dd>\n",
       "\t<dt>Comp.2</dt>\n",
       "\t\t<dd>15.7442776137629</dd>\n",
       "\t<dt>Comp.3</dt>\n",
       "\t\t<dd>8.89522282667619</dd>\n",
       "\t<dt>Comp.4</dt>\n",
       "\t\t<dd>6.05225640704928</dd>\n",
       "\t<dt>Comp.5</dt>\n",
       "\t\t<dd>5.75247888969216</dd>\n",
       "\t<dt>Comp.6</dt>\n",
       "\t\t<dd>5.24306883199379</dd>\n",
       "\t<dt>Comp.7</dt>\n",
       "\t\t<dd>4.1820425154955</dd>\n",
       "\t<dt>Comp.8</dt>\n",
       "\t\t<dd>2.38432358895461</dd>\n",
       "\t<dt>Comp.9</dt>\n",
       "\t\t<dd>2.09932448006574</dd>\n",
       "\t<dt>Comp.10</dt>\n",
       "\t\t<dd>1.80941988116468</dd>\n",
       "</dl>\n"
      ],
      "text/latex": [
       "\\begin{description*}\n",
       "\\item[Comp.1] 47.8375849651451\n",
       "\\item[Comp.2] 15.7442776137629\n",
       "\\item[Comp.3] 8.89522282667619\n",
       "\\item[Comp.4] 6.05225640704928\n",
       "\\item[Comp.5] 5.75247888969216\n",
       "\\item[Comp.6] 5.24306883199379\n",
       "\\item[Comp.7] 4.1820425154955\n",
       "\\item[Comp.8] 2.38432358895461\n",
       "\\item[Comp.9] 2.09932448006574\n",
       "\\item[Comp.10] 1.80941988116468\n",
       "\\end{description*}\n"
      ],
      "text/markdown": [
       "Comp.1\n",
       ":   47.8375849651451Comp.2\n",
       ":   15.7442776137629Comp.3\n",
       ":   8.89522282667619Comp.4\n",
       ":   6.05225640704928Comp.5\n",
       ":   5.75247888969216Comp.6\n",
       ":   5.24306883199379Comp.7\n",
       ":   4.1820425154955Comp.8\n",
       ":   2.38432358895461Comp.9\n",
       ":   2.09932448006574Comp.10\n",
       ":   1.80941988116468\n",
       "\n"
      ],
      "text/plain": [
       "   Comp.1    Comp.2    Comp.3    Comp.4    Comp.5    Comp.6    Comp.7    Comp.8 \n",
       "47.837585 15.744278  8.895223  6.052256  5.752479  5.243069  4.182043  2.384324 \n",
       "   Comp.9   Comp.10 \n",
       " 2.099324  1.809420 "
      ]
     },
     "metadata": {},
     "output_type": "display_data"
    }
   ],
   "source": [
    "100*pc$sdev^2/sum(pc$sdev^2)     #percent of variance"
   ]
  },
  {
   "cell_type": "markdown",
   "metadata": {},
   "source": [
    "## Loadings"
   ]
  },
  {
   "cell_type": "code",
   "execution_count": 21,
   "metadata": {},
   "outputs": [
    {
     "data": {
      "text/plain": [
       "\n",
       "Loadings:\n",
       "                Comp.1 Comp.2 Comp.3 Comp.4 Comp.5 Comp.6 Comp.7 Comp.8 Comp.9\n",
       "baseline_f1_002 -0.231 -0.431 -0.190  0.304  0.666  0.323        -0.228 -0.105\n",
       "baseline_f1_004 -0.359 -0.276  0.160  0.391 -0.320 -0.271 -0.514 -0.288  0.257\n",
       "baseline_f1_006 -0.329 -0.305 -0.485 -0.368 -0.143        -0.336  0.522 -0.141\n",
       "baseline_f1_007 -0.350 -0.339  0.231  0.117 -0.368  0.130  0.612  0.207  0.169\n",
       "baseline_f1_008  0.302  0.176 -0.544  0.536 -0.135                0.187  0.304\n",
       "baseline_f2_002 -0.305  0.230         0.243  0.327 -0.242  0.268  0.401  0.253\n",
       "baseline_f2_004 -0.317  0.268         0.245        -0.447               -0.688\n",
       "baseline_f2_006 -0.346  0.197 -0.470 -0.363        -0.203  0.254 -0.551  0.266\n",
       "baseline_f2_007 -0.310  0.455         0.189 -0.278  0.705               -0.169\n",
       "baseline_f2_008  0.295 -0.359 -0.351  0.177 -0.308         0.321 -0.201 -0.381\n",
       "                Comp.10\n",
       "baseline_f1_002 -0.142 \n",
       "baseline_f1_004  0.168 \n",
       "baseline_f1_006        \n",
       "baseline_f1_007 -0.313 \n",
       "baseline_f1_008 -0.382 \n",
       "baseline_f2_002  0.574 \n",
       "baseline_f2_004 -0.303 \n",
       "baseline_f2_006        \n",
       "baseline_f2_007  0.196 \n",
       "baseline_f2_008  0.492 \n",
       "\n",
       "               Comp.1 Comp.2 Comp.3 Comp.4 Comp.5 Comp.6 Comp.7 Comp.8 Comp.9\n",
       "SS loadings       1.0    1.0    1.0    1.0    1.0    1.0    1.0    1.0    1.0\n",
       "Proportion Var    0.1    0.1    0.1    0.1    0.1    0.1    0.1    0.1    0.1\n",
       "Cumulative Var    0.1    0.2    0.3    0.4    0.5    0.6    0.7    0.8    0.9\n",
       "               Comp.10\n",
       "SS loadings        1.0\n",
       "Proportion Var     0.1\n",
       "Cumulative Var     1.0"
      ]
     },
     "metadata": {},
     "output_type": "display_data"
    }
   ],
   "source": [
    "pc$loadings"
   ]
  },
  {
   "cell_type": "markdown",
   "metadata": {},
   "source": [
    "## Add scores to dataframe and set up Cox regression flag"
   ]
  },
  {
   "cell_type": "code",
   "execution_count": 22,
   "metadata": {},
   "outputs": [
    {
     "name": "stdout",
     "output_type": "stream",
     "text": [
      "'data.frame':\t389 obs. of  17 variables:\n",
      " $ isg_no         : num  10587 10636 10657 10664 10671 ...\n",
      " $ event          : num  1 1 1 0 1 1 0 1 1 1 ...\n",
      " $ hours_to_event : num  25.62 25.94 2.98 2088 114.74 ...\n",
      " $ baseline_f1_002: num  2 4 4 2 3 4 2 4 3 5 ...\n",
      " $ baseline_f1_004: num  3 4 4 2 3 5 2 4 3 5 ...\n",
      " $ baseline_f1_006: num  1 3 4 2 2 4 2 4 3 5 ...\n",
      " $ baseline_f1_007: num  1 4 4 2 2 5 2 4 3 5 ...\n",
      " $ baseline_f1_008: num  1 3 2 2 3 3 4 1 3 1 ...\n",
      " $ baseline_f2_002: num  3 4 4 4 4 5 5 5 3 5 ...\n",
      " $ baseline_f2_004: num  3 4 4 4 4 5 5 5 3 5 ...\n",
      " $ baseline_f2_006: num  4 3 4 4 3 5 5 4 3 5 ...\n",
      " $ baseline_f2_007: num  1 3 4 4 3 5 5 3 3 5 ...\n",
      " $ baseline_f2_008: num  5 3 3 1 2 1 1 1 3 1 ...\n",
      " $ pc1            : num  2.7956 -0.6126 -1.9002 0.0473 0.7107 ...\n",
      " $ pc2            : num  -1.061 -1.542 -1.371 2.048 0.506 ...\n",
      " $ pc3            : num  0.386 -0.23 -0.712 0.559 0.175 ...\n",
      " $ pc4            : num  -1.47597 1.08218 0.00309 -1.23922 0.34417 ...\n"
     ]
    }
   ],
   "source": [
    "pc1 = pc$scores[,1]\n",
    "pc2 = pc$scores[,2]\n",
    "pc3 = pc$scores[,3]\n",
    "pc4 = pc$scores[,4]\n",
    "quit_intentions_cox = cbind(quit_intentions,pc1,pc2,pc3,pc4)\n",
    "str(quit_intentions_cox)"
   ]
  },
  {
   "cell_type": "markdown",
   "metadata": {},
   "source": [
    "## Cox regression on first four principal component scores"
   ]
  },
  {
   "cell_type": "code",
   "execution_count": 23,
   "metadata": {},
   "outputs": [
    {
     "data": {
      "text/plain": [
       "Call:\n",
       "coxph(formula = Surv(hours_to_event, event) ~ pc1 + pc2 + pc3 + \n",
       "    pc4, data = quit_intentions_cox, method = \"efron\")\n",
       "\n",
       "       coef exp(coef) se(coef)     z       p\n",
       "pc1  0.0860    1.0899   0.0182  4.72 2.4e-06\n",
       "pc2 -0.2413    0.7856   0.0361 -6.69 2.2e-11\n",
       "pc3  0.0305    1.0310   0.0462  0.66    0.51\n",
       "pc4  0.0479    1.0490   0.0516  0.93    0.35\n",
       "\n",
       "Likelihood ratio test=66.6  on 4 df, p=1.19e-13\n",
       "n= 389, number of events= 309 "
      ]
     },
     "metadata": {},
     "output_type": "display_data"
    },
    {
     "data": {
      "text/plain": [
       "Call:\n",
       "coxph(formula = Surv(hours_to_event, event) ~ pc1 + pc2 + pc3 + \n",
       "    pc4, data = quit_intentions_cox, method = \"efron\")\n",
       "\n",
       "  n= 389, number of events= 309 \n",
       "\n",
       "        coef exp(coef) se(coef)      z Pr(>|z|)    \n",
       "pc1  0.08605   1.08986  0.01825  4.716 2.41e-06 ***\n",
       "pc2 -0.24131   0.78560  0.03607 -6.690 2.23e-11 ***\n",
       "pc3  0.03052   1.03099  0.04618  0.661    0.509    \n",
       "pc4  0.04787   1.04903  0.05161  0.928    0.354    \n",
       "---\n",
       "Signif. codes:  0 ‘***’ 0.001 ‘**’ 0.01 ‘*’ 0.05 ‘.’ 0.1 ‘ ’ 1\n",
       "\n",
       "    exp(coef) exp(-coef) lower .95 upper .95\n",
       "pc1    1.0899     0.9176    1.0516    1.1295\n",
       "pc2    0.7856     1.2729    0.7320    0.8431\n",
       "pc3    1.0310     0.9699    0.9418    1.1287\n",
       "pc4    1.0490     0.9533    0.9481    1.1607\n",
       "\n",
       "Concordance= 0.637  (se = 0.018 )\n",
       "Rsquare= 0.157   (max possible= 1 )\n",
       "Likelihood ratio test= 66.59  on 4 df,   p=1.188e-13\n",
       "Wald test            = 65.1  on 4 df,   p=2.455e-13\n",
       "Score (logrank) test = 66.99  on 4 df,   p=9.781e-14\n"
      ]
     },
     "metadata": {},
     "output_type": "display_data"
    }
   ],
   "source": [
    "cr = coxph(Surv(hours_to_event,event) ~ pc1+pc2+pc3+pc4,data=quit_intentions_cox,method=\"efron\")\n",
    "cr\n",
    "summary(cr)"
   ]
  },
  {
   "cell_type": "markdown",
   "metadata": {},
   "source": [
    "## Cox regression with principal components and Leikert scale scores - event related fear"
   ]
  },
  {
   "cell_type": "markdown",
   "metadata": {},
   "source": [
    "## Compute principal components for baseline predictors"
   ]
  },
  {
   "cell_type": "code",
   "execution_count": 24,
   "metadata": {},
   "outputs": [
    {
     "name": "stdout",
     "output_type": "stream",
     "text": [
      "'data.frame':\t391 obs. of  6 variables:\n",
      " $ isg_no         : num  10587 10636 10657 10664 10671 ...\n",
      " $ event          : num  1 1 1 0 1 1 0 1 1 1 ...\n",
      " $ hours_to_event : num  25.62 25.94 2.98 2088 114.74 ...\n",
      " $ baseline_b2_002: num  4 4 4 2 4 4 4 2 3 5 ...\n",
      " $ baseline_c2_002: num  4 3 4 2 4 4 4 1 4 4 ...\n",
      " $ baseline_d2_002: num  1 2 5 1 3 3 2 1 1 5 ...\n",
      " - attr(*, \"na.action\")=Class 'omit'  Named int [1:43] 12 84 113 395 396 397 398 399 400 401 ...\n",
      "  .. ..- attr(*, \"names\")= chr [1:43] \"12\" \"84\" \"113\" \"395\" ...\n"
     ]
    }
   ],
   "source": [
    "keeplist = c('isg_no','event','hours_to_event',\n",
    "            'baseline_b2_002','baseline_c2_002','baseline_d2_002')\n",
    "\n",
    "event_related_fear = na.omit(coxreg[,keeplist])\n",
    "str(event_related_fear)"
   ]
  },
  {
   "cell_type": "code",
   "execution_count": 25,
   "metadata": {},
   "outputs": [
    {
     "name": "stdout",
     "output_type": "stream",
     "text": [
      "'data.frame':\t391 obs. of  3 variables:\n",
      " $ baseline_b2_002: num  4 4 4 2 4 4 4 2 3 5 ...\n",
      " $ baseline_c2_002: num  4 3 4 2 4 4 4 1 4 4 ...\n",
      " $ baseline_d2_002: num  1 2 5 1 3 3 2 1 1 5 ...\n"
     ]
    }
   ],
   "source": [
    "event_related_fear2 = event_related_fear[,4:6]\n",
    "str(event_related_fear2)"
   ]
  },
  {
   "cell_type": "code",
   "execution_count": 26,
   "metadata": {},
   "outputs": [
    {
     "data": {
      "text/plain": [
       " baseline_b2_002 baseline_c2_002 baseline_d2_002\n",
       " Min.   :1.000   Min.   :1.000   Min.   :1.000  \n",
       " 1st Qu.:1.000   1st Qu.:1.000   1st Qu.:1.000  \n",
       " Median :3.000   Median :3.000   Median :1.000  \n",
       " Mean   :2.887   Mean   :2.962   Mean   :2.087  \n",
       " 3rd Qu.:4.000   3rd Qu.:5.000   3rd Qu.:3.000  \n",
       " Max.   :5.000   Max.   :5.000   Max.   :5.000  "
      ]
     },
     "metadata": {},
     "output_type": "display_data"
    }
   ],
   "source": [
    "summary(event_related_fear2)"
   ]
  },
  {
   "cell_type": "code",
   "execution_count": 27,
   "metadata": {},
   "outputs": [
    {
     "data": {
      "text/html": [
       "<table>\n",
       "<thead><tr><th></th><th scope=col>baseline_b2_002</th><th scope=col>baseline_c2_002</th><th scope=col>baseline_d2_002</th></tr></thead>\n",
       "<tbody>\n",
       "\t<tr><th scope=row>1</th><td>4</td><td>4</td><td>1</td></tr>\n",
       "\t<tr><th scope=row>2</th><td>4</td><td>3</td><td>2</td></tr>\n",
       "\t<tr><th scope=row>3</th><td>4</td><td>4</td><td>5</td></tr>\n",
       "\t<tr><th scope=row>4</th><td>2</td><td>2</td><td>1</td></tr>\n",
       "\t<tr><th scope=row>5</th><td>4</td><td>4</td><td>3</td></tr>\n",
       "\t<tr><th scope=row>6</th><td>4</td><td>4</td><td>3</td></tr>\n",
       "\t<tr><th scope=row>7</th><td>4</td><td>4</td><td>2</td></tr>\n",
       "\t<tr><th scope=row>8</th><td>2</td><td>1</td><td>1</td></tr>\n",
       "\t<tr><th scope=row>9</th><td>3</td><td>4</td><td>1</td></tr>\n",
       "\t<tr><th scope=row>10</th><td>5</td><td>4</td><td>5</td></tr>\n",
       "\t<tr><th scope=row>11</th><td>5</td><td>2</td><td>1</td></tr>\n",
       "\t<tr><th scope=row>13</th><td>4</td><td>3</td><td>3</td></tr>\n",
       "\t<tr><th scope=row>14</th><td>4</td><td>3</td><td>2</td></tr>\n",
       "\t<tr><th scope=row>15</th><td>1</td><td>2</td><td>1</td></tr>\n",
       "\t<tr><th scope=row>16</th><td>3</td><td>3</td><td>1</td></tr>\n",
       "\t<tr><th scope=row>17</th><td>1</td><td>1</td><td>2</td></tr>\n",
       "\t<tr><th scope=row>18</th><td>4</td><td>4</td><td>2</td></tr>\n",
       "\t<tr><th scope=row>19</th><td>2</td><td>4</td><td>1</td></tr>\n",
       "\t<tr><th scope=row>20</th><td>5</td><td>5</td><td>1</td></tr>\n",
       "\t<tr><th scope=row>21</th><td>4</td><td>4</td><td>3</td></tr>\n",
       "\t<tr><th scope=row>22</th><td>1</td><td>5</td><td>5</td></tr>\n",
       "\t<tr><th scope=row>23</th><td>1</td><td>1</td><td>1</td></tr>\n",
       "\t<tr><th scope=row>24</th><td>1</td><td>1</td><td>1</td></tr>\n",
       "\t<tr><th scope=row>25</th><td>3</td><td>3</td><td>4</td></tr>\n",
       "\t<tr><th scope=row>26</th><td>1</td><td>1</td><td>1</td></tr>\n",
       "\t<tr><th scope=row>27</th><td>4</td><td>5</td><td>5</td></tr>\n",
       "\t<tr><th scope=row>28</th><td>5</td><td>5</td><td>3</td></tr>\n",
       "\t<tr><th scope=row>29</th><td>5</td><td>5</td><td>5</td></tr>\n",
       "\t<tr><th scope=row>30</th><td>4</td><td>5</td><td>4</td></tr>\n",
       "\t<tr><th scope=row>31</th><td>2</td><td>2</td><td>2</td></tr>\n",
       "\t<tr><th scope=row>⋮</th><td>⋮</td><td>⋮</td><td>⋮</td></tr>\n",
       "\t<tr><th scope=row>365</th><td>1</td><td>1</td><td>1</td></tr>\n",
       "\t<tr><th scope=row>366</th><td>3</td><td>3</td><td>1</td></tr>\n",
       "\t<tr><th scope=row>367</th><td>1</td><td>1</td><td>1</td></tr>\n",
       "\t<tr><th scope=row>368</th><td>3</td><td>5</td><td>3</td></tr>\n",
       "\t<tr><th scope=row>369</th><td>5</td><td>5</td><td>2</td></tr>\n",
       "\t<tr><th scope=row>370</th><td>2</td><td>2</td><td>1</td></tr>\n",
       "\t<tr><th scope=row>371</th><td>1</td><td>4</td><td>1</td></tr>\n",
       "\t<tr><th scope=row>372</th><td>5</td><td>5</td><td>5</td></tr>\n",
       "\t<tr><th scope=row>373</th><td>1</td><td>1</td><td>1</td></tr>\n",
       "\t<tr><th scope=row>374</th><td>5</td><td>5</td><td>1</td></tr>\n",
       "\t<tr><th scope=row>375</th><td>1</td><td>1</td><td>1</td></tr>\n",
       "\t<tr><th scope=row>376</th><td>5</td><td>5</td><td>1</td></tr>\n",
       "\t<tr><th scope=row>377</th><td>5</td><td>1</td><td>1</td></tr>\n",
       "\t<tr><th scope=row>378</th><td>1</td><td>3</td><td>1</td></tr>\n",
       "\t<tr><th scope=row>379</th><td>4</td><td>4</td><td>4</td></tr>\n",
       "\t<tr><th scope=row>380</th><td>1</td><td>1</td><td>1</td></tr>\n",
       "\t<tr><th scope=row>381</th><td>2</td><td>5</td><td>5</td></tr>\n",
       "\t<tr><th scope=row>382</th><td>2</td><td>1</td><td>1</td></tr>\n",
       "\t<tr><th scope=row>383</th><td>1</td><td>1</td><td>2</td></tr>\n",
       "\t<tr><th scope=row>384</th><td>1</td><td>1</td><td>1</td></tr>\n",
       "\t<tr><th scope=row>385</th><td>5</td><td>5</td><td>5</td></tr>\n",
       "\t<tr><th scope=row>386</th><td>4</td><td>1</td><td>1</td></tr>\n",
       "\t<tr><th scope=row>387</th><td>4</td><td>1</td><td>1</td></tr>\n",
       "\t<tr><th scope=row>388</th><td>5</td><td>4</td><td>1</td></tr>\n",
       "\t<tr><th scope=row>389</th><td>3</td><td>4</td><td>4</td></tr>\n",
       "\t<tr><th scope=row>390</th><td>1</td><td>2</td><td>1</td></tr>\n",
       "\t<tr><th scope=row>391</th><td>5</td><td>5</td><td>1</td></tr>\n",
       "\t<tr><th scope=row>392</th><td>1</td><td>2</td><td>1</td></tr>\n",
       "\t<tr><th scope=row>393</th><td>1</td><td>2</td><td>1</td></tr>\n",
       "\t<tr><th scope=row>394</th><td>3</td><td>2</td><td>1</td></tr>\n",
       "</tbody>\n",
       "</table>\n"
      ],
      "text/latex": [
       "\\begin{tabular}{r|lll}\n",
       "  & baseline\\_b2\\_002 & baseline\\_c2\\_002 & baseline\\_d2\\_002\\\\\n",
       "\\hline\n",
       "\t1 & 4 & 4 & 1\\\\\n",
       "\t2 & 4 & 3 & 2\\\\\n",
       "\t3 & 4 & 4 & 5\\\\\n",
       "\t4 & 2 & 2 & 1\\\\\n",
       "\t5 & 4 & 4 & 3\\\\\n",
       "\t6 & 4 & 4 & 3\\\\\n",
       "\t7 & 4 & 4 & 2\\\\\n",
       "\t8 & 2 & 1 & 1\\\\\n",
       "\t9 & 3 & 4 & 1\\\\\n",
       "\t10 & 5 & 4 & 5\\\\\n",
       "\t11 & 5 & 2 & 1\\\\\n",
       "\t13 & 4 & 3 & 3\\\\\n",
       "\t14 & 4 & 3 & 2\\\\\n",
       "\t15 & 1 & 2 & 1\\\\\n",
       "\t16 & 3 & 3 & 1\\\\\n",
       "\t17 & 1 & 1 & 2\\\\\n",
       "\t18 & 4 & 4 & 2\\\\\n",
       "\t19 & 2 & 4 & 1\\\\\n",
       "\t20 & 5 & 5 & 1\\\\\n",
       "\t21 & 4 & 4 & 3\\\\\n",
       "\t22 & 1 & 5 & 5\\\\\n",
       "\t23 & 1 & 1 & 1\\\\\n",
       "\t24 & 1 & 1 & 1\\\\\n",
       "\t25 & 3 & 3 & 4\\\\\n",
       "\t26 & 1 & 1 & 1\\\\\n",
       "\t27 & 4 & 5 & 5\\\\\n",
       "\t28 & 5 & 5 & 3\\\\\n",
       "\t29 & 5 & 5 & 5\\\\\n",
       "\t30 & 4 & 5 & 4\\\\\n",
       "\t31 & 2 & 2 & 2\\\\\n",
       "\t⋮ & ⋮ & ⋮ & ⋮\\\\\n",
       "\t365 & 1 & 1 & 1\\\\\n",
       "\t366 & 3 & 3 & 1\\\\\n",
       "\t367 & 1 & 1 & 1\\\\\n",
       "\t368 & 3 & 5 & 3\\\\\n",
       "\t369 & 5 & 5 & 2\\\\\n",
       "\t370 & 2 & 2 & 1\\\\\n",
       "\t371 & 1 & 4 & 1\\\\\n",
       "\t372 & 5 & 5 & 5\\\\\n",
       "\t373 & 1 & 1 & 1\\\\\n",
       "\t374 & 5 & 5 & 1\\\\\n",
       "\t375 & 1 & 1 & 1\\\\\n",
       "\t376 & 5 & 5 & 1\\\\\n",
       "\t377 & 5 & 1 & 1\\\\\n",
       "\t378 & 1 & 3 & 1\\\\\n",
       "\t379 & 4 & 4 & 4\\\\\n",
       "\t380 & 1 & 1 & 1\\\\\n",
       "\t381 & 2 & 5 & 5\\\\\n",
       "\t382 & 2 & 1 & 1\\\\\n",
       "\t383 & 1 & 1 & 2\\\\\n",
       "\t384 & 1 & 1 & 1\\\\\n",
       "\t385 & 5 & 5 & 5\\\\\n",
       "\t386 & 4 & 1 & 1\\\\\n",
       "\t387 & 4 & 1 & 1\\\\\n",
       "\t388 & 5 & 4 & 1\\\\\n",
       "\t389 & 3 & 4 & 4\\\\\n",
       "\t390 & 1 & 2 & 1\\\\\n",
       "\t391 & 5 & 5 & 1\\\\\n",
       "\t392 & 1 & 2 & 1\\\\\n",
       "\t393 & 1 & 2 & 1\\\\\n",
       "\t394 & 3 & 2 & 1\\\\\n",
       "\\end{tabular}\n"
      ],
      "text/markdown": [
       "\n",
       "| <!--/--> | baseline_b2_002 | baseline_c2_002 | baseline_d2_002 | \n",
       "|---|---|---|---|---|---|---|---|---|---|---|---|---|---|---|---|---|---|---|---|---|---|---|---|---|---|---|---|---|---|---|---|---|---|---|---|---|---|---|---|---|---|---|---|---|---|---|---|---|---|---|---|---|---|---|---|---|---|---|---|---|\n",
       "| 1 | 4 | 4 | 1 | \n",
       "| 2 | 4 | 3 | 2 | \n",
       "| 3 | 4 | 4 | 5 | \n",
       "| 4 | 2 | 2 | 1 | \n",
       "| 5 | 4 | 4 | 3 | \n",
       "| 6 | 4 | 4 | 3 | \n",
       "| 7 | 4 | 4 | 2 | \n",
       "| 8 | 2 | 1 | 1 | \n",
       "| 9 | 3 | 4 | 1 | \n",
       "| 10 | 5 | 4 | 5 | \n",
       "| 11 | 5 | 2 | 1 | \n",
       "| 13 | 4 | 3 | 3 | \n",
       "| 14 | 4 | 3 | 2 | \n",
       "| 15 | 1 | 2 | 1 | \n",
       "| 16 | 3 | 3 | 1 | \n",
       "| 17 | 1 | 1 | 2 | \n",
       "| 18 | 4 | 4 | 2 | \n",
       "| 19 | 2 | 4 | 1 | \n",
       "| 20 | 5 | 5 | 1 | \n",
       "| 21 | 4 | 4 | 3 | \n",
       "| 22 | 1 | 5 | 5 | \n",
       "| 23 | 1 | 1 | 1 | \n",
       "| 24 | 1 | 1 | 1 | \n",
       "| 25 | 3 | 3 | 4 | \n",
       "| 26 | 1 | 1 | 1 | \n",
       "| 27 | 4 | 5 | 5 | \n",
       "| 28 | 5 | 5 | 3 | \n",
       "| 29 | 5 | 5 | 5 | \n",
       "| 30 | 4 | 5 | 4 | \n",
       "| 31 | 2 | 2 | 2 | \n",
       "| ⋮ | ⋮ | ⋮ | ⋮ | \n",
       "| 365 | 1 | 1 | 1 | \n",
       "| 366 | 3 | 3 | 1 | \n",
       "| 367 | 1 | 1 | 1 | \n",
       "| 368 | 3 | 5 | 3 | \n",
       "| 369 | 5 | 5 | 2 | \n",
       "| 370 | 2 | 2 | 1 | \n",
       "| 371 | 1 | 4 | 1 | \n",
       "| 372 | 5 | 5 | 5 | \n",
       "| 373 | 1 | 1 | 1 | \n",
       "| 374 | 5 | 5 | 1 | \n",
       "| 375 | 1 | 1 | 1 | \n",
       "| 376 | 5 | 5 | 1 | \n",
       "| 377 | 5 | 1 | 1 | \n",
       "| 378 | 1 | 3 | 1 | \n",
       "| 379 | 4 | 4 | 4 | \n",
       "| 380 | 1 | 1 | 1 | \n",
       "| 381 | 2 | 5 | 5 | \n",
       "| 382 | 2 | 1 | 1 | \n",
       "| 383 | 1 | 1 | 2 | \n",
       "| 384 | 1 | 1 | 1 | \n",
       "| 385 | 5 | 5 | 5 | \n",
       "| 386 | 4 | 1 | 1 | \n",
       "| 387 | 4 | 1 | 1 | \n",
       "| 388 | 5 | 4 | 1 | \n",
       "| 389 | 3 | 4 | 4 | \n",
       "| 390 | 1 | 2 | 1 | \n",
       "| 391 | 5 | 5 | 1 | \n",
       "| 392 | 1 | 2 | 1 | \n",
       "| 393 | 1 | 2 | 1 | \n",
       "| 394 | 3 | 2 | 1 | \n",
       "\n",
       "\n"
      ],
      "text/plain": [
       "    baseline_b2_002 baseline_c2_002 baseline_d2_002\n",
       "1   4               4               1              \n",
       "2   4               3               2              \n",
       "3   4               4               5              \n",
       "4   2               2               1              \n",
       "5   4               4               3              \n",
       "6   4               4               3              \n",
       "7   4               4               2              \n",
       "8   2               1               1              \n",
       "9   3               4               1              \n",
       "10  5               4               5              \n",
       "11  5               2               1              \n",
       "13  4               3               3              \n",
       "14  4               3               2              \n",
       "15  1               2               1              \n",
       "16  3               3               1              \n",
       "17  1               1               2              \n",
       "18  4               4               2              \n",
       "19  2               4               1              \n",
       "20  5               5               1              \n",
       "21  4               4               3              \n",
       "22  1               5               5              \n",
       "23  1               1               1              \n",
       "24  1               1               1              \n",
       "25  3               3               4              \n",
       "26  1               1               1              \n",
       "27  4               5               5              \n",
       "28  5               5               3              \n",
       "29  5               5               5              \n",
       "30  4               5               4              \n",
       "31  2               2               2              \n",
       "⋮   ⋮               ⋮               ⋮              \n",
       "365 1               1               1              \n",
       "366 3               3               1              \n",
       "367 1               1               1              \n",
       "368 3               5               3              \n",
       "369 5               5               2              \n",
       "370 2               2               1              \n",
       "371 1               4               1              \n",
       "372 5               5               5              \n",
       "373 1               1               1              \n",
       "374 5               5               1              \n",
       "375 1               1               1              \n",
       "376 5               5               1              \n",
       "377 5               1               1              \n",
       "378 1               3               1              \n",
       "379 4               4               4              \n",
       "380 1               1               1              \n",
       "381 2               5               5              \n",
       "382 2               1               1              \n",
       "383 1               1               2              \n",
       "384 1               1               1              \n",
       "385 5               5               5              \n",
       "386 4               1               1              \n",
       "387 4               1               1              \n",
       "388 5               4               1              \n",
       "389 3               4               4              \n",
       "390 1               2               1              \n",
       "391 5               5               1              \n",
       "392 1               2               1              \n",
       "393 1               2               1              \n",
       "394 3               2               1              "
      ]
     },
     "metadata": {},
     "output_type": "display_data"
    }
   ],
   "source": [
    "event_related_fear2"
   ]
  },
  {
   "cell_type": "code",
   "execution_count": 28,
   "metadata": {
    "collapsed": true
   },
   "outputs": [],
   "source": [
    "pc = princomp(event_related_fear2,scores=TRUE)"
   ]
  },
  {
   "cell_type": "code",
   "execution_count": 29,
   "metadata": {},
   "outputs": [
    {
     "name": "stdout",
     "output_type": "stream",
     "text": [
      "List of 7\n",
      " $ sdev    : Named num [1:3] 2.15 1.17 1.01\n",
      "  ..- attr(*, \"names\")= chr [1:3] \"Comp.1\" \"Comp.2\" \"Comp.3\"\n",
      " $ loadings: loadings [1:3, 1:3] -0.6048 -0.6389 -0.4754 0.5974 0.0307 ...\n",
      "  ..- attr(*, \"dimnames\")=List of 2\n",
      "  .. ..$ : chr [1:3] \"baseline_b2_002\" \"baseline_c2_002\" \"baseline_d2_002\"\n",
      "  .. ..$ : chr [1:3] \"Comp.1\" \"Comp.2\" \"Comp.3\"\n",
      " $ center  : Named num [1:3] 2.89 2.96 2.09\n",
      "  ..- attr(*, \"names\")= chr [1:3] \"baseline_b2_002\" \"baseline_c2_002\" \"baseline_d2_002\"\n",
      " $ scale   : Named num [1:3] 1 1 1\n",
      "  ..- attr(*, \"names\")= chr [1:3] \"baseline_b2_002\" \"baseline_c2_002\" \"baseline_d2_002\"\n",
      " $ n.obs   : int 391\n",
      " $ scores  : num [1:391, 1:3] -0.82 -0.656 -2.721 1.668 -1.77 ...\n",
      "  ..- attr(*, \"dimnames\")=List of 2\n",
      "  .. ..$ : chr [1:391] \"1\" \"2\" \"3\" \"4\" ...\n",
      "  .. ..$ : chr [1:3] \"Comp.1\" \"Comp.2\" \"Comp.3\"\n",
      " $ call    : language princomp(x = event_related_fear2, scores = TRUE)\n",
      " - attr(*, \"class\")= chr \"princomp\"\n"
     ]
    }
   ],
   "source": [
    "str(pc)"
   ]
  },
  {
   "cell_type": "markdown",
   "metadata": {},
   "source": [
    "## Percent of variance"
   ]
  },
  {
   "cell_type": "code",
   "execution_count": 30,
   "metadata": {},
   "outputs": [
    {
     "data": {
      "text/html": [
       "<dl class=dl-horizontal>\n",
       "\t<dt>Comp.1</dt>\n",
       "\t\t<dd>65.7746921821575</dd>\n",
       "\t<dt>Comp.2</dt>\n",
       "\t\t<dd>19.679120623464</dd>\n",
       "\t<dt>Comp.3</dt>\n",
       "\t\t<dd>14.5461871943785</dd>\n",
       "</dl>\n"
      ],
      "text/latex": [
       "\\begin{description*}\n",
       "\\item[Comp.1] 65.7746921821575\n",
       "\\item[Comp.2] 19.679120623464\n",
       "\\item[Comp.3] 14.5461871943785\n",
       "\\end{description*}\n"
      ],
      "text/markdown": [
       "Comp.1\n",
       ":   65.7746921821575Comp.2\n",
       ":   19.679120623464Comp.3\n",
       ":   14.5461871943785\n",
       "\n"
      ],
      "text/plain": [
       "  Comp.1   Comp.2   Comp.3 \n",
       "65.77469 19.67912 14.54619 "
      ]
     },
     "metadata": {},
     "output_type": "display_data"
    }
   ],
   "source": [
    "100*pc$sdev^2/sum(pc$sdev^2)     #percent of variance"
   ]
  },
  {
   "cell_type": "markdown",
   "metadata": {},
   "source": [
    "## Loadings"
   ]
  },
  {
   "cell_type": "code",
   "execution_count": 31,
   "metadata": {},
   "outputs": [
    {
     "data": {
      "text/plain": [
       "\n",
       "Loadings:\n",
       "                Comp.1 Comp.2 Comp.3\n",
       "baseline_b2_002 -0.605  0.597  0.527\n",
       "baseline_c2_002 -0.639        -0.769\n",
       "baseline_d2_002 -0.475 -0.801  0.363\n",
       "\n",
       "               Comp.1 Comp.2 Comp.3\n",
       "SS loadings     1.000  1.000  1.000\n",
       "Proportion Var  0.333  0.333  0.333\n",
       "Cumulative Var  0.333  0.667  1.000"
      ]
     },
     "metadata": {},
     "output_type": "display_data"
    }
   ],
   "source": [
    "pc$loadings"
   ]
  },
  {
   "cell_type": "markdown",
   "metadata": {},
   "source": [
    "## Add scores to dataframe and set up Cox regression flag"
   ]
  },
  {
   "cell_type": "code",
   "execution_count": 32,
   "metadata": {},
   "outputs": [
    {
     "name": "stdout",
     "output_type": "stream",
     "text": [
      "'data.frame':\t391 obs. of  9 variables:\n",
      " $ isg_no         : num  10587 10636 10657 10664 10671 ...\n",
      " $ event          : num  1 1 1 0 1 1 0 1 1 1 ...\n",
      " $ hours_to_event : num  25.62 25.94 2.98 2088 114.74 ...\n",
      " $ baseline_b2_002: num  4 4 4 2 4 4 4 2 3 5 ...\n",
      " $ baseline_c2_002: num  4 3 4 2 4 4 4 1 4 4 ...\n",
      " $ baseline_d2_002: num  1 2 5 1 3 3 2 1 1 5 ...\n",
      " $ pc1            : num  -0.82 -0.656 -2.721 1.668 -1.77 ...\n",
      " $ pc2            : num  1.5675 0.7355 -1.6379 0.3114 -0.0352 ...\n",
      " $ pc3            : num  -0.607 0.525 0.845 -0.123 0.119 ...\n"
     ]
    }
   ],
   "source": [
    "pc1 = pc$scores[,1]\n",
    "pc2 = pc$scores[,2]\n",
    "pc3 = pc$scores[,3]\n",
    "event_related_fear_cox = cbind(event_related_fear,pc1,pc2,pc3)\n",
    "str(event_related_fear_cox)"
   ]
  },
  {
   "cell_type": "markdown",
   "metadata": {},
   "source": [
    "## Cox regression on first three principal component scores"
   ]
  },
  {
   "cell_type": "code",
   "execution_count": 33,
   "metadata": {},
   "outputs": [
    {
     "data": {
      "text/plain": [
       "Call:\n",
       "coxph(formula = Surv(hours_to_event, event) ~ pc1 + pc2 + pc3, \n",
       "    data = event_related_fear_cox, method = \"efron\")\n",
       "\n",
       "        coef exp(coef) se(coef)     z     p\n",
       "pc1 -0.00567   0.99435  0.02622 -0.22 0.829\n",
       "pc2  0.07801   1.08113  0.04803  1.62 0.104\n",
       "pc3  0.10152   1.10685  0.05591  1.82 0.069\n",
       "\n",
       "Likelihood ratio test=6.41  on 3 df, p=0.0935\n",
       "n= 391, number of events= 311 "
      ]
     },
     "metadata": {},
     "output_type": "display_data"
    },
    {
     "data": {
      "text/plain": [
       "Call:\n",
       "coxph(formula = Surv(hours_to_event, event) ~ pc1 + pc2 + pc3, \n",
       "    data = event_related_fear_cox, method = \"efron\")\n",
       "\n",
       "  n= 391, number of events= 311 \n",
       "\n",
       "         coef exp(coef)  se(coef)      z Pr(>|z|)  \n",
       "pc1 -0.005668  0.994348  0.026224 -0.216   0.8289  \n",
       "pc2  0.078008  1.081131  0.048030  1.624   0.1043  \n",
       "pc3  0.101521  1.106853  0.055911  1.816   0.0694 .\n",
       "---\n",
       "Signif. codes:  0 ‘***’ 0.001 ‘**’ 0.01 ‘*’ 0.05 ‘.’ 0.1 ‘ ’ 1\n",
       "\n",
       "    exp(coef) exp(-coef) lower .95 upper .95\n",
       "pc1    0.9943     1.0057    0.9445     1.047\n",
       "pc2    1.0811     0.9250    0.9840     1.188\n",
       "pc3    1.1069     0.9035    0.9920     1.235\n",
       "\n",
       "Concordance= 0.537  (se = 0.018 )\n",
       "Rsquare= 0.016   (max possible= 1 )\n",
       "Likelihood ratio test= 6.41  on 3 df,   p=0.09348\n",
       "Wald test            = 6.43  on 3 df,   p=0.09251\n",
       "Score (logrank) test = 6.4  on 3 df,   p=0.09353\n"
      ]
     },
     "metadata": {},
     "output_type": "display_data"
    }
   ],
   "source": [
    "cr = coxph(Surv(hours_to_event,event) ~ pc1+pc2+pc3,data=event_related_fear_cox,method=\"efron\")\n",
    "cr\n",
    "summary(cr)"
   ]
  },
  {
   "cell_type": "markdown",
   "metadata": {},
   "source": [
    "### Cox regression on Leikert scale scores"
   ]
  },
  {
   "cell_type": "code",
   "execution_count": 34,
   "metadata": {},
   "outputs": [
    {
     "data": {
      "text/plain": [
       "Call:\n",
       "coxph(formula = Surv(hours_to_event, event) ~ baseline_b2_002 + \n",
       "    baseline_c2_002 + baseline_d2_002, data = event_related_fear_cox, \n",
       "    method = \"efron\")\n",
       "\n",
       "                   coef exp(coef) se(coef)     z     p\n",
       "baseline_b2_002  0.1035    1.1090   0.0429  2.41 0.016\n",
       "baseline_c2_002 -0.0720    0.9305   0.0461 -1.56 0.118\n",
       "baseline_d2_002 -0.0230    0.9773   0.0465 -0.49 0.621\n",
       "\n",
       "Likelihood ratio test=6.41  on 3 df, p=0.0935\n",
       "n= 391, number of events= 311 "
      ]
     },
     "metadata": {},
     "output_type": "display_data"
    },
    {
     "data": {
      "text/plain": [
       "Call:\n",
       "coxph(formula = Surv(hours_to_event, event) ~ baseline_b2_002 + \n",
       "    baseline_c2_002 + baseline_d2_002, data = event_related_fear_cox, \n",
       "    method = \"efron\")\n",
       "\n",
       "  n= 391, number of events= 311 \n",
       "\n",
       "                    coef exp(coef) se(coef)      z Pr(>|z|)  \n",
       "baseline_b2_002  0.10349   1.10903  0.04291  2.412   0.0159 *\n",
       "baseline_c2_002 -0.07202   0.93051  0.04606 -1.564   0.1179  \n",
       "baseline_d2_002 -0.02296   0.97730  0.04645 -0.494   0.6212  \n",
       "---\n",
       "Signif. codes:  0 ‘***’ 0.001 ‘**’ 0.01 ‘*’ 0.05 ‘.’ 0.1 ‘ ’ 1\n",
       "\n",
       "                exp(coef) exp(-coef) lower .95 upper .95\n",
       "baseline_b2_002    1.1090     0.9017    1.0196     1.206\n",
       "baseline_c2_002    0.9305     1.0747    0.8502     1.018\n",
       "baseline_d2_002    0.9773     1.0232    0.8923     1.070\n",
       "\n",
       "Concordance= 0.537  (se = 0.018 )\n",
       "Rsquare= 0.016   (max possible= 1 )\n",
       "Likelihood ratio test= 6.41  on 3 df,   p=0.09348\n",
       "Wald test            = 6.43  on 3 df,   p=0.09251\n",
       "Score (logrank) test = 6.4  on 3 df,   p=0.09353\n"
      ]
     },
     "metadata": {},
     "output_type": "display_data"
    }
   ],
   "source": [
    "cr = coxph(Surv(hours_to_event,event) ~ baseline_b2_002+baseline_c2_002+baseline_d2_002,data=event_related_fear_cox,method=\"efron\")\n",
    "cr\n",
    "summary(cr)"
   ]
  },
  {
   "cell_type": "markdown",
   "metadata": {},
   "source": [
    "## Cox regression with principal components and Leikert scale scores - causal attribution"
   ]
  },
  {
   "cell_type": "markdown",
   "metadata": {},
   "source": [
    "## Compute principal components for baseline predictors"
   ]
  },
  {
   "cell_type": "code",
   "execution_count": 35,
   "metadata": {},
   "outputs": [
    {
     "name": "stdout",
     "output_type": "stream",
     "text": [
      "'data.frame':\t389 obs. of  8 variables:\n",
      " $ isg_no         : num  10587 10636 10657 10664 10671 ...\n",
      " $ event          : num  1 1 1 0 1 1 0 1 1 1 ...\n",
      " $ hours_to_event : num  25.62 25.94 2.98 2088 114.74 ...\n",
      " $ baseline_e1_004: num  5 3 4 4 3 5 5 4 3 3 ...\n",
      " $ baseline_e2_001: num  2 5 3 3 3 5 5 5 3 5 ...\n",
      " $ baseline_e2_002: num  2 5 3 2 3 5 5 5 3 5 ...\n",
      " $ baseline_e2_003: num  4 5 3 3 5 5 5 5 4 5 ...\n",
      " $ baseline_e2_004: num  3 4 3 3 3 5 5 4 4 4 ...\n",
      " - attr(*, \"na.action\")=Class 'omit'  Named int [1:45] 12 68 84 87 113 395 396 397 398 399 ...\n",
      "  .. ..- attr(*, \"names\")= chr [1:45] \"12\" \"68\" \"84\" \"87\" ...\n"
     ]
    }
   ],
   "source": [
    "keeplist = c('isg_no','event','hours_to_event',\n",
    "            'baseline_e1_004','baseline_e2_001','baseline_e2_002','baseline_e2_003','baseline_e2_004')\n",
    "\n",
    "causal_attribution = na.omit(coxreg[,keeplist])\n",
    "str(causal_attribution)"
   ]
  },
  {
   "cell_type": "code",
   "execution_count": 36,
   "metadata": {},
   "outputs": [
    {
     "name": "stdout",
     "output_type": "stream",
     "text": [
      "'data.frame':\t389 obs. of  5 variables:\n",
      " $ baseline_e1_004: num  5 3 4 4 3 5 5 4 3 3 ...\n",
      " $ baseline_e2_001: num  2 5 3 3 3 5 5 5 3 5 ...\n",
      " $ baseline_e2_002: num  2 5 3 2 3 5 5 5 3 5 ...\n",
      " $ baseline_e2_003: num  4 5 3 3 5 5 5 5 4 5 ...\n",
      " $ baseline_e2_004: num  3 4 3 3 3 5 5 4 4 4 ...\n"
     ]
    }
   ],
   "source": [
    "causal_attribution2 = causal_attribution[,4:8]\n",
    "str(causal_attribution2)"
   ]
  },
  {
   "cell_type": "code",
   "execution_count": 37,
   "metadata": {},
   "outputs": [
    {
     "data": {
      "text/plain": [
       " baseline_e1_004 baseline_e2_001 baseline_e2_002 baseline_e2_003\n",
       " Min.   :1.000   Min.   :1.00    Min.   :1.000   Min.   :1.000  \n",
       " 1st Qu.:4.000   1st Qu.:3.00    1st Qu.:3.000   1st Qu.:4.000  \n",
       " Median :4.000   Median :4.00    Median :4.000   Median :5.000  \n",
       " Mean   :3.913   Mean   :3.54    Mean   :3.841   Mean   :4.442  \n",
       " 3rd Qu.:5.000   3rd Qu.:5.00    3rd Qu.:5.000   3rd Qu.:5.000  \n",
       " Max.   :5.000   Max.   :5.00    Max.   :5.000   Max.   :5.000  \n",
       " baseline_e2_004\n",
       " Min.   :1.000  \n",
       " 1st Qu.:3.000  \n",
       " Median :4.000  \n",
       " Mean   :3.594  \n",
       " 3rd Qu.:5.000  \n",
       " Max.   :5.000  "
      ]
     },
     "metadata": {},
     "output_type": "display_data"
    }
   ],
   "source": [
    "summary(causal_attribution2)"
   ]
  },
  {
   "cell_type": "code",
   "execution_count": 38,
   "metadata": {},
   "outputs": [
    {
     "data": {
      "text/html": [
       "<table>\n",
       "<thead><tr><th></th><th scope=col>baseline_e1_004</th><th scope=col>baseline_e2_001</th><th scope=col>baseline_e2_002</th><th scope=col>baseline_e2_003</th><th scope=col>baseline_e2_004</th></tr></thead>\n",
       "<tbody>\n",
       "\t<tr><th scope=row>1</th><td>5</td><td>2</td><td>2</td><td>4</td><td>3</td></tr>\n",
       "\t<tr><th scope=row>2</th><td>3</td><td>5</td><td>5</td><td>5</td><td>4</td></tr>\n",
       "\t<tr><th scope=row>3</th><td>4</td><td>3</td><td>3</td><td>3</td><td>3</td></tr>\n",
       "\t<tr><th scope=row>4</th><td>4</td><td>3</td><td>2</td><td>3</td><td>3</td></tr>\n",
       "\t<tr><th scope=row>5</th><td>3</td><td>3</td><td>3</td><td>5</td><td>3</td></tr>\n",
       "\t<tr><th scope=row>6</th><td>5</td><td>5</td><td>5</td><td>5</td><td>5</td></tr>\n",
       "\t<tr><th scope=row>7</th><td>5</td><td>5</td><td>5</td><td>5</td><td>5</td></tr>\n",
       "\t<tr><th scope=row>8</th><td>4</td><td>5</td><td>5</td><td>5</td><td>4</td></tr>\n",
       "\t<tr><th scope=row>9</th><td>3</td><td>3</td><td>3</td><td>4</td><td>4</td></tr>\n",
       "\t<tr><th scope=row>10</th><td>3</td><td>5</td><td>5</td><td>5</td><td>4</td></tr>\n",
       "\t<tr><th scope=row>11</th><td>4</td><td>5</td><td>5</td><td>5</td><td>5</td></tr>\n",
       "\t<tr><th scope=row>13</th><td>4</td><td>4</td><td>5</td><td>5</td><td>5</td></tr>\n",
       "\t<tr><th scope=row>14</th><td>5</td><td>5</td><td>5</td><td>3</td><td>4</td></tr>\n",
       "\t<tr><th scope=row>15</th><td>4</td><td>3</td><td>3</td><td>4</td><td>4</td></tr>\n",
       "\t<tr><th scope=row>16</th><td>5</td><td>5</td><td>5</td><td>5</td><td>5</td></tr>\n",
       "\t<tr><th scope=row>17</th><td>3</td><td>3</td><td>3</td><td>3</td><td>2</td></tr>\n",
       "\t<tr><th scope=row>18</th><td>4</td><td>4</td><td>4</td><td>5</td><td>4</td></tr>\n",
       "\t<tr><th scope=row>19</th><td>3</td><td>3</td><td>4</td><td>5</td><td>2</td></tr>\n",
       "\t<tr><th scope=row>20</th><td>5</td><td>5</td><td>5</td><td>5</td><td>4</td></tr>\n",
       "\t<tr><th scope=row>21</th><td>4</td><td>4</td><td>4</td><td>4</td><td>4</td></tr>\n",
       "\t<tr><th scope=row>22</th><td>3</td><td>1</td><td>4</td><td>5</td><td>2</td></tr>\n",
       "\t<tr><th scope=row>23</th><td>3</td><td>3</td><td>3</td><td>1</td><td>3</td></tr>\n",
       "\t<tr><th scope=row>24</th><td>3</td><td>1</td><td>1</td><td>1</td><td>1</td></tr>\n",
       "\t<tr><th scope=row>25</th><td>2</td><td>1</td><td>2</td><td>3</td><td>2</td></tr>\n",
       "\t<tr><th scope=row>26</th><td>2</td><td>2</td><td>2</td><td>4</td><td>3</td></tr>\n",
       "\t<tr><th scope=row>27</th><td>4</td><td>5</td><td>5</td><td>5</td><td>4</td></tr>\n",
       "\t<tr><th scope=row>28</th><td>5</td><td>5</td><td>5</td><td>5</td><td>5</td></tr>\n",
       "\t<tr><th scope=row>29</th><td>4</td><td>5</td><td>5</td><td>5</td><td>4</td></tr>\n",
       "\t<tr><th scope=row>30</th><td>3</td><td>3</td><td>3</td><td>5</td><td>4</td></tr>\n",
       "\t<tr><th scope=row>31</th><td>5</td><td>3</td><td>1</td><td>1</td><td>4</td></tr>\n",
       "\t<tr><th scope=row>⋮</th><td>⋮</td><td>⋮</td><td>⋮</td><td>⋮</td><td>⋮</td></tr>\n",
       "\t<tr><th scope=row>365</th><td>4</td><td>2</td><td>4</td><td>5</td><td>4</td></tr>\n",
       "\t<tr><th scope=row>366</th><td>4</td><td>4</td><td>4</td><td>5</td><td>4</td></tr>\n",
       "\t<tr><th scope=row>367</th><td>4</td><td>4</td><td>4</td><td>4</td><td>2</td></tr>\n",
       "\t<tr><th scope=row>368</th><td>5</td><td>5</td><td>5</td><td>1</td><td>5</td></tr>\n",
       "\t<tr><th scope=row>369</th><td>4</td><td>5</td><td>5</td><td>5</td><td>5</td></tr>\n",
       "\t<tr><th scope=row>370</th><td>4</td><td>2</td><td>4</td><td>5</td><td>4</td></tr>\n",
       "\t<tr><th scope=row>371</th><td>5</td><td>5</td><td>5</td><td>5</td><td>5</td></tr>\n",
       "\t<tr><th scope=row>372</th><td>5</td><td>5</td><td>5</td><td>5</td><td>5</td></tr>\n",
       "\t<tr><th scope=row>373</th><td>5</td><td>5</td><td>5</td><td>5</td><td>3</td></tr>\n",
       "\t<tr><th scope=row>374</th><td>5</td><td>5</td><td>5</td><td>5</td><td>5</td></tr>\n",
       "\t<tr><th scope=row>375</th><td>4</td><td>4</td><td>4</td><td>3</td><td>5</td></tr>\n",
       "\t<tr><th scope=row>376</th><td>5</td><td>5</td><td>5</td><td>3</td><td>5</td></tr>\n",
       "\t<tr><th scope=row>377</th><td>5</td><td>1</td><td>5</td><td>5</td><td>5</td></tr>\n",
       "\t<tr><th scope=row>378</th><td>5</td><td>5</td><td>5</td><td>5</td><td>5</td></tr>\n",
       "\t<tr><th scope=row>379</th><td>4</td><td>3</td><td>4</td><td>5</td><td>5</td></tr>\n",
       "\t<tr><th scope=row>380</th><td>3</td><td>1</td><td>1</td><td>5</td><td>1</td></tr>\n",
       "\t<tr><th scope=row>381</th><td>1</td><td>1</td><td>1</td><td>5</td><td>1</td></tr>\n",
       "\t<tr><th scope=row>382</th><td>5</td><td>3</td><td>4</td><td>5</td><td>3</td></tr>\n",
       "\t<tr><th scope=row>383</th><td>5</td><td>5</td><td>5</td><td>5</td><td>5</td></tr>\n",
       "\t<tr><th scope=row>384</th><td>5</td><td>1</td><td>1</td><td>1</td><td>3</td></tr>\n",
       "\t<tr><th scope=row>385</th><td>5</td><td>4</td><td>4</td><td>5</td><td>5</td></tr>\n",
       "\t<tr><th scope=row>386</th><td>4</td><td>4</td><td>4</td><td>4</td><td>4</td></tr>\n",
       "\t<tr><th scope=row>387</th><td>5</td><td>5</td><td>4</td><td>5</td><td>3</td></tr>\n",
       "\t<tr><th scope=row>388</th><td>5</td><td>5</td><td>5</td><td>5</td><td>5</td></tr>\n",
       "\t<tr><th scope=row>389</th><td>5</td><td>3</td><td>3</td><td>5</td><td>3</td></tr>\n",
       "\t<tr><th scope=row>390</th><td>2</td><td>4</td><td>4</td><td>5</td><td>3</td></tr>\n",
       "\t<tr><th scope=row>391</th><td>4</td><td>1</td><td>5</td><td>4</td><td>2</td></tr>\n",
       "\t<tr><th scope=row>392</th><td>1</td><td>1</td><td>1</td><td>5</td><td>1</td></tr>\n",
       "\t<tr><th scope=row>393</th><td>5</td><td>4</td><td>4</td><td>4</td><td>5</td></tr>\n",
       "\t<tr><th scope=row>394</th><td>1</td><td>1</td><td>1</td><td>5</td><td>2</td></tr>\n",
       "</tbody>\n",
       "</table>\n"
      ],
      "text/latex": [
       "\\begin{tabular}{r|lllll}\n",
       "  & baseline\\_e1\\_004 & baseline\\_e2\\_001 & baseline\\_e2\\_002 & baseline\\_e2\\_003 & baseline\\_e2\\_004\\\\\n",
       "\\hline\n",
       "\t1 & 5 & 2 & 2 & 4 & 3\\\\\n",
       "\t2 & 3 & 5 & 5 & 5 & 4\\\\\n",
       "\t3 & 4 & 3 & 3 & 3 & 3\\\\\n",
       "\t4 & 4 & 3 & 2 & 3 & 3\\\\\n",
       "\t5 & 3 & 3 & 3 & 5 & 3\\\\\n",
       "\t6 & 5 & 5 & 5 & 5 & 5\\\\\n",
       "\t7 & 5 & 5 & 5 & 5 & 5\\\\\n",
       "\t8 & 4 & 5 & 5 & 5 & 4\\\\\n",
       "\t9 & 3 & 3 & 3 & 4 & 4\\\\\n",
       "\t10 & 3 & 5 & 5 & 5 & 4\\\\\n",
       "\t11 & 4 & 5 & 5 & 5 & 5\\\\\n",
       "\t13 & 4 & 4 & 5 & 5 & 5\\\\\n",
       "\t14 & 5 & 5 & 5 & 3 & 4\\\\\n",
       "\t15 & 4 & 3 & 3 & 4 & 4\\\\\n",
       "\t16 & 5 & 5 & 5 & 5 & 5\\\\\n",
       "\t17 & 3 & 3 & 3 & 3 & 2\\\\\n",
       "\t18 & 4 & 4 & 4 & 5 & 4\\\\\n",
       "\t19 & 3 & 3 & 4 & 5 & 2\\\\\n",
       "\t20 & 5 & 5 & 5 & 5 & 4\\\\\n",
       "\t21 & 4 & 4 & 4 & 4 & 4\\\\\n",
       "\t22 & 3 & 1 & 4 & 5 & 2\\\\\n",
       "\t23 & 3 & 3 & 3 & 1 & 3\\\\\n",
       "\t24 & 3 & 1 & 1 & 1 & 1\\\\\n",
       "\t25 & 2 & 1 & 2 & 3 & 2\\\\\n",
       "\t26 & 2 & 2 & 2 & 4 & 3\\\\\n",
       "\t27 & 4 & 5 & 5 & 5 & 4\\\\\n",
       "\t28 & 5 & 5 & 5 & 5 & 5\\\\\n",
       "\t29 & 4 & 5 & 5 & 5 & 4\\\\\n",
       "\t30 & 3 & 3 & 3 & 5 & 4\\\\\n",
       "\t31 & 5 & 3 & 1 & 1 & 4\\\\\n",
       "\t⋮ & ⋮ & ⋮ & ⋮ & ⋮ & ⋮\\\\\n",
       "\t365 & 4 & 2 & 4 & 5 & 4\\\\\n",
       "\t366 & 4 & 4 & 4 & 5 & 4\\\\\n",
       "\t367 & 4 & 4 & 4 & 4 & 2\\\\\n",
       "\t368 & 5 & 5 & 5 & 1 & 5\\\\\n",
       "\t369 & 4 & 5 & 5 & 5 & 5\\\\\n",
       "\t370 & 4 & 2 & 4 & 5 & 4\\\\\n",
       "\t371 & 5 & 5 & 5 & 5 & 5\\\\\n",
       "\t372 & 5 & 5 & 5 & 5 & 5\\\\\n",
       "\t373 & 5 & 5 & 5 & 5 & 3\\\\\n",
       "\t374 & 5 & 5 & 5 & 5 & 5\\\\\n",
       "\t375 & 4 & 4 & 4 & 3 & 5\\\\\n",
       "\t376 & 5 & 5 & 5 & 3 & 5\\\\\n",
       "\t377 & 5 & 1 & 5 & 5 & 5\\\\\n",
       "\t378 & 5 & 5 & 5 & 5 & 5\\\\\n",
       "\t379 & 4 & 3 & 4 & 5 & 5\\\\\n",
       "\t380 & 3 & 1 & 1 & 5 & 1\\\\\n",
       "\t381 & 1 & 1 & 1 & 5 & 1\\\\\n",
       "\t382 & 5 & 3 & 4 & 5 & 3\\\\\n",
       "\t383 & 5 & 5 & 5 & 5 & 5\\\\\n",
       "\t384 & 5 & 1 & 1 & 1 & 3\\\\\n",
       "\t385 & 5 & 4 & 4 & 5 & 5\\\\\n",
       "\t386 & 4 & 4 & 4 & 4 & 4\\\\\n",
       "\t387 & 5 & 5 & 4 & 5 & 3\\\\\n",
       "\t388 & 5 & 5 & 5 & 5 & 5\\\\\n",
       "\t389 & 5 & 3 & 3 & 5 & 3\\\\\n",
       "\t390 & 2 & 4 & 4 & 5 & 3\\\\\n",
       "\t391 & 4 & 1 & 5 & 4 & 2\\\\\n",
       "\t392 & 1 & 1 & 1 & 5 & 1\\\\\n",
       "\t393 & 5 & 4 & 4 & 4 & 5\\\\\n",
       "\t394 & 1 & 1 & 1 & 5 & 2\\\\\n",
       "\\end{tabular}\n"
      ],
      "text/markdown": [
       "\n",
       "| <!--/--> | baseline_e1_004 | baseline_e2_001 | baseline_e2_002 | baseline_e2_003 | baseline_e2_004 | \n",
       "|---|---|---|---|---|---|---|---|---|---|---|---|---|---|---|---|---|---|---|---|---|---|---|---|---|---|---|---|---|---|---|---|---|---|---|---|---|---|---|---|---|---|---|---|---|---|---|---|---|---|---|---|---|---|---|---|---|---|---|---|---|\n",
       "| 1 | 5 | 2 | 2 | 4 | 3 | \n",
       "| 2 | 3 | 5 | 5 | 5 | 4 | \n",
       "| 3 | 4 | 3 | 3 | 3 | 3 | \n",
       "| 4 | 4 | 3 | 2 | 3 | 3 | \n",
       "| 5 | 3 | 3 | 3 | 5 | 3 | \n",
       "| 6 | 5 | 5 | 5 | 5 | 5 | \n",
       "| 7 | 5 | 5 | 5 | 5 | 5 | \n",
       "| 8 | 4 | 5 | 5 | 5 | 4 | \n",
       "| 9 | 3 | 3 | 3 | 4 | 4 | \n",
       "| 10 | 3 | 5 | 5 | 5 | 4 | \n",
       "| 11 | 4 | 5 | 5 | 5 | 5 | \n",
       "| 13 | 4 | 4 | 5 | 5 | 5 | \n",
       "| 14 | 5 | 5 | 5 | 3 | 4 | \n",
       "| 15 | 4 | 3 | 3 | 4 | 4 | \n",
       "| 16 | 5 | 5 | 5 | 5 | 5 | \n",
       "| 17 | 3 | 3 | 3 | 3 | 2 | \n",
       "| 18 | 4 | 4 | 4 | 5 | 4 | \n",
       "| 19 | 3 | 3 | 4 | 5 | 2 | \n",
       "| 20 | 5 | 5 | 5 | 5 | 4 | \n",
       "| 21 | 4 | 4 | 4 | 4 | 4 | \n",
       "| 22 | 3 | 1 | 4 | 5 | 2 | \n",
       "| 23 | 3 | 3 | 3 | 1 | 3 | \n",
       "| 24 | 3 | 1 | 1 | 1 | 1 | \n",
       "| 25 | 2 | 1 | 2 | 3 | 2 | \n",
       "| 26 | 2 | 2 | 2 | 4 | 3 | \n",
       "| 27 | 4 | 5 | 5 | 5 | 4 | \n",
       "| 28 | 5 | 5 | 5 | 5 | 5 | \n",
       "| 29 | 4 | 5 | 5 | 5 | 4 | \n",
       "| 30 | 3 | 3 | 3 | 5 | 4 | \n",
       "| 31 | 5 | 3 | 1 | 1 | 4 | \n",
       "| ⋮ | ⋮ | ⋮ | ⋮ | ⋮ | ⋮ | \n",
       "| 365 | 4 | 2 | 4 | 5 | 4 | \n",
       "| 366 | 4 | 4 | 4 | 5 | 4 | \n",
       "| 367 | 4 | 4 | 4 | 4 | 2 | \n",
       "| 368 | 5 | 5 | 5 | 1 | 5 | \n",
       "| 369 | 4 | 5 | 5 | 5 | 5 | \n",
       "| 370 | 4 | 2 | 4 | 5 | 4 | \n",
       "| 371 | 5 | 5 | 5 | 5 | 5 | \n",
       "| 372 | 5 | 5 | 5 | 5 | 5 | \n",
       "| 373 | 5 | 5 | 5 | 5 | 3 | \n",
       "| 374 | 5 | 5 | 5 | 5 | 5 | \n",
       "| 375 | 4 | 4 | 4 | 3 | 5 | \n",
       "| 376 | 5 | 5 | 5 | 3 | 5 | \n",
       "| 377 | 5 | 1 | 5 | 5 | 5 | \n",
       "| 378 | 5 | 5 | 5 | 5 | 5 | \n",
       "| 379 | 4 | 3 | 4 | 5 | 5 | \n",
       "| 380 | 3 | 1 | 1 | 5 | 1 | \n",
       "| 381 | 1 | 1 | 1 | 5 | 1 | \n",
       "| 382 | 5 | 3 | 4 | 5 | 3 | \n",
       "| 383 | 5 | 5 | 5 | 5 | 5 | \n",
       "| 384 | 5 | 1 | 1 | 1 | 3 | \n",
       "| 385 | 5 | 4 | 4 | 5 | 5 | \n",
       "| 386 | 4 | 4 | 4 | 4 | 4 | \n",
       "| 387 | 5 | 5 | 4 | 5 | 3 | \n",
       "| 388 | 5 | 5 | 5 | 5 | 5 | \n",
       "| 389 | 5 | 3 | 3 | 5 | 3 | \n",
       "| 390 | 2 | 4 | 4 | 5 | 3 | \n",
       "| 391 | 4 | 1 | 5 | 4 | 2 | \n",
       "| 392 | 1 | 1 | 1 | 5 | 1 | \n",
       "| 393 | 5 | 4 | 4 | 4 | 5 | \n",
       "| 394 | 1 | 1 | 1 | 5 | 2 | \n",
       "\n",
       "\n"
      ],
      "text/plain": [
       "    baseline_e1_004 baseline_e2_001 baseline_e2_002 baseline_e2_003\n",
       "1   5               2               2               4              \n",
       "2   3               5               5               5              \n",
       "3   4               3               3               3              \n",
       "4   4               3               2               3              \n",
       "5   3               3               3               5              \n",
       "6   5               5               5               5              \n",
       "7   5               5               5               5              \n",
       "8   4               5               5               5              \n",
       "9   3               3               3               4              \n",
       "10  3               5               5               5              \n",
       "11  4               5               5               5              \n",
       "13  4               4               5               5              \n",
       "14  5               5               5               3              \n",
       "15  4               3               3               4              \n",
       "16  5               5               5               5              \n",
       "17  3               3               3               3              \n",
       "18  4               4               4               5              \n",
       "19  3               3               4               5              \n",
       "20  5               5               5               5              \n",
       "21  4               4               4               4              \n",
       "22  3               1               4               5              \n",
       "23  3               3               3               1              \n",
       "24  3               1               1               1              \n",
       "25  2               1               2               3              \n",
       "26  2               2               2               4              \n",
       "27  4               5               5               5              \n",
       "28  5               5               5               5              \n",
       "29  4               5               5               5              \n",
       "30  3               3               3               5              \n",
       "31  5               3               1               1              \n",
       "⋮   ⋮               ⋮               ⋮               ⋮              \n",
       "365 4               2               4               5              \n",
       "366 4               4               4               5              \n",
       "367 4               4               4               4              \n",
       "368 5               5               5               1              \n",
       "369 4               5               5               5              \n",
       "370 4               2               4               5              \n",
       "371 5               5               5               5              \n",
       "372 5               5               5               5              \n",
       "373 5               5               5               5              \n",
       "374 5               5               5               5              \n",
       "375 4               4               4               3              \n",
       "376 5               5               5               3              \n",
       "377 5               1               5               5              \n",
       "378 5               5               5               5              \n",
       "379 4               3               4               5              \n",
       "380 3               1               1               5              \n",
       "381 1               1               1               5              \n",
       "382 5               3               4               5              \n",
       "383 5               5               5               5              \n",
       "384 5               1               1               1              \n",
       "385 5               4               4               5              \n",
       "386 4               4               4               4              \n",
       "387 5               5               4               5              \n",
       "388 5               5               5               5              \n",
       "389 5               3               3               5              \n",
       "390 2               4               4               5              \n",
       "391 4               1               5               4              \n",
       "392 1               1               1               5              \n",
       "393 5               4               4               4              \n",
       "394 1               1               1               5              \n",
       "    baseline_e2_004\n",
       "1   3              \n",
       "2   4              \n",
       "3   3              \n",
       "4   3              \n",
       "5   3              \n",
       "6   5              \n",
       "7   5              \n",
       "8   4              \n",
       "9   4              \n",
       "10  4              \n",
       "11  5              \n",
       "13  5              \n",
       "14  4              \n",
       "15  4              \n",
       "16  5              \n",
       "17  2              \n",
       "18  4              \n",
       "19  2              \n",
       "20  4              \n",
       "21  4              \n",
       "22  2              \n",
       "23  3              \n",
       "24  1              \n",
       "25  2              \n",
       "26  3              \n",
       "27  4              \n",
       "28  5              \n",
       "29  4              \n",
       "30  4              \n",
       "31  4              \n",
       "⋮   ⋮              \n",
       "365 4              \n",
       "366 4              \n",
       "367 2              \n",
       "368 5              \n",
       "369 5              \n",
       "370 4              \n",
       "371 5              \n",
       "372 5              \n",
       "373 3              \n",
       "374 5              \n",
       "375 5              \n",
       "376 5              \n",
       "377 5              \n",
       "378 5              \n",
       "379 5              \n",
       "380 1              \n",
       "381 1              \n",
       "382 3              \n",
       "383 5              \n",
       "384 3              \n",
       "385 5              \n",
       "386 4              \n",
       "387 3              \n",
       "388 5              \n",
       "389 3              \n",
       "390 3              \n",
       "391 2              \n",
       "392 1              \n",
       "393 5              \n",
       "394 2              "
      ]
     },
     "metadata": {},
     "output_type": "display_data"
    }
   ],
   "source": [
    "causal_attribution2"
   ]
  },
  {
   "cell_type": "code",
   "execution_count": 39,
   "metadata": {
    "collapsed": true
   },
   "outputs": [],
   "source": [
    "pc = princomp(causal_attribution2,scores=TRUE)"
   ]
  },
  {
   "cell_type": "code",
   "execution_count": 40,
   "metadata": {},
   "outputs": [
    {
     "name": "stdout",
     "output_type": "stream",
     "text": [
      "List of 7\n",
      " $ sdev    : Named num [1:5] 2.212 0.946 0.83 0.709 0.65\n",
      "  ..- attr(*, \"names\")= chr [1:5] \"Comp.1\" \"Comp.2\" \"Comp.3\" \"Comp.4\" ...\n",
      " $ loadings: loadings [1:5, 1:5] -0.457 -0.56 -0.487 -0.167 -0.461 ...\n",
      "  ..- attr(*, \"dimnames\")=List of 2\n",
      "  .. ..$ : chr [1:5] \"baseline_e1_004\" \"baseline_e2_001\" \"baseline_e2_002\" \"baseline_e2_003\" ...\n",
      "  .. ..$ : chr [1:5] \"Comp.1\" \"Comp.2\" \"Comp.3\" \"Comp.4\" ...\n",
      " $ center  : Named num [1:5] 3.91 3.54 3.84 4.44 3.59\n",
      "  ..- attr(*, \"names\")= chr [1:5] \"baseline_e1_004\" \"baseline_e2_001\" \"baseline_e2_002\" \"baseline_e2_003\" ...\n",
      " $ scale   : Named num [1:5] 1 1 1 1 1\n",
      "  ..- attr(*, \"names\")= chr [1:5] \"baseline_e1_004\" \"baseline_e2_001\" \"baseline_e2_002\" \"baseline_e2_003\" ...\n",
      " $ n.obs   : int 389\n",
      " $ scores  : num [1:389, 1:5] 1.61 -1.25 1.19 1.67 1.31 ...\n",
      "  ..- attr(*, \"dimnames\")=List of 2\n",
      "  .. ..$ : chr [1:389] \"1\" \"2\" \"3\" \"4\" ...\n",
      "  .. ..$ : chr [1:5] \"Comp.1\" \"Comp.2\" \"Comp.3\" \"Comp.4\" ...\n",
      " $ call    : language princomp(x = causal_attribution2, scores = TRUE)\n",
      " - attr(*, \"class\")= chr \"princomp\"\n"
     ]
    }
   ],
   "source": [
    "str(pc)"
   ]
  },
  {
   "cell_type": "markdown",
   "metadata": {},
   "source": [
    "## Percent of variance"
   ]
  },
  {
   "cell_type": "code",
   "execution_count": 41,
   "metadata": {},
   "outputs": [
    {
     "data": {
      "text/html": [
       "<dl class=dl-horizontal>\n",
       "\t<dt>Comp.1</dt>\n",
       "\t\t<dd>66.1271466634311</dd>\n",
       "\t<dt>Comp.2</dt>\n",
       "\t\t<dd>12.0783368466196</dd>\n",
       "\t<dt>Comp.3</dt>\n",
       "\t\t<dd>9.29831772783618</dd>\n",
       "\t<dt>Comp.4</dt>\n",
       "\t\t<dd>6.78994781002331</dd>\n",
       "\t<dt>Comp.5</dt>\n",
       "\t\t<dd>5.7062509520898</dd>\n",
       "</dl>\n"
      ],
      "text/latex": [
       "\\begin{description*}\n",
       "\\item[Comp.1] 66.1271466634311\n",
       "\\item[Comp.2] 12.0783368466196\n",
       "\\item[Comp.3] 9.29831772783618\n",
       "\\item[Comp.4] 6.78994781002331\n",
       "\\item[Comp.5] 5.7062509520898\n",
       "\\end{description*}\n"
      ],
      "text/markdown": [
       "Comp.1\n",
       ":   66.1271466634311Comp.2\n",
       ":   12.0783368466196Comp.3\n",
       ":   9.29831772783618Comp.4\n",
       ":   6.78994781002331Comp.5\n",
       ":   5.7062509520898\n",
       "\n"
      ],
      "text/plain": [
       "   Comp.1    Comp.2    Comp.3    Comp.4    Comp.5 \n",
       "66.127147 12.078337  9.298318  6.789948  5.706251 "
      ]
     },
     "metadata": {},
     "output_type": "display_data"
    }
   ],
   "source": [
    "100*pc$sdev^2/sum(pc$sdev^2)     #percent of variance"
   ]
  },
  {
   "cell_type": "markdown",
   "metadata": {},
   "source": [
    "## Loadings"
   ]
  },
  {
   "cell_type": "code",
   "execution_count": 42,
   "metadata": {},
   "outputs": [
    {
     "data": {
      "text/plain": [
       "\n",
       "Loadings:\n",
       "                Comp.1 Comp.2 Comp.3 Comp.4 Comp.5\n",
       "baseline_e1_004 -0.457         0.858  0.217       \n",
       "baseline_e2_001 -0.560  0.105 -0.476  0.644  0.183\n",
       "baseline_e2_002 -0.487        -0.159 -0.310 -0.801\n",
       "baseline_e2_003 -0.167 -0.977                0.133\n",
       "baseline_e2_004 -0.461  0.163 -0.108 -0.665  0.554\n",
       "\n",
       "               Comp.1 Comp.2 Comp.3 Comp.4 Comp.5\n",
       "SS loadings       1.0    1.0    1.0    1.0    1.0\n",
       "Proportion Var    0.2    0.2    0.2    0.2    0.2\n",
       "Cumulative Var    0.2    0.4    0.6    0.8    1.0"
      ]
     },
     "metadata": {},
     "output_type": "display_data"
    }
   ],
   "source": [
    "pc$loadings"
   ]
  },
  {
   "cell_type": "markdown",
   "metadata": {},
   "source": [
    "## Add scores to dataframe and set up Cox regression flag"
   ]
  },
  {
   "cell_type": "code",
   "execution_count": 43,
   "metadata": {},
   "outputs": [
    {
     "name": "stdout",
     "output_type": "stream",
     "text": [
      "'data.frame':\t389 obs. of  11 variables:\n",
      " $ isg_no         : num  10587 10636 10657 10664 10671 ...\n",
      " $ event          : num  1 1 1 0 1 1 0 1 1 1 ...\n",
      " $ hours_to_event : num  25.62 25.94 2.98 2088 114.74 ...\n",
      " $ baseline_e1_004: num  5 3 4 4 3 5 5 4 3 3 ...\n",
      " $ baseline_e2_001: num  2 5 3 3 3 5 5 5 3 5 ...\n",
      " $ baseline_e2_002: num  2 5 3 2 3 5 5 5 3 5 ...\n",
      " $ baseline_e2_003: num  4 5 3 3 5 5 5 5 4 5 ...\n",
      " $ baseline_e2_004: num  3 4 3 3 3 5 5 4 4 4 ...\n",
      " $ pc1            : num  1.61 -1.25 1.19 1.67 1.31 ...\n",
      " $ pc2            : num  0.311 -0.432 1.282 1.304 -0.76 ...\n",
      " $ pc3            : num  2.018 -1.7 0.513 0.672 -0.321 ...\n"
     ]
    }
   ],
   "source": [
    "pc1 = pc$scores[,1]\n",
    "pc2 = pc$scores[,2]\n",
    "pc3 = pc$scores[,3]\n",
    "causal_attribution_cox = cbind(causal_attribution,pc1,pc2,pc3)\n",
    "str(causal_attribution_cox)"
   ]
  },
  {
   "cell_type": "markdown",
   "metadata": {},
   "source": [
    "## Cox regression on first three principal component scores"
   ]
  },
  {
   "cell_type": "code",
   "execution_count": 44,
   "metadata": {},
   "outputs": [
    {
     "data": {
      "text/plain": [
       "Call:\n",
       "coxph(formula = Surv(hours_to_event, event) ~ pc1 + pc2 + pc3, \n",
       "    data = causal_attribution_cox, method = \"efron\")\n",
       "\n",
       "      coef exp(coef) se(coef)    z      p\n",
       "pc1 0.0745    1.0774   0.0247 3.02 0.0026\n",
       "pc2 0.0344    1.0350   0.0575 0.60 0.5492\n",
       "pc3 0.0344    1.0350   0.0693 0.50 0.6201\n",
       "\n",
       "Likelihood ratio test=9.16  on 3 df, p=0.0273\n",
       "n= 389, number of events= 309 "
      ]
     },
     "metadata": {},
     "output_type": "display_data"
    },
    {
     "data": {
      "text/plain": [
       "Call:\n",
       "coxph(formula = Surv(hours_to_event, event) ~ pc1 + pc2 + pc3, \n",
       "    data = causal_attribution_cox, method = \"efron\")\n",
       "\n",
       "  n= 389, number of events= 309 \n",
       "\n",
       "       coef exp(coef) se(coef)     z Pr(>|z|)   \n",
       "pc1 0.07452   1.07736  0.02470 3.016  0.00256 **\n",
       "pc2 0.03445   1.03505  0.05752 0.599  0.54924   \n",
       "pc3 0.03437   1.03497  0.06933 0.496  0.62011   \n",
       "---\n",
       "Signif. codes:  0 ‘***’ 0.001 ‘**’ 0.01 ‘*’ 0.05 ‘.’ 0.1 ‘ ’ 1\n",
       "\n",
       "    exp(coef) exp(-coef) lower .95 upper .95\n",
       "pc1     1.077     0.9282    1.0264     1.131\n",
       "pc2     1.035     0.9661    0.9247     1.159\n",
       "pc3     1.035     0.9662    0.9035     1.186\n",
       "\n",
       "Concordance= 0.557  (se = 0.018 )\n",
       "Rsquare= 0.023   (max possible= 1 )\n",
       "Likelihood ratio test= 9.16  on 3 df,   p=0.02729\n",
       "Wald test            = 9.54  on 3 df,   p=0.0229\n",
       "Score (logrank) test = 9.59  on 3 df,   p=0.02238\n"
      ]
     },
     "metadata": {},
     "output_type": "display_data"
    }
   ],
   "source": [
    "cr = coxph(Surv(hours_to_event,event) ~ pc1+pc2+pc3,data=causal_attribution_cox,method=\"efron\")\n",
    "cr\n",
    "summary(cr)"
   ]
  },
  {
   "cell_type": "markdown",
   "metadata": {},
   "source": [
    "### Cox regression on Leikert scale scores"
   ]
  },
  {
   "cell_type": "code",
   "execution_count": 45,
   "metadata": {},
   "outputs": [
    {
     "data": {
      "text/plain": [
       "Call:\n",
       "coxph(formula = Surv(hours_to_event, event) ~ baseline_e1_004 + \n",
       "    baseline_e2_001 + baseline_e2_002 + baseline_e2_003 + baseline_e2_004, \n",
       "    data = causal_attribution_cox, method = \"efron\")\n",
       "\n",
       "                   coef exp(coef) se(coef)     z     p\n",
       "baseline_e1_004 -0.0214    0.9788   0.0645 -0.33 0.740\n",
       "baseline_e2_001 -0.1027    0.9024   0.0611 -1.68 0.093\n",
       "baseline_e2_002  0.0491    1.0504   0.0777  0.63 0.527\n",
       "baseline_e2_003 -0.0578    0.9438   0.0576 -1.00 0.315\n",
       "baseline_e2_004 -0.0496    0.9516   0.0735 -0.68 0.500\n",
       "\n",
       "Likelihood ratio test=10.7  on 5 df, p=0.057\n",
       "n= 389, number of events= 309 "
      ]
     },
     "metadata": {},
     "output_type": "display_data"
    },
    {
     "data": {
      "text/plain": [
       "Call:\n",
       "coxph(formula = Surv(hours_to_event, event) ~ baseline_e1_004 + \n",
       "    baseline_e2_001 + baseline_e2_002 + baseline_e2_003 + baseline_e2_004, \n",
       "    data = causal_attribution_cox, method = \"efron\")\n",
       "\n",
       "  n= 389, number of events= 309 \n",
       "\n",
       "                    coef exp(coef) se(coef)      z Pr(>|z|)  \n",
       "baseline_e1_004 -0.02138   0.97884  0.06452 -0.331    0.740  \n",
       "baseline_e2_001 -0.10269   0.90240  0.06114 -1.680    0.093 .\n",
       "baseline_e2_002  0.04914   1.05036  0.07770  0.632    0.527  \n",
       "baseline_e2_003 -0.05780   0.94384  0.05757 -1.004    0.315  \n",
       "baseline_e2_004 -0.04962   0.95159  0.07351 -0.675    0.500  \n",
       "---\n",
       "Signif. codes:  0 ‘***’ 0.001 ‘**’ 0.01 ‘*’ 0.05 ‘.’ 0.1 ‘ ’ 1\n",
       "\n",
       "                exp(coef) exp(-coef) lower .95 upper .95\n",
       "baseline_e1_004    0.9788     1.0216    0.8626     1.111\n",
       "baseline_e2_001    0.9024     1.1082    0.8005     1.017\n",
       "baseline_e2_002    1.0504     0.9521    0.9020     1.223\n",
       "baseline_e2_003    0.9438     1.0595    0.8431     1.057\n",
       "baseline_e2_004    0.9516     1.0509    0.8239     1.099\n",
       "\n",
       "Concordance= 0.553  (se = 0.018 )\n",
       "Rsquare= 0.027   (max possible= 1 )\n",
       "Likelihood ratio test= 10.73  on 5 df,   p=0.05698\n",
       "Wald test            = 11.07  on 5 df,   p=0.04996\n",
       "Score (logrank) test = 11.14  on 5 df,   p=0.04861\n"
      ]
     },
     "metadata": {},
     "output_type": "display_data"
    }
   ],
   "source": [
    "cr = coxph(Surv(hours_to_event,event) ~ baseline_e1_004+baseline_e2_001+baseline_e2_002+baseline_e2_003+baseline_e2_004,data=causal_attribution_cox,method=\"efron\")\n",
    "cr\n",
    "summary(cr)"
   ]
  },
  {
   "cell_type": "markdown",
   "metadata": {},
   "source": [
    "## Cox regression - actual severity"
   ]
  },
  {
   "cell_type": "code",
   "execution_count": 46,
   "metadata": {},
   "outputs": [
    {
     "data": {
      "text/plain": [
       "Call:\n",
       "coxph(formula = Surv(hours_to_event, event) ~ actual_severity, \n",
       "    data = coxreg, method = \"efron\")\n",
       "\n",
       "                  coef exp(coef) se(coef)     z       p\n",
       "actual_severity -0.758     0.469    0.107 -7.11 1.2e-12\n",
       "\n",
       "Likelihood ratio test=51.4  on 1 df, p=7.54e-13\n",
       "n= 394, number of events= 314 \n",
       "   (40 observations deleted due to missingness)"
      ]
     },
     "metadata": {},
     "output_type": "display_data"
    },
    {
     "data": {
      "text/plain": [
       "Call:\n",
       "coxph(formula = Surv(hours_to_event, event) ~ actual_severity, \n",
       "    data = coxreg, method = \"efron\")\n",
       "\n",
       "  n= 394, number of events= 314 \n",
       "   (40 observations deleted due to missingness)\n",
       "\n",
       "                   coef exp(coef) se(coef)      z Pr(>|z|)    \n",
       "actual_severity -0.7582    0.4685   0.1067 -7.105  1.2e-12 ***\n",
       "---\n",
       "Signif. codes:  0 ‘***’ 0.001 ‘**’ 0.01 ‘*’ 0.05 ‘.’ 0.1 ‘ ’ 1\n",
       "\n",
       "                exp(coef) exp(-coef) lower .95 upper .95\n",
       "actual_severity    0.4685      2.134    0.3801    0.5775\n",
       "\n",
       "Concordance= 0.599  (se = 0.015 )\n",
       "Rsquare= 0.122   (max possible= 1 )\n",
       "Likelihood ratio test= 51.4  on 1 df,   p=7.541e-13\n",
       "Wald test            = 50.48  on 1 df,   p=1.202e-12\n",
       "Score (logrank) test = 50.42  on 1 df,   p=1.242e-12\n"
      ]
     },
     "metadata": {},
     "output_type": "display_data"
    }
   ],
   "source": [
    "cr = coxph(Surv(hours_to_event,event) ~ actual_severity,data=coxreg,method=\"efron\")\n",
    "cr\n",
    "summary(cr)"
   ]
  },
  {
   "cell_type": "markdown",
   "metadata": {},
   "source": [
    "## Cox regression - TIMI"
   ]
  },
  {
   "cell_type": "code",
   "execution_count": 47,
   "metadata": {},
   "outputs": [
    {
     "data": {
      "text/plain": [
       "Call:\n",
       "coxph(formula = Surv(hours_to_event, event) ~ TIMI, data = coxreg, \n",
       "    method = \"efron\")\n",
       "\n",
       "        coef exp(coef) se(coef)    z      p\n",
       "TIMI -0.1180    0.8887   0.0454 -2.6 0.0094\n",
       "\n",
       "Likelihood ratio test=6.85  on 1 df, p=0.00885\n",
       "n= 394, number of events= 314 \n",
       "   (40 observations deleted due to missingness)"
      ]
     },
     "metadata": {},
     "output_type": "display_data"
    },
    {
     "data": {
      "text/plain": [
       "Call:\n",
       "coxph(formula = Surv(hours_to_event, event) ~ TIMI, data = coxreg, \n",
       "    method = \"efron\")\n",
       "\n",
       "  n= 394, number of events= 314 \n",
       "   (40 observations deleted due to missingness)\n",
       "\n",
       "        coef exp(coef) se(coef)      z Pr(>|z|)   \n",
       "TIMI -0.1180    0.8887   0.0454 -2.599  0.00936 **\n",
       "---\n",
       "Signif. codes:  0 ‘***’ 0.001 ‘**’ 0.01 ‘*’ 0.05 ‘.’ 0.1 ‘ ’ 1\n",
       "\n",
       "     exp(coef) exp(-coef) lower .95 upper .95\n",
       "TIMI    0.8887      1.125    0.8131    0.9714\n",
       "\n",
       "Concordance= 0.547  (se = 0.017 )\n",
       "Rsquare= 0.017   (max possible= 1 )\n",
       "Likelihood ratio test= 6.85  on 1 df,   p=0.008852\n",
       "Wald test            = 6.75  on 1 df,   p=0.009359\n",
       "Score (logrank) test = 6.77  on 1 df,   p=0.00928\n"
      ]
     },
     "metadata": {},
     "output_type": "display_data"
    }
   ],
   "source": [
    "cr = coxph(Surv(hours_to_event,event) ~ TIMI,data=coxreg,method=\"efron\")\n",
    "cr\n",
    "summary(cr)"
   ]
  }
 ],
 "metadata": {
  "kernelspec": {
   "display_name": "R",
   "language": "R",
   "name": "ir"
  },
  "language_info": {
   "codemirror_mode": "r",
   "file_extension": ".r",
   "mimetype": "text/x-r-source",
   "name": "R",
   "pygments_lexer": "r",
   "version": "3.4.1"
  }
 },
 "nbformat": 4,
 "nbformat_minor": 2
}
