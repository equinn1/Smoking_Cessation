{
 "cells": [
  {
   "cell_type": "code",
   "execution_count": null,
   "metadata": {
    "collapsed": false
   },
   "outputs": [],
   "source": [
    "import pandas as pd\n",
    "import numpy as np\n",
    "import savReaderWriter as spss\n",
    "import os\n",
    "\n",
    "savFileName = \"SEMIII_Lapse_CW_1.sav\""
   ]
  },
  {
   "cell_type": "code",
   "execution_count": null,
   "metadata": {
    "collapsed": false,
    "scrolled": true
   },
   "outputs": [],
   "source": [
    "with spss.SavHeaderReader(savFileName) as header:\n",
    "    metadata = header.dataDictionary()\n",
    "    print(metadata.keys())"
   ]
  },
  {
   "cell_type": "code",
   "execution_count": null,
   "metadata": {
    "collapsed": false
   },
   "outputs": [],
   "source": [
    "vl = metadata.get(\"varNames\")\n",
    "vlbl = metadata.get(\"varLabels\")\n",
    "valbl = metadata.get(\"valueLabels\")\n",
    "lblkeys = valbl.keys()\n",
    "for key in sorted(vl):\n",
    "    print(key + '    ' + vlbl[key])\n",
    "    if (key in lblkeys):\n",
    "        lbls = valbl[key]\n",
    "        for vkey in lbls:\n",
    "            print('    '+str(vkey) + ' ' +lbls[vkey] )"
   ]
  }
 ],
 "metadata": {
  "kernelspec": {
   "display_name": "Python 2",
   "language": "python",
   "name": "python2"
  },
  "language_info": {
   "codemirror_mode": {
    "name": "ipython",
    "version": 2
   },
   "file_extension": ".py",
   "mimetype": "text/x-python",
   "name": "python",
   "nbconvert_exporter": "python",
   "pygments_lexer": "ipython2",
   "version": "2.7.12"
  }
 },
 "nbformat": 4,
 "nbformat_minor": 1
}
